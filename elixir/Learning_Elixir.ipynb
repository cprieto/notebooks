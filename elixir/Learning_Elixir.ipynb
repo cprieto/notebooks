{
 "cells": [
  {
   "cell_type": "markdown",
   "metadata": {},
   "source": [
    "# Types"
   ]
  },
  {
   "cell_type": "markdown",
   "metadata": {},
   "source": [
    "Numbers in Elixir are prety simple and straightforward, `integers` and `floats` are like any other programming language (there is no distinction between _floats_ or _longs_, and floats are 64bit in precision. _Octal_, _Hexadecimal_ and _Binary_ all starts with `0` but follow by `o`, `x` or `b`."
   ]
  },
  {
   "cell_type": "code",
   "execution_count": 1,
   "metadata": {},
   "outputs": [
    {
     "data": {
      "text/plain": [
       "511"
      ]
     },
     "execution_count": 1,
     "metadata": {},
     "output_type": "execute_result"
    }
   ],
   "source": [
    "511         # Integer\n",
    "511.0       # Float\n",
    "0o777       # Octal\n",
    "0x1fF       # Hex\n",
    "0b111111111 # Binary"
   ]
  },
  {
   "cell_type": "markdown",
   "metadata": {},
   "source": [
    "We have, as languages like Ruby and Erlang, the concept of symbols, they are sometimes called `atoms`"
   ]
  },
  {
   "cell_type": "code",
   "execution_count": 2,
   "metadata": {},
   "outputs": [
    {
     "data": {
      "text/plain": [
       ":hello"
      ]
     },
     "execution_count": 2,
     "metadata": {},
     "output_type": "execute_result"
    }
   ],
   "source": [
    ":hello"
   ]
  },
  {
   "cell_type": "markdown",
   "metadata": {},
   "source": [
    "We have booleans, but `true` and `false` are actually symbols too"
   ]
  },
  {
   "cell_type": "code",
   "execution_count": 3,
   "metadata": {},
   "outputs": [
    {
     "data": {
      "text/plain": [
       "true"
      ]
     },
     "execution_count": 3,
     "metadata": {},
     "output_type": "execute_result"
    }
   ],
   "source": [
    "true == :true"
   ]
  },
  {
   "cell_type": "markdown",
   "metadata": {},
   "source": [
    "The same operators of boolean exists in Elixir as well:"
   ]
  },
  {
   "cell_type": "code",
   "execution_count": 4,
   "metadata": {},
   "outputs": [
    {
     "data": {
      "text/plain": [
       "true"
      ]
     },
     "execution_count": 4,
     "metadata": {},
     "output_type": "execute_result"
    }
   ],
   "source": [
    "true and false or true"
   ]
  },
  {
   "cell_type": "markdown",
   "metadata": {},
   "source": [
    "Strings are actually a sequence of bytes, they are _unicode_ by default and a binary structure (or as mentioned, a sequence of bytes)."
   ]
  },
  {
   "cell_type": "code",
   "execution_count": 5,
   "metadata": {},
   "outputs": [
    {
     "data": {
      "text/plain": [
       "true"
      ]
     },
     "execution_count": 5,
     "metadata": {},
     "output_type": "execute_result"
    }
   ],
   "source": [
    "is_binary(\"hello world\")"
   ]
  },
  {
   "cell_type": "markdown",
   "metadata": {},
   "source": [
    "Notice, because they are binary their length is not the _String length but the binary length_."
   ]
  },
  {
   "cell_type": "code",
   "execution_count": 6,
   "metadata": {},
   "outputs": [
    {
     "data": {
      "text/plain": [
       "11"
      ]
     },
     "execution_count": 6,
     "metadata": {},
     "output_type": "execute_result"
    }
   ],
   "source": [
    "byte_size(\"hello world\")"
   ]
  },
  {
   "cell_type": "markdown",
   "metadata": {},
   "source": [
    "To get the real string length, use `String.length/1`"
   ]
  },
  {
   "cell_type": "code",
   "execution_count": 7,
   "metadata": {},
   "outputs": [
    {
     "data": {
      "text/plain": [
       "11"
      ]
     },
     "execution_count": 7,
     "metadata": {},
     "output_type": "execute_result"
    }
   ],
   "source": [
    "String.length \"hello world\""
   ]
  },
  {
   "cell_type": "markdown",
   "metadata": {},
   "source": [
    "As you may notice, you can use parenthesis or not with functions."
   ]
  },
  {
   "cell_type": "markdown",
   "metadata": {},
   "source": [
    "Strings can be interpolated too with the notation `#{}`"
   ]
  },
  {
   "cell_type": "code",
   "execution_count": 8,
   "metadata": {},
   "outputs": [
    {
     "data": {
      "text/plain": [
       "\"hello 3\""
      ]
     },
     "execution_count": 8,
     "metadata": {},
     "output_type": "execute_result"
    }
   ],
   "source": [
    "\"hello #{1 + 2}\""
   ]
  },
  {
   "cell_type": "markdown",
   "metadata": {},
   "source": [
    "Be careful, strings are _double quoted_ while single quote are treated as _charlist_."
   ]
  },
  {
   "cell_type": "markdown",
   "metadata": {},
   "source": [
    "## Functions\n",
    "\n",
    "Functions in Elixir, like in any other functional programming language, are first class citizens. We have two types, named and anonymous functions. Anonymous functions in Elixir are more like _lambdas_ and less like _closures_, they capture the surrounding variables like a _closure_ but they cannot modify that variable, like a _lambda_."
   ]
  },
  {
   "cell_type": "code",
   "execution_count": 9,
   "metadata": {},
   "outputs": [
    {
     "data": {
      "text/plain": [
       "#Function<12.99386804/2 in :erl_eval.expr/5>"
      ]
     },
     "execution_count": 9,
     "metadata": {},
     "output_type": "execute_result"
    }
   ],
   "source": [
    "add = fn x, y -> x + y end"
   ]
  },
  {
   "cell_type": "markdown",
   "metadata": {},
   "source": [
    "Notice the _unpronounciable name_ of the anon function generated, as expected, it has not only the name but _the cardinality_ because we run inside the Erlang VM."
   ]
  },
  {
   "cell_type": "markdown",
   "metadata": {},
   "source": [
    "A difference between anon functions and regular functions, is the way we execute them. To make a distinction between an anon function assigned to `add` and a global function named `add/2` we use a _dot notation_ when executing the function."
   ]
  },
  {
   "cell_type": "code",
   "execution_count": 10,
   "metadata": {},
   "outputs": [
    {
     "data": {
      "text/plain": [
       "6"
      ]
     },
     "execution_count": 10,
     "metadata": {},
     "output_type": "execute_result"
    }
   ],
   "source": [
    "add.(2,4)"
   ]
  },
  {
   "cell_type": "markdown",
   "metadata": {},
   "source": [
    "## List and tuples\n",
    "\n",
    "Lists are basically a linked list, where an element points to their following element, while tuples are more like arrays, with continous block of memory. Both list and tuples can contain heterogeneus elements."
   ]
  },
  {
   "cell_type": "markdown",
   "metadata": {},
   "source": [
    "List are denotated by square brackets (`[]`)"
   ]
  },
  {
   "cell_type": "code",
   "execution_count": 11,
   "metadata": {},
   "outputs": [
    {
     "data": {
      "text/plain": [
       "[1, \"hello\", :world]"
      ]
     },
     "execution_count": 11,
     "metadata": {},
     "output_type": "execute_result"
    }
   ],
   "source": [
    "[1, \"hello\", :world]"
   ]
  },
  {
   "cell_type": "markdown",
   "metadata": {},
   "source": [
    "While tuples are denotated by normal brackets (`{}`)"
   ]
  },
  {
   "cell_type": "code",
   "execution_count": 12,
   "metadata": {},
   "outputs": [
    {
     "data": {
      "text/plain": [
       "{1, \"hello\", :world}"
      ]
     },
     "execution_count": 12,
     "metadata": {},
     "output_type": "execute_result"
    }
   ],
   "source": [
    "{1, \"hello\", :world}"
   ]
  },
  {
   "cell_type": "markdown",
   "metadata": {},
   "source": [
    "A special type of lists are _charlist_ or well, a list of bytes. Each time Elixir sees a list of numbers it will treat them as a charlist."
   ]
  },
  {
   "cell_type": "markdown",
   "metadata": {},
   "source": [
    "You can get the head of a list (not tuples) with the `hd/1` operation and its tail with `tl/1`. Addition to list is done with `++/2` in the same way as substraction with `--/2`"
   ]
  },
  {
   "cell_type": "code",
   "execution_count": 13,
   "metadata": {},
   "outputs": [
    {
     "data": {
      "text/plain": [
       "1"
      ]
     },
     "execution_count": 13,
     "metadata": {},
     "output_type": "execute_result"
    }
   ],
   "source": [
    "hd ([1, 2, 3] -- tl [1, 2, 3])"
   ]
  },
  {
   "cell_type": "markdown",
   "metadata": {},
   "source": [
    "# Pattern matching"
   ]
  },
  {
   "cell_type": "markdown",
   "metadata": {},
   "source": [
    "In Elixir, pattern matching works a little different. The pattern matching operator is `=`, we can even say, the variable assignation operation is actually a pattern matching operation."
   ]
  },
  {
   "cell_type": "code",
   "execution_count": 14,
   "metadata": {},
   "outputs": [
    {
     "data": {
      "text/plain": [
       "5"
      ]
     },
     "execution_count": 14,
     "metadata": {},
     "output_type": "execute_result"
    }
   ],
   "source": [
    "x = 5"
   ]
  },
  {
   "cell_type": "markdown",
   "metadata": {},
   "source": [
    "We can use it as the usual pattern match operators:"
   ]
  },
  {
   "cell_type": "code",
   "execution_count": 15,
   "metadata": {},
   "outputs": [
    {
     "data": {
      "text/plain": [
       "{1, 2}"
      ]
     },
     "execution_count": 15,
     "metadata": {},
     "output_type": "execute_result"
    }
   ],
   "source": [
    "{x, y} = {1, 2}"
   ]
  },
  {
   "cell_type": "markdown",
   "metadata": {},
   "source": [
    "And more important, together with the `|/2` (append) operator, can be used to handle the tail/head extraction of a list."
   ]
  },
  {
   "cell_type": "code",
   "execution_count": 16,
   "metadata": {},
   "outputs": [
    {
     "data": {
      "text/plain": [
       "1"
      ]
     },
     "execution_count": 16,
     "metadata": {},
     "output_type": "execute_result"
    }
   ],
   "source": [
    "[h | _] = [1, 2, 3]\n",
    "h"
   ]
  },
  {
   "cell_type": "markdown",
   "metadata": {},
   "source": [
    "We can match on specific conditions, for example, only if we have the `:ok` symbol"
   ]
  },
  {
   "cell_type": "code",
   "execution_count": 17,
   "metadata": {},
   "outputs": [
    {
     "data": {
      "text/plain": [
       "123"
      ]
     },
     "execution_count": 17,
     "metadata": {},
     "output_type": "execute_result"
    }
   ],
   "source": [
    "{:ok, result} = {:ok, 123}\n",
    "result"
   ]
  },
  {
   "cell_type": "markdown",
   "metadata": {},
   "source": [
    "Immediately this will bring a problem, if assignation is not more than pattern matching, for example `{x, y} = {4,5}`, how do we pattern match against _the content_ of the variable vs rebind the variable? the answer is the _pin operator_ (`^`)"
   ]
  },
  {
   "cell_type": "code",
   "execution_count": 18,
   "metadata": {},
   "outputs": [
    {
     "data": {
      "text/plain": [
       "3"
      ]
     },
     "execution_count": 18,
     "metadata": {},
     "output_type": "execute_result"
    }
   ],
   "source": [
    "{x, y} = {4, 5}\n",
    "{z, ^y} = {3, 5}\n",
    "z"
   ]
  },
  {
   "cell_type": "markdown",
   "metadata": {},
   "source": [
    "# Blocks and conditions\n",
    "\n",
    "We declare code blocks with `do` and `end`, and we can conditionally execute them with the classic `if`..`else`"
   ]
  },
  {
   "cell_type": "code",
   "execution_count": 19,
   "metadata": {},
   "outputs": [
    {
     "data": {
      "text/plain": [
       "3"
      ]
     },
     "execution_count": 19,
     "metadata": {},
     "output_type": "execute_result"
    }
   ],
   "source": [
    "if true do\n",
    "  1 + 2 # Optionally we can use an else clause\n",
    "end"
   ]
  },
  {
   "cell_type": "markdown",
   "metadata": {},
   "source": [
    "We have another friend of `if`, the `unless` condition."
   ]
  },
  {
   "cell_type": "code",
   "execution_count": 20,
   "metadata": {},
   "outputs": [
    {
     "data": {
      "text/plain": [
       "\"oh, it is false\""
      ]
     },
     "execution_count": 20,
     "metadata": {},
     "output_type": "execute_result"
    }
   ],
   "source": [
    "x = false\n",
    "unless x == true do\n",
    "  \"oh, it is false\"\n",
    "else\n",
    "  \"oh, it is true\"\n",
    "end"
   ]
  },
  {
   "cell_type": "markdown",
   "metadata": {},
   "source": [
    "We have a `case` conditional, very much like the common _case_ construction in other languages."
   ]
  },
  {
   "cell_type": "code",
   "execution_count": 21,
   "metadata": {},
   "outputs": [
    {
     "data": {
      "text/plain": [
       "\"it matches so coordinates are {4, 5}\""
      ]
     },
     "execution_count": 21,
     "metadata": {},
     "output_type": "execute_result"
    }
   ],
   "source": [
    "x = {:ok, 4, 5}\n",
    "case x do\n",
    "  {:ok, x, y} -> \"it matches so coordinates are {#{x}, #{y}}\"\n",
    "  {:error, _, _} -> \"it doesn't match at all, an error\"\n",
    "  _ -> \"I don't know what to do with this!\"\n",
    "end"
   ]
  },
  {
   "cell_type": "markdown",
   "metadata": {},
   "source": [
    "Remember, if you want to match instead of rebind an existing variable you need to use the _pin_ operator!"
   ]
  },
  {
   "cell_type": "markdown",
   "metadata": {},
   "source": [
    "There is a possibility, to not only match but use a _guard_ to specify a given condition, for this we use `when`"
   ]
  },
  {
   "cell_type": "code",
   "execution_count": 22,
   "metadata": {},
   "outputs": [
    {
     "data": {
      "text/plain": [
       "\"It is good enough\""
      ]
     },
     "execution_count": 22,
     "metadata": {},
     "output_type": "execute_result"
    }
   ],
   "source": [
    "x = {:ok, 10}\n",
    "case x do\n",
    "  {:ok, x} when x < 5 -> \"It is ok but not high enough\"\n",
    "  {:ok, x} -> \"It is good enough\"\n",
    "  _ -> \"who knows\"\n",
    "end"
   ]
  },
  {
   "cell_type": "markdown",
   "metadata": {},
   "source": [
    "You can use guards as a way to gate a function to its correct operation"
   ]
  },
  {
   "cell_type": "code",
   "execution_count": 23,
   "metadata": {},
   "outputs": [
    {
     "data": {
      "text/plain": [
       "12"
      ]
     },
     "execution_count": 23,
     "metadata": {},
     "output_type": "execute_result"
    }
   ],
   "source": [
    "op = fn\n",
    "  a, b when a > 5 -> a + b\n",
    "  a, b -> a * b\n",
    "end\n",
    "\n",
    "op.(2, 6)"
   ]
  },
  {
   "cell_type": "markdown",
   "metadata": {},
   "source": [
    "The equivalent to put a few `if..else` conditions is `cond`, it is basically the same as `if..else if` but it is prefered in this way:"
   ]
  },
  {
   "cell_type": "code",
   "execution_count": 24,
   "metadata": {},
   "outputs": [
    {
     "data": {
      "text/plain": [
       "\"It is one\""
      ]
     },
     "execution_count": 24,
     "metadata": {},
     "output_type": "execute_result"
    }
   ],
   "source": [
    "x = 1\n",
    "cond do\n",
    "  x == 1 -> \"It is one\"\n",
    "  x == 2 -> \"It is two\"\n",
    "end"
   ]
  },
  {
   "cell_type": "markdown",
   "metadata": {},
   "source": [
    "Notice we don't match against a value but against a condition, this is different than the `case` construct."
   ]
  },
  {
   "cell_type": "markdown",
   "metadata": {},
   "source": [
    "Both, `case` and `cond` if not match is found they will raise a `CaseClauseError` and `CondClauseError` respectively."
   ]
  },
  {
   "cell_type": "markdown",
   "metadata": {},
   "source": [
    "Constructs like `unless`, `if` and `cond` considers any value outside `nil` and `false` to be true, kind of like C (but remember, C considers 0 false)."
   ]
  },
  {
   "cell_type": "code",
   "execution_count": 25,
   "metadata": {},
   "outputs": [
    {
     "data": {
      "text/plain": [
       "\"Hello world\""
      ]
     },
     "execution_count": 25,
     "metadata": {},
     "output_type": "execute_result"
    }
   ],
   "source": [
    "x = nil\n",
    "unless x do\n",
    "  \"Hello world\"\n",
    "end"
   ]
  },
  {
   "cell_type": "markdown",
   "metadata": {},
   "source": [
    "Basically, constructs like `if` and `unless` are functions, we can see that if we use _named arguments_ and commas:"
   ]
  },
  {
   "cell_type": "code",
   "execution_count": 26,
   "metadata": {},
   "outputs": [
    {
     "data": {
      "text/plain": [
       "18"
      ]
     },
     "execution_count": 26,
     "metadata": {},
     "output_type": "execute_result"
    }
   ],
   "source": [
    "x = 6\n",
    "if x == 5, do: x + 5, else: x * 3"
   ]
  },
  {
   "cell_type": "markdown",
   "metadata": {},
   "source": [
    "Basically the `do...end` blocks are a convinience done around the `do:` keyword argument, that is all."
   ]
  },
  {
   "cell_type": "markdown",
   "metadata": {},
   "source": [
    "## Strings and binaries\n",
    "\n",
    "A sequence of binary values is called _binaries_ and as in Erlang, it is the cream and butter of the whole language (after all, Elixir is a _better Erlang_ and Erlang was designed to write telco software, who uses a lot of bytes sequences). Binaries are represented by `<<>>`"
   ]
  },
  {
   "cell_type": "code",
   "execution_count": 27,
   "metadata": {},
   "outputs": [
    {
     "data": {
      "text/plain": [
       "<<1, 2, 3>>"
      ]
     },
     "execution_count": 27,
     "metadata": {},
     "output_type": "execute_result"
    }
   ],
   "source": [
    "<<1, 2, 3>>"
   ]
  },
  {
   "cell_type": "markdown",
   "metadata": {},
   "source": [
    "That is a sequence of three byte values. We can check it is a binary sequence using `is_binary/1`"
   ]
  },
  {
   "cell_type": "code",
   "execution_count": 28,
   "metadata": {},
   "outputs": [
    {
     "data": {
      "text/plain": [
       "true"
      ]
     },
     "execution_count": 28,
     "metadata": {},
     "output_type": "execute_result"
    }
   ],
   "source": [
    "is_binary(<<1, 2, 3>>)"
   ]
  },
  {
   "cell_type": "markdown",
   "metadata": {},
   "source": [
    "We can check the size, as previously seen, using `byte_size/1`"
   ]
  },
  {
   "cell_type": "code",
   "execution_count": 29,
   "metadata": {},
   "outputs": [
    {
     "data": {
      "text/plain": [
       "3"
      ]
     },
     "execution_count": 29,
     "metadata": {},
     "output_type": "execute_result"
    }
   ],
   "source": [
    "byte_size(<<1,2,3>>)"
   ]
  },
  {
   "cell_type": "markdown",
   "metadata": {},
   "source": [
    "But guess what? Strings are just a sequence of binary values, internally there is no difference, they are just a sequence of bytes (or better said, a tuple of bytes)."
   ]
  },
  {
   "cell_type": "code",
   "execution_count": 30,
   "metadata": {},
   "outputs": [
    {
     "data": {
      "text/plain": [
       "true"
      ]
     },
     "execution_count": 30,
     "metadata": {},
     "output_type": "execute_result"
    }
   ],
   "source": [
    "is_binary(\"hello world\")"
   ]
  },
  {
   "cell_type": "markdown",
   "metadata": {},
   "source": [
    "This brings a small problem, internally the strings are represented as unicode, it means the byte size of a string is not really the length of a string, it is, for simple non utf-8 characters. For this, we use `String.length`"
   ]
  },
  {
   "cell_type": "code",
   "execution_count": 31,
   "metadata": {},
   "outputs": [
    {
     "data": {
      "text/plain": [
       "\"length is 5 but size is 6\""
      ]
     },
     "execution_count": 31,
     "metadata": {},
     "output_type": "execute_result"
    }
   ],
   "source": [
    "\"length is #{String.length \"helło\"} but size is #{byte_size \"helło\"}\""
   ]
  },
  {
   "cell_type": "markdown",
   "metadata": {},
   "source": [
    "With Unicode, splitting a string is a delicate operation, but we can do it using the codepoints aware function `String.codepoints`"
   ]
  },
  {
   "cell_type": "code",
   "execution_count": 32,
   "metadata": {},
   "outputs": [
    {
     "data": {
      "text/plain": [
       "[\"h\", \"e\", \"l\", \"ł\", \"o\"]"
      ]
     },
     "execution_count": 32,
     "metadata": {},
     "output_type": "execute_result"
    }
   ],
   "source": [
    "String.codepoints \"helło\""
   ]
  },
  {
   "cell_type": "markdown",
   "metadata": {},
   "source": [
    "While strings are a tuple of bytes, a charlist is a list of codepoints (not bytes)."
   ]
  },
  {
   "cell_type": "code",
   "execution_count": 33,
   "metadata": {},
   "outputs": [
    {
     "data": {
      "text/plain": [
       "[104, 101, 108, 322, 111]"
      ]
     },
     "execution_count": 33,
     "metadata": {},
     "output_type": "execute_result"
    }
   ],
   "source": [
    "'helło'"
   ]
  },
  {
   "cell_type": "markdown",
   "metadata": {},
   "source": [
    "You can "
   ]
  },
  {
   "cell_type": "markdown",
   "metadata": {},
   "source": [
    "We can get the representation in codepoints of a character using the operator `?`"
   ]
  },
  {
   "cell_type": "code",
   "execution_count": 34,
   "metadata": {},
   "outputs": [
    {
     "data": {
      "text/plain": [
       "322"
      ]
     },
     "execution_count": 34,
     "metadata": {},
     "output_type": "execute_result"
    }
   ],
   "source": [
    "?ł"
   ]
  },
  {
   "cell_type": "markdown",
   "metadata": {},
   "source": [
    "This applies _only_ to individual characters, not to strings."
   ]
  },
  {
   "cell_type": "markdown",
   "metadata": {},
   "source": [
    "Binaries (not strings or charlist) can be pattern matched too, very useful when dealing or parsing binary data!"
   ]
  },
  {
   "cell_type": "code",
   "execution_count": 35,
   "metadata": {},
   "outputs": [
    {
     "data": {
      "text/plain": [
       "{34, 21}"
      ]
     },
     "execution_count": 35,
     "metadata": {},
     "output_type": "execute_result"
    }
   ],
   "source": [
    "<<0, 10, x, y >> = <<0, 10, 34, 21>>\n",
    "{x, y}"
   ]
  },
  {
   "cell_type": "markdown",
   "metadata": {},
   "source": [
    "You can apply specific and special _modifiers_ to individual values of binaries. For example, the value 256 will be truncated."
   ]
  },
  {
   "cell_type": "code",
   "execution_count": 36,
   "metadata": {},
   "outputs": [
    {
     "data": {
      "text/plain": [
       "<<0>>"
      ]
     },
     "execution_count": 36,
     "metadata": {},
     "output_type": "execute_result"
    }
   ],
   "source": [
    "<<256>>"
   ]
  },
  {
   "cell_type": "markdown",
   "metadata": {},
   "source": [
    "But we can apply the `size/1` modifier to specify the size"
   ]
  },
  {
   "cell_type": "code",
   "execution_count": 37,
   "metadata": {},
   "outputs": [
    {
     "data": {
      "text/plain": [
       "<<1, 0>>"
      ]
     },
     "execution_count": 37,
     "metadata": {},
     "output_type": "execute_result"
    }
   ],
   "source": [
    "<<256 :: size(16)>>"
   ]
  },
  {
   "cell_type": "markdown",
   "metadata": {},
   "source": [
    "This is _super useful_ for parsing binary files or generating binary protocols!"
   ]
  },
  {
   "cell_type": "markdown",
   "metadata": {},
   "source": [
    "We can concatenate two binaries with the operator `<>`"
   ]
  },
  {
   "cell_type": "code",
   "execution_count": 38,
   "metadata": {},
   "outputs": [
    {
     "data": {
      "text/plain": [
       "<<1, 2, 3, 4, 5, 6>>"
      ]
     },
     "execution_count": 38,
     "metadata": {},
     "output_type": "execute_result"
    }
   ],
   "source": [
    "<<1,2,3>> <> <<4,5,6>>"
   ]
  },
  {
   "cell_type": "markdown",
   "metadata": {},
   "source": [
    "A common operation is to append `0` at the end of a binary to see their internal representation, for example, with strings:"
   ]
  },
  {
   "cell_type": "code",
   "execution_count": 39,
   "metadata": {},
   "outputs": [
    {
     "data": {
      "text/plain": [
       "<<104, 101, 108, 108, 111, 32, 119, 111, 114, 108, 100, 0>>"
      ]
     },
     "execution_count": 39,
     "metadata": {},
     "output_type": "execute_result"
    }
   ],
   "source": [
    "\"hello world\" <> <<0>>"
   ]
  },
  {
   "cell_type": "markdown",
   "metadata": {},
   "source": [
    "Strings use the binary concatenation operator (`<>`), because they are binaries after all"
   ]
  },
  {
   "cell_type": "code",
   "execution_count": 40,
   "metadata": {},
   "outputs": [
    {
     "data": {
      "text/plain": [
       "\"hello world\""
      ]
     },
     "execution_count": 40,
     "metadata": {},
     "output_type": "execute_result"
    }
   ],
   "source": [
    "\"hello\" <> \" \" <> \"world\""
   ]
  },
  {
   "cell_type": "markdown",
   "metadata": {},
   "source": [
    "Charlist, because they are lists, use the list concatenation operator (`++`)"
   ]
  },
  {
   "cell_type": "code",
   "execution_count": 41,
   "metadata": {},
   "outputs": [
    {
     "data": {
      "text/plain": [
       "'hello world'"
      ]
     },
     "execution_count": 41,
     "metadata": {},
     "output_type": "execute_result"
    }
   ],
   "source": [
    "'hello' ++ ' ' ++ 'world'"
   ]
  },
  {
   "cell_type": "markdown",
   "metadata": {},
   "source": [
    "# Keyword lists and maps\n",
    "\n",
    "As many other languages, the conception of a map is very well known in Elixir, they are denoted by the `%{}` notation and specifying the key/value by `=>` and they can have _any value_ as key."
   ]
  },
  {
   "cell_type": "code",
   "execution_count": null,
   "metadata": {},
   "outputs": [],
   "source": []
  },
  {
   "cell_type": "code",
   "execution_count": 42,
   "metadata": {},
   "outputs": [
    {
     "data": {
      "text/plain": [
       "%{:age => 39, \"name\" => \"Cristian\"}"
      ]
     },
     "execution_count": 42,
     "metadata": {},
     "output_type": "execute_result"
    }
   ],
   "source": [
    "%{\"name\" => \"Cristian\", :age => 39}"
   ]
  },
  {
   "cell_type": "markdown",
   "metadata": {},
   "source": [
    "We access values of the map with the indexing `[]` notation"
   ]
  },
  {
   "cell_type": "code",
   "execution_count": 43,
   "metadata": {},
   "outputs": [
    {
     "data": {
      "text/plain": [
       "\"Cristian is 39 years old\""
      ]
     },
     "execution_count": 43,
     "metadata": {},
     "output_type": "execute_result"
    }
   ],
   "source": [
    "person = %{\"name\" => \"Cristian\", :age => 39}\n",
    "\"#{person[\"name\"]} is #{person[:age]} years old\""
   ]
  },
  {
   "cell_type": "markdown",
   "metadata": {},
   "source": [
    "If you already remember, the `=` is not assignation but pattern matching, so to update or change the value in a key of the map, we use the `|` operator:"
   ]
  },
  {
   "cell_type": "code",
   "execution_count": 44,
   "metadata": {},
   "outputs": [
    {
     "data": {
      "text/plain": [
       "%{:age => 40, \"name\" => \"Cristian\"}"
      ]
     },
     "execution_count": 44,
     "metadata": {},
     "output_type": "execute_result"
    }
   ],
   "source": [
    "%{ person | :age => 40 }"
   ]
  },
  {
   "cell_type": "markdown",
   "metadata": {},
   "source": [
    "Notice this returns a new map and not changed the original map, it is called _immutability_ after all."
   ]
  },
  {
   "cell_type": "markdown",
   "metadata": {},
   "source": [
    "There is shortcut only _if all our keys are atoms_, we can use the notation `:` instead of `=>` to specify key/values:"
   ]
  },
  {
   "cell_type": "code",
   "execution_count": 45,
   "metadata": {},
   "outputs": [
    {
     "data": {
      "text/plain": [
       "39"
      ]
     },
     "execution_count": 45,
     "metadata": {},
     "output_type": "execute_result"
    }
   ],
   "source": [
    "person = %{person: \"Cristian\", age: 39}\n",
    "person[:age]"
   ]
  },
  {
   "cell_type": "markdown",
   "metadata": {},
   "source": [
    "Notice how we use the atom name `:age`, this is because it is an atom, not a normal key."
   ]
  },
  {
   "cell_type": "markdown",
   "metadata": {},
   "source": [
    "Another shortcut which is nice is using the dot notation (`.`) to specify a key, instead of the classic bracket notation, this _only applies when the keys are atoms_. The notation is called `map.field`"
   ]
  },
  {
   "cell_type": "code",
   "execution_count": 46,
   "metadata": {},
   "outputs": [
    {
     "data": {
      "text/plain": [
       "\"Cristian\""
      ]
     },
     "execution_count": 46,
     "metadata": {},
     "output_type": "execute_result"
    }
   ],
   "source": [
    "person = %{name: \"Cristian\", age: 39}\n",
    "person.name"
   ]
  },
  {
   "cell_type": "markdown",
   "metadata": {},
   "source": [
    "When retrieving or updating a map, the key _must exist_, if not it will throw a _key not found_ exception. The pipe `|` notation cannot be used to _add new keys_ to the map. To add a new member to the map we need the `Map.put/2` function. "
   ]
  },
  {
   "cell_type": "code",
   "execution_count": 47,
   "metadata": {},
   "outputs": [
    {
     "data": {
      "text/plain": [
       "%{age: 39, cat: \"Ezy\", name: \"Cristian\"}"
      ]
     },
     "execution_count": 47,
     "metadata": {},
     "output_type": "execute_result"
    }
   ],
   "source": [
    "person = %{name: \"Cristian\", age: 39}\n",
    "Map.put person, :cat, \"Ezy\""
   ]
  },
  {
   "cell_type": "markdown",
   "metadata": {},
   "source": [
    "Remember, Maps are not ordered!"
   ]
  },
  {
   "cell_type": "markdown",
   "metadata": {},
   "source": [
    "We can pattern match maps, in this case the rule is easy, an empty map matches the whole map:"
   ]
  },
  {
   "cell_type": "code",
   "execution_count": 48,
   "metadata": {},
   "outputs": [
    {
     "data": {
      "text/plain": [
       "%{age: 12, name: \"Ezy\"}"
      ]
     },
     "execution_count": 48,
     "metadata": {},
     "output_type": "execute_result"
    }
   ],
   "source": [
    "%{} = %{age: 12, name: \"Ezy\"}"
   ]
  },
  {
   "cell_type": "markdown",
   "metadata": {},
   "source": [
    "We only need to match partially the content, I mean, with just one key matched is enough, if not it will fail with not match found."
   ]
  },
  {
   "cell_type": "code",
   "execution_count": 49,
   "metadata": {},
   "outputs": [
    {
     "data": {
      "text/plain": [
       "12"
      ]
     },
     "execution_count": 49,
     "metadata": {},
     "output_type": "execute_result"
    }
   ],
   "source": [
    "%{age: n} = %{age: 12, name: \"Ezy\"}\n",
    "n"
   ]
  },
  {
   "cell_type": "markdown",
   "metadata": {},
   "source": [
    "of course, we can use pinned variables as well"
   ]
  },
  {
   "cell_type": "code",
   "execution_count": 50,
   "metadata": {},
   "outputs": [
    {
     "data": {
      "text/plain": [
       "%{age: 12, name: \"Ezy\"}"
      ]
     },
     "execution_count": 50,
     "metadata": {},
     "output_type": "execute_result"
    }
   ],
   "source": [
    "foo = :age\n",
    "%{^foo => n} = %{age: 12, name: \"Ezy\"}"
   ]
  },
  {
   "cell_type": "markdown",
   "metadata": {},
   "source": [
    "In this case, because `foo` is already a symbol, we have to use the `=>` notation and not the `:` notation."
   ]
  },
  {
   "cell_type": "markdown",
   "metadata": {},
   "source": [
    "## Keyword maps\n",
    "\n",
    "This is where things are interesting, as many different languages, we can simplify things and say that a map is just a sequence of key values, or in Elixir, a list of tuples with keys and values where the keys _are all atoms_."
   ]
  },
  {
   "cell_type": "code",
   "execution_count": 51,
   "metadata": {},
   "outputs": [
    {
     "data": {
      "text/plain": [
       "[age: 12, name: \"Ezy\"]"
      ]
     },
     "execution_count": 51,
     "metadata": {},
     "output_type": "execute_result"
    }
   ],
   "source": [
    "[{:age, 12}, {:name, \"Ezy\"}]"
   ]
  },
  {
   "cell_type": "markdown",
   "metadata": {},
   "source": [
    "You will notice, Elixir compiler immediately creates a list with the atom as the key and value, because it is a list you can add items using the `++` list append operator."
   ]
  },
  {
   "cell_type": "code",
   "execution_count": 53,
   "metadata": {},
   "outputs": [
    {
     "data": {
      "text/plain": [
       "[age: 12, name: \"Ezy\", color: \"tabby\"]"
      ]
     },
     "execution_count": 53,
     "metadata": {},
     "output_type": "execute_result"
    }
   ],
   "source": [
    "[age: 12, name: \"Ezy\"] ++ [{:color, \"tabby\"}]"
   ]
  },
  {
   "cell_type": "markdown",
   "metadata": {},
   "source": [
    "Or using a short notation with `[:]`"
   ]
  },
  {
   "cell_type": "code",
   "execution_count": 54,
   "metadata": {},
   "outputs": [
    {
     "data": {
      "text/plain": [
       "[age: 12, name: \"Ezy\", color: \"tabby\"]"
      ]
     },
     "execution_count": 54,
     "metadata": {},
     "output_type": "execute_result"
    }
   ],
   "source": [
    "[age: 12, name: \"Ezy\"] ++ [color: \"tabby\"]"
   ]
  },
  {
   "cell_type": "markdown",
   "metadata": {},
   "source": [
    "Notice how Elixir keyword maps are ordered in the order when they were defined, unlike Lists.\n",
    "\n",
    "To get values back, use the indexer notation `[]`"
   ]
  },
  {
   "cell_type": "code",
   "execution_count": 55,
   "metadata": {},
   "outputs": [
    {
     "data": {
      "text/plain": [
       "12"
      ]
     },
     "execution_count": 55,
     "metadata": {},
     "output_type": "execute_result"
    }
   ],
   "source": [
    "cat = [age: 12, name: \"Ezy\"]\n",
    "cat[:age]"
   ]
  },
  {
   "cell_type": "markdown",
   "metadata": {},
   "source": [
    "While it can be done, doing pattern matching in keyword lists is not practical because the order, our pattern matching should obey the same order as defined in the keyword list, so nope.\n",
    "\n",
    "Another important thing to say about keyword lists is that their atom keys can be repeated"
   ]
  },
  {
   "cell_type": "code",
   "execution_count": 59,
   "metadata": {},
   "outputs": [
    {
     "data": {
      "text/plain": [
       "[age: 12, name: \"Ezy\", name: \"Cakesy\"]"
      ]
     },
     "execution_count": 59,
     "metadata": {},
     "output_type": "execute_result"
    }
   ],
   "source": [
    "[age: 12, name: \"Ezy\", name: \"Cakesy\"]"
   ]
  },
  {
   "cell_type": "markdown",
   "metadata": {},
   "source": [
    "But when retrieving the value using the indexer notation we will get only the first defined value:"
   ]
  },
  {
   "cell_type": "code",
   "execution_count": 61,
   "metadata": {},
   "outputs": [
    {
     "data": {
      "text/plain": [
       "\"Ezy\""
      ]
     },
     "execution_count": 61,
     "metadata": {},
     "output_type": "execute_result"
    }
   ],
   "source": [
    "[age: 12, name: \"Ezy\", name: \"Cakesy\"][:name]"
   ]
  },
  {
   "cell_type": "markdown",
   "metadata": {},
   "source": [
    "Keyword lists are so powerful it is used in functions to declare parameters, for example, our friend `if` is actually the function `if/2`, but because `if` may have an optional else it makes sense to pass them as parameters, so our function `if/2` is actually `if (condition, [do: :this, else: :that])`, we will probably see more of this in the function chapter."
   ]
  },
  {
   "cell_type": "markdown",
   "metadata": {},
   "source": [
    "# Modules and functions"
   ]
  },
  {
   "cell_type": "markdown",
   "metadata": {},
   "source": [
    "A module in Elixir lives in a file but it needs to be defined with the keyword `defmodule ... do ... end`"
   ]
  },
  {
   "cell_type": "code",
   "execution_count": 4,
   "metadata": {},
   "outputs": [
    {
     "data": {
      "text/plain": [
       "{:module, Hello, <<70, 79, 82, 49, 0, 0, 3, 60, 66, 69, 65, 77, 65, 116, 85, 56, 0, 0, 0, 119, 0, 0, 0, 12, 12, 69, 108, 105, 120, 105, 114, 46, 72, 101, 108, 108, 111, 8, 95, 95, 105, 110, 102, 111, 95, 95, 3, ...>>, nil}"
      ]
     },
     "execution_count": 4,
     "metadata": {},
     "output_type": "execute_result"
    }
   ],
   "source": [
    "defmodule Hello do\n",
    "end"
   ]
  },
  {
   "cell_type": "markdown",
   "metadata": {},
   "source": [
    "We usually save modules in their own file, in our previous case it will probably be named `hello.ex`, this file is not directly used by Elixir, but we can compile it as a _beam_ file, an Erlang bytecode compiled module. You can save it as a `hello.exs` file, or _Elixir scripting file_, they are basically the same as `ex` files but they are never compiled into bytecode, they are more used for scripting purposes."
   ]
  },
  {
   "cell_type": "markdown",
   "metadata": {},
   "source": [
    "Inside modules we can declare _named functions_ which are just normal non-anon functions, we declare them using the keyword `def`"
   ]
  },
  {
   "cell_type": "code",
   "execution_count": 5,
   "metadata": {},
   "outputs": [
    {
     "data": {
      "text/plain": [
       "\"Hello\""
      ]
     },
     "execution_count": 5,
     "metadata": {},
     "output_type": "execute_result"
    }
   ],
   "source": [
    "defmodule Hello do\n",
    "  def hi do\n",
    "    \"Hello\"\n",
    "  end\n",
    "end\n",
    "\n",
    "Hello.hi"
   ]
  },
  {
   "cell_type": "markdown",
   "metadata": {},
   "source": [
    "Notice _there is no `return` keyword_, whatever we do at the end it is the return type, this is very consistent with functional languages."
   ]
  },
  {
   "cell_type": "markdown",
   "metadata": {},
   "source": [
    "_In the command line_, we can **compile** elixir code to beam bytecode using `elixirc`, the Elixir compiler."
   ]
  },
  {
   "cell_type": "markdown",
   "metadata": {},
   "source": [
    "Elixir has the concept of private functions as well, which can be used only by functions declared inside the module with the same name as well"
   ]
  },
  {
   "cell_type": "code",
   "execution_count": 7,
   "metadata": {},
   "outputs": [
    {
     "data": {
      "text/plain": [
       "\"hello cristian\""
      ]
     },
     "execution_count": 7,
     "metadata": {},
     "output_type": "execute_result"
    }
   ],
   "source": [
    "defmodule Hello do\n",
    "  def hi(name) do\n",
    "    hello(name)\n",
    "  end\n",
    "  defp hello(name) do\n",
    "    \"hello #{name}\"\n",
    "  end\n",
    "end\n",
    "\n",
    "Hello.hi \"cristian\""
   ]
  },
  {
   "cell_type": "markdown",
   "metadata": {},
   "source": [
    "There are a few _conventions_ about naming variables in Elixir, they are not forced but we have to be good citizens and obey those conventions."
   ]
  },
  {
   "cell_type": "markdown",
   "metadata": {},
   "source": [
    " * Functions returning a boolean result should end in `?`, for example, `start?` could be a function returning `true` or `false` if the job started.\n",
    " * There is an exception to this rule, or well, another rule, if the operation is _to check a type_ it will be a boolean but instead of having the suffix `?` it should start with `is_`"
   ]
  },
  {
   "cell_type": "code",
   "execution_count": 8,
   "metadata": {},
   "outputs": [
    {
     "data": {
      "text/plain": [
       "{:module, Hello, <<70, 79, 82, 49, 0, 0, 4, 200, 66, 69, 65, 77, 65, 116, 85, 56, 0, 0, 0, 141, 0, 0, 0, 16, 12, 69, 108, 105, 120, 105, 114, 46, 72, 101, 108, 108, 111, 8, 95, 95, 105, 110, 102, 111, 95, 95, 9, ...>>, {:is_cat, 1}}"
      ]
     },
     "execution_count": 8,
     "metadata": {},
     "output_type": "execute_result"
    }
   ],
   "source": [
    "defmodule Hello do\n",
    "  def start?() do\n",
    "    # Do something here\n",
    "    true\n",
    "  end\n",
    "  \n",
    "  def is_cat(name) do\n",
    "    if name == 'Eys' do\n",
    "      true \n",
    "    else \n",
    "      false\n",
    "    end\n",
    "  end\n",
    "end"
   ]
  },
  {
   "cell_type": "markdown",
   "metadata": {},
   "source": [
    " * If the function raises an exception when an error ocurred it should end with the suffix `!`, again, this is not enforced but it is a good practice. You could have a function raising an exception and another not raising the error, using a suffix is like having a completely different function, like in OCaml with the `_ex` suffix in some functions.\n",
    " * Functions, by convention and the same as variables, are `snake_case`\n",
    " * By conventions, functions where size is stored together with the structure, so $O(1)$ are named `size` while those with linear cost, $O(n)$, are named `length`.\n",
    " * There is a special case, public functions starting with `_` are not imported by default, like in Python."
   ]
  },
  {
   "cell_type": "code",
   "execution_count": 10,
   "metadata": {},
   "outputs": [
    {
     "data": {
      "text/plain": [
       "\"1.0.0\""
      ]
     },
     "execution_count": 10,
     "metadata": {},
     "output_type": "execute_result"
    }
   ],
   "source": [
    "defmodule Hello do\n",
    "  def __version do\n",
    "    \"1.0.0\"\n",
    "  end\n",
    "end\n",
    "\n",
    "Hello.__version"
   ]
  },
  {
   "cell_type": "markdown",
   "metadata": {},
   "source": [
    "You can use when clauses to identify different types or functions for different parameters, sort of function polymorphism but pretty cheap."
   ]
  },
  {
   "cell_type": "code",
   "execution_count": 11,
   "metadata": {},
   "outputs": [
    {
     "data": {
      "text/plain": [
       "{:module, Hello, <<70, 79, 82, 49, 0, 0, 5, 108, 66, 69, 65, 77, 65, 116, 85, 56, 0, 0, 0, 169, 0, 0, 0, 17, 12, 69, 108, 105, 120, 105, 114, 46, 72, 101, 108, 108, 111, 8, 95, 95, 105, 110, 102, 111, 95, 95, 9, ...>>, {:start, 1}}"
      ]
     },
     "execution_count": 11,
     "metadata": {},
     "output_type": "execute_result"
    }
   ],
   "source": [
    "defmodule Hello do\n",
    "  def start(instances) when is_integer(instances) do\n",
    "    \"starting #{instances} instances\"\n",
    "  end\n",
    "  \n",
    "  def start(name) do\n",
    "    \"starting #{name}\"\n",
    "  end\n",
    "end"
   ]
  },
  {
   "cell_type": "markdown",
   "metadata": {},
   "source": [
    "You can shortcut definitions for one liners, in the same way as `if` expressions with `do:` keyword parameter"
   ]
  },
  {
   "cell_type": "code",
   "execution_count": 12,
   "metadata": {},
   "outputs": [
    {
     "data": {
      "text/plain": [
       "{:module, Hello, <<70, 79, 82, 49, 0, 0, 5, 52, 66, 69, 65, 77, 65, 116, 85, 56, 0, 0, 0, 169, 0, 0, 0, 17, 12, 69, 108, 105, 120, 105, 114, 46, 72, 101, 108, 108, 111, 8, 95, 95, 105, 110, 102, 111, 95, 95, 9, ...>>, {:start, 1}}"
      ]
     },
     "execution_count": 12,
     "metadata": {},
     "output_type": "execute_result"
    }
   ],
   "source": [
    "defmodule Hello do\n",
    "  def start(instances) when is_integer(instances), do: \"starting #{instances} instances\"\n",
    "  def start(name), do: \"starting ${name}\"\n",
    "end"
   ]
  },
  {
   "cell_type": "markdown",
   "metadata": {},
   "source": [
    "To simulate polymorphism, we can pass specific given parameters additionally to conditions when defining the function, for example, let's say we need a function to do something when it is an integer, another when it is any other type and a specific thing when it is 0, probably your first attempt will be something like this:"
   ]
  },
  {
   "cell_type": "code",
   "execution_count": 13,
   "metadata": {},
   "outputs": [
    {
     "data": {
      "text/plain": [
       "{:module, Hello, <<70, 79, 82, 49, 0, 0, 5, 196, 66, 69, 65, 77, 65, 116, 85, 56, 0, 0, 0, 169, 0, 0, 0, 17, 12, 69, 108, 105, 120, 105, 114, 46, 72, 101, 108, 108, 111, 8, 95, 95, 105, 110, 102, 111, 95, 95, 9, ...>>, {:do_it, 1}}"
      ]
     },
     "execution_count": 13,
     "metadata": {},
     "output_type": "execute_result"
    }
   ],
   "source": [
    "defmodule Hello do\n",
    "  def do_it(num) when is_integer(num) and num == 0, do: \"It is zero! nothing to do.\"\n",
    "  def do_it(num) when is_integer(num), do: \"Do it #{num} times\"\n",
    "  def do_it(foo), do: \"do #{foo}\"\n",
    "end"
   ]
  },
  {
   "cell_type": "markdown",
   "metadata": {},
   "source": [
    "That is actually right, but instead we can write something like this (which I find more Erlan'ig and nicer):"
   ]
  },
  {
   "cell_type": "code",
   "execution_count": 14,
   "metadata": {},
   "outputs": [
    {
     "data": {
      "text/plain": [
       "{:module, Hello, <<70, 79, 82, 49, 0, 0, 5, 152, 66, 69, 65, 77, 65, 116, 85, 56, 0, 0, 0, 169, 0, 0, 0, 17, 12, 69, 108, 105, 120, 105, 114, 46, 72, 101, 108, 108, 111, 8, 95, 95, 105, 110, 102, 111, 95, 95, 9, ...>>, {:do_it, 1}}"
      ]
     },
     "execution_count": 14,
     "metadata": {},
     "output_type": "execute_result"
    }
   ],
   "source": [
    "defmodule Hello do\n",
    "  def do_it(0), do: \"It is zero! nothing to do.\"\n",
    "  def do_it(num) when is_integer(num), do: \"Do it #{num} times\"\n",
    "  def do_it(foo), do: \"Do #{foo}\"\n",
    "end"
   ]
  },
  {
   "cell_type": "markdown",
   "metadata": {},
   "source": [
    "You can mix and match your styles, remember, the VM will go through all the methods until it finds the correct one fullfilling the parameters and clauses, notice all the previous methods all have the same signature `do_it/1`"
   ]
  },
  {
   "cell_type": "markdown",
   "metadata": {},
   "source": [
    "## Default arguments and retrieving functions"
   ]
  },
  {
   "cell_type": "markdown",
   "metadata": {},
   "source": [
    "Yes, we can use default argument values in Elixir functions, for this we use the notation `\\\\` (yes, it is weird)"
   ]
  },
  {
   "cell_type": "code",
   "execution_count": 16,
   "metadata": {},
   "outputs": [
    {
     "data": {
      "text/plain": [
       "\"Starting 1 instances of cristian\""
      ]
     },
     "execution_count": 16,
     "metadata": {},
     "output_type": "execute_result"
    }
   ],
   "source": [
    "defmodule Hello do\n",
    "  def do_it(name, num \\\\ 1), do: \"Starting #{num} instances of #{name}\"\n",
    "end\n",
    "\n",
    "Hello.do_it \"cristian\""
   ]
  },
  {
   "cell_type": "markdown",
   "metadata": {},
   "source": [
    "Be careful with default parameters, they can clash with previous function definitions and the Elixir compiler will tell you that.\n",
    "\n",
    "You can mix default parameters with conditional declarations, in that case you should declare an empty header with the full optional arguments."
   ]
  },
  {
   "cell_type": "code",
   "execution_count": 24,
   "metadata": {},
   "outputs": [
    {
     "data": {
      "text/plain": [
       "{:module, Hello, <<70, 79, 82, 49, 0, 0, 5, 216, 66, 69, 65, 77, 65, 116, 85, 56, 0, 0, 0, 169, 0, 0, 0, 17, 12, 69, 108, 105, 120, 105, 114, 46, 72, 101, 108, 108, 111, 8, 95, 95, 105, 110, 102, 111, 95, 95, 9, ...>>, {:do_it, 2}}"
      ]
     },
     "execution_count": 24,
     "metadata": {},
     "output_type": "execute_result"
    }
   ],
   "source": [
    "defmodule Hello do\n",
    "  def do_it(name, num \\\\ 1)\n",
    "  \n",
    "  def do_it(name, num), do: \"Starting #{num} instances of #{name}\"\n",
    "  def do_it(name, 0), do: \"I won't be starting #{name} at all\"\n",
    "end"
   ]
  },
  {
   "cell_type": "markdown",
   "metadata": {},
   "source": [
    "It is not bad to say, this applies if you use `when...` declarations as well."
   ]
  },
  {
   "cell_type": "markdown",
   "metadata": {},
   "source": [
    "You remember the tale about functions being like variables and all of that? well, if we know the function signature we can actually retrieve it from the module and assign it to a variable, like a pro:"
   ]
  },
  {
   "cell_type": "code",
   "execution_count": 27,
   "metadata": {},
   "outputs": [
    {
     "data": {
      "text/plain": [
       "\"Starting 2 instances of cristian\""
      ]
     },
     "execution_count": 27,
     "metadata": {},
     "output_type": "execute_result"
    }
   ],
   "source": [
    "defmodule Hello do\n",
    "  def do_it(name, num \\\\ 1)\n",
    "  \n",
    "  def do_it(name, num), do: \"Starting #{num} instances of #{name}\"\n",
    "  def do_it(name, 0), do: \"I won't be starting #{name} at all\"\n",
    "end\n",
    "\n",
    "hello = &Hello.do_it/2\n",
    "\n",
    "hello.(\"cristian\", 2)"
   ]
  },
  {
   "cell_type": "markdown",
   "metadata": {},
   "source": [
    "Just be aware that if you want to execute this function inside the variable, you converted a named function to an anonymous function now, so you know how to do the execution, with the `.` (dot)"
   ]
  },
  {
   "cell_type": "markdown",
   "metadata": {},
   "source": [
    "**Be careful**, the `&` notation for variables is _dynamic_, it means that _it will always return something even if the module or function doesn't exist at all_. It is lazy, so you could declare the module later or it is in execution time when the execution is dispatched, this is how Erlang execute functions and it makes a lot of sense in the actor/executor model in Erlang."
   ]
  },
  {
   "cell_type": "code",
   "execution_count": 29,
   "metadata": {},
   "outputs": [
    {
     "data": {
      "text/plain": [
       "&NotExisting.imaginary/1"
      ]
     },
     "execution_count": 29,
     "metadata": {},
     "output_type": "execute_result"
    }
   ],
   "source": [
    "&NotExisting.imaginary/1"
   ]
  },
  {
   "cell_type": "markdown",
   "metadata": {},
   "source": [
    "We can use the `&` notation as a shortcut to create anonymous functions too, but it looks awful."
   ]
  },
  {
   "cell_type": "code",
   "execution_count": 30,
   "metadata": {},
   "outputs": [
    {
     "data": {
      "text/plain": [
       "7"
      ]
     },
     "execution_count": 30,
     "metadata": {},
     "output_type": "execute_result"
    }
   ],
   "source": [
    "sum = &(&1 + &2)\n",
    "sum.(3, 4)"
   ]
  },
  {
   "cell_type": "markdown",
   "metadata": {},
   "source": [
    "The `&1` and `&2` refer to the _first and second argument_ respectively, you see, it looks ugly, but maybe you like it and it makes you feel hardcore, like an assembler developer or something."
   ]
  },
  {
   "cell_type": "markdown",
   "metadata": {},
   "source": [
    "## Recursion"
   ]
  },
  {
   "cell_type": "markdown",
   "metadata": {},
   "source": [
    "We don't have `for` loops in Elixir, like in _real_ FP languages (OCaml, Haskell, etc) we depend on recursion instead of explicit looping. Different than F# or OCaml, we don't need to explicitly declare recursive functions with `rec`, instead we just used."
   ]
  },
  {
   "cell_type": "markdown",
   "metadata": {},
   "source": [
    "The typical example of recursion is a function to sum a list."
   ]
  },
  {
   "cell_type": "code",
   "execution_count": 20,
   "metadata": {},
   "outputs": [
    {
     "data": {
      "text/plain": [
       "10"
      ]
     },
     "execution_count": 20,
     "metadata": {},
     "output_type": "execute_result"
    }
   ],
   "source": [
    "defmodule Hello do\n",
    "  def sum_list(list, accum \\\\ 0)\n",
    "  def sum_list([], accum), do: accum\n",
    "  def sum_list(list, accum) do\n",
    "    [head | tail] = list\n",
    "    sum_list tail, (head + accum)\n",
    "  end\n",
    "end\n",
    "\n",
    "Hello.sum_list [1,2,3,4]"
   ]
  },
  {
   "cell_type": "markdown",
   "metadata": {},
   "source": [
    "Notice how we decompose the list using our friend, the match operator, like in F#/OCaml/Haskell. We can do better than this and do the decomposition in the declaration."
   ]
  },
  {
   "cell_type": "code",
   "execution_count": 21,
   "metadata": {},
   "outputs": [
    {
     "data": {
      "text/plain": [
       "10"
      ]
     },
     "execution_count": 21,
     "metadata": {},
     "output_type": "execute_result"
    }
   ],
   "source": [
    "defmodule Hello do\n",
    "  def sum_list(list, accum \\\\ 0)\n",
    "  def sum_list([], accum), do: accum\n",
    "  def sum_list([ head | tail ], accum), do: sum_list tail, (head + accum)\n",
    "end\n",
    "\n",
    "Hello.sum_list [1,2,3,4]"
   ]
  },
  {
   "cell_type": "markdown",
   "metadata": {},
   "source": [
    "Sweet! we even look like a real CS engineer and not somebody who just learnt how to code! (or coming from that institute as my friend Byron will say)."
   ]
  }
 ],
 "metadata": {
  "kernelspec": {
   "display_name": "Elixir",
   "language": "Elixir",
   "name": "ielixir"
  },
  "language_info": {
   "codemirror_mode": "elixir",
   "file_extension": "ex",
   "mimetype": "text/x-elixir",
   "name": "elixir",
   "nbconvert_exporter": "",
   "pygments_lexer": "elixir",
   "version": "#Version<1.6.6>"
  }
 },
 "nbformat": 4,
 "nbformat_minor": 2
}
