{
 "cells": [
  {
   "cell_type": "markdown",
   "metadata": {},
   "source": [
    "# Vectors and Python, take 2\n",
    "\n",
    "Now we will try vectors and points again, but this time without all the fancy bullshit from that stupid chapter. Let's start with the definition of point and vectors:\n",
    "\n",
    " * **Point** location in space, it is represented by its coordinates, we represent places or locations with points\n",
    " * **Vector** it has direction and magnitude but no location, we represent displacements, directions with vectors\n",
    " \n",
    "Both are described in math with a one column or one row transposed matrix:\n",
    "\n",
    "$$\n",
    "\\begin{bmatrix} x \\\\ y \\\\ z \\end{bmatrix} = (x, y, z)^\\top\n",
    "$$\n",
    "\n",
    "We can define Point and Vector practically the same, but avoiding a common base class, because even when both concepts are _represented_ the same and they _look the same_ in reality they are very different things.\n",
    "\n",
    "Vectors have a name, denoted by a bolded name or an arrow on the name ($\\mathbf{v}, \\vec{v}$)."
   ]
  },
  {
   "cell_type": "code",
   "execution_count": 1,
   "metadata": {},
   "outputs": [],
   "source": [
    "class Point:\n",
    "    def __init__(self, x: float = 0, y: float = 0, z: float = 0):\n",
    "        self.x = x\n",
    "        self.y = y\n",
    "        self.z = z\n",
    "    \n",
    "    def __repr__(self) -> str:\n",
    "        return f'<Point {self.x}, {self.y}, {self.z}>'\n",
    "    \n",
    "class Vector:\n",
    "    def __init__(self, x: float = 0, y: float = 0, z: float = 0):\n",
    "        self.x = x\n",
    "        self.y = y\n",
    "        self.z = z\n",
    "    \n",
    "    def __repr__(self) -> str:\n",
    "        return f'<Vector {self.x}, {self.y}, {self.z}>'"
   ]
  },
  {
   "cell_type": "code",
   "execution_count": 2,
   "metadata": {},
   "outputs": [
    {
     "data": {
      "text/plain": [
       "<Vector 1, 2, 3>"
      ]
     },
     "execution_count": 2,
     "metadata": {},
     "output_type": "execute_result"
    }
   ],
   "source": [
    "Vector(1,2,3)"
   ]
  },
  {
   "cell_type": "markdown",
   "metadata": {},
   "source": [
    "## Addition and substraction\n",
    "\n",
    "The addition of a vector to a point is sometimes called displacement (and used to denote that). It can be used to denote how an object have to move from point a to point b, so the _substraction_ of two points will result in a vector while the addition of a vector to a point will result into another point. There is no reason (while possible) to add two points.\n",
    "\n",
    "Both operations are easily defined:\n",
    "\n",
    "$$\n",
    "\\begin{bmatrix} x_v \\\\ y_v \\\\ z_v \\end{bmatrix} + \\begin{bmatrix} x_u \\\\ y_u \\\\ z_u \\end{bmatrix} = \\begin{bmatrix} x_v + x_u \\\\ y_v + y_u \\\\ z_v + z_u \\end{bmatrix}\n",
    "$$"
   ]
  },
  {
   "cell_type": "code",
   "execution_count": 3,
   "metadata": {},
   "outputs": [],
   "source": [
    "def substract_point(self, other: Point) -> Vector:\n",
    "    return Vector(other.x - self.x, other.y - self.y, other.z - self.z)\n",
    "\n",
    "Point.__sub__ = substract_point\n",
    "\n",
    "def add_vector_to_point(self, other: Vector) -> Point:\n",
    "    return Point(self.x + other.x, self.y + other.x, self.z + other.z)\n",
    "\n",
    "Point.__add__ = add_vector_to_point"
   ]
  },
  {
   "cell_type": "code",
   "execution_count": 4,
   "metadata": {},
   "outputs": [
    {
     "data": {
      "text/plain": [
       "<Vector 4, 4, -5>"
      ]
     },
     "execution_count": 4,
     "metadata": {},
     "output_type": "execute_result"
    }
   ],
   "source": [
    "Point(3, 5, 6) - Point(7, 9, 1)"
   ]
  },
  {
   "cell_type": "code",
   "execution_count": 5,
   "metadata": {},
   "outputs": [
    {
     "data": {
      "text/plain": [
       "<Point 7, 9, 1>"
      ]
     },
     "execution_count": 5,
     "metadata": {},
     "output_type": "execute_result"
    }
   ],
   "source": [
    "Point(3, 5, 6) + Vector(4, 4, -5)"
   ]
  },
  {
   "cell_type": "markdown",
   "metadata": {},
   "source": [
    "### Now it is vector time"
   ]
  },
  {
   "cell_type": "code",
   "execution_count": 6,
   "metadata": {},
   "outputs": [],
   "source": [
    "def add_vector(self, other: Vector) -> Vector:\n",
    "    return Vector(self.x + other.x, self.y + other.y, self.z + other.z)\n",
    "\n",
    "def substract_vector(self, other: Vector) -> Vector:\n",
    "    return Vector(self.x - other.x, self.y - other.y, self.z - other.z)\n",
    "\n",
    "Vector.__add__ = add_vector\n",
    "Vector.__sub__ = substract_vector"
   ]
  },
  {
   "cell_type": "code",
   "execution_count": 8,
   "metadata": {},
   "outputs": [
    {
     "data": {
      "text/plain": [
       "<Vector 8, 10, 12>"
      ]
     },
     "execution_count": 8,
     "metadata": {},
     "output_type": "execute_result"
    }
   ],
   "source": [
    "Vector(3, 4, 5) + Vector(5,6,7)"
   ]
  },
  {
   "cell_type": "markdown",
   "metadata": {},
   "source": [
    "## Scalar multiplication\n",
    "\n",
    "We can multiply a number to a Vector, this is helpful to _scale_ that vector, for example, making a vector bigger or smaller, the product, of course, is a vector:\n",
    "\n",
    "$$\n",
    "k\\begin{bmatrix}x\\\\y\\\\z\\end{bmatrix} = \\begin{bmatrix}kx\\\\ky\\\\kz\\end{bmatrix}\n",
    "$$"
   ]
  },
  {
   "cell_type": "code",
   "execution_count": 11,
   "metadata": {},
   "outputs": [],
   "source": [
    "from numbers import Real\n",
    "\n",
    "def scale_vector(self, other: Real) -> Vector:\n",
    "    return Vector(self.x*other, self.y*other, self.z*other)\n",
    "\n",
    "Vector.__rmul__ = scale_vector"
   ]
  },
  {
   "cell_type": "code",
   "execution_count": 12,
   "metadata": {},
   "outputs": [
    {
     "data": {
      "text/plain": [
       "<Vector 3, 3, 3>"
      ]
     },
     "execution_count": 12,
     "metadata": {},
     "output_type": "execute_result"
    }
   ],
   "source": [
    "3 * Vector(1, 1, 1)"
   ]
  },
  {
   "cell_type": "markdown",
   "metadata": {},
   "source": [
    "## Magnitude or length\n",
    "\n",
    "As you remember, a Vector has no position, but it has magnitude or sometimes called length. That is basically the result of applying the pythagoras formula to its dimensions. A magnitude is usually used to show how strong the vector is, for example, the speed it is moving in a given direction. In mathematics it is specified using the vector name between bars ($|\\ \\vec{v}\\ |$):\n",
    "\n",
    "$$\n",
    "\\lvert \\mathbf{v} \\rvert = \\sqrt{v_x^2 + v_y^2 + v_z^2}\n",
    "$$"
   ]
  },
  {
   "cell_type": "code",
   "execution_count": 21,
   "metadata": {},
   "outputs": [],
   "source": [
    "import math\n",
    "\n",
    "@property\n",
    "def vector_length(self) -> float:\n",
    "    return math.sqrt(self.x**2 + self.y**2 + self.z**2)\n",
    "\n",
    "Vector.length = vector_length\n",
    "Vector.__abs__ = lambda self: self.length"
   ]
  },
  {
   "cell_type": "code",
   "execution_count": 23,
   "metadata": {},
   "outputs": [
    {
     "data": {
      "text/plain": [
       "3.7416573867739413"
      ]
     },
     "execution_count": 23,
     "metadata": {},
     "output_type": "execute_result"
    }
   ],
   "source": [
    "abs(Vector(1, 2, 3))"
   ]
  },
  {
   "cell_type": "markdown",
   "metadata": {},
   "source": [
    "## Unit vectors\n",
    "\n",
    "Sometimes we need just the direction of a vector, we don't need its magnitude. To do that we can _normalize_ a vector and this special vector is called _unit vector_ and it is denoted in mathematics by a hat vector name ($\\hat{v}$):\n",
    "\n",
    "$$\n",
    "\\hat{v} = \\frac{\\vec{v}}{\\lvert \\mathbf{v} \\rvert}\n",
    "$$"
   ]
  },
  {
   "cell_type": "code",
   "execution_count": 29,
   "metadata": {},
   "outputs": [],
   "source": [
    "def divide_vector(self, other: Real) -> Vector:\n",
    "    return Vector(self.x/other, self.y/other, self.z/other)\n",
    "\n",
    "Vector.__truediv__ = divide_vector\n",
    "\n",
    "@property\n",
    "def unit(self) -> Vector:\n",
    "    return self / abs(self)\n",
    "\n",
    "Vector.unit = unit\n",
    "Vector.__invert__ = lambda self: self.unit"
   ]
  },
  {
   "cell_type": "code",
   "execution_count": 30,
   "metadata": {},
   "outputs": [
    {
     "data": {
      "text/plain": [
       "<Vector 0.31622776601683794, 0.0, 0.9486832980505138>"
      ]
     },
     "execution_count": 30,
     "metadata": {},
     "output_type": "execute_result"
    }
   ],
   "source": [
    "~Vector(1, 0, 3)"
   ]
  },
  {
   "cell_type": "markdown",
   "metadata": {},
   "source": [
    "## Negate a vector\n",
    "\n",
    "This is easy, a negative vector is just a vector with all its members negated:\n",
    "\n",
    "$$\n",
    "-\\begin{bmatrix}x \\\\ y \\\\ z\\end{bmatrix} = \\begin{bmatrix}-x \\\\ -y \\\\ -z\\end{bmatrix}\n",
    "$$"
   ]
  },
  {
   "cell_type": "code",
   "execution_count": 27,
   "metadata": {},
   "outputs": [],
   "source": [
    "def negate_vector(self) -> Vector:\n",
    "    return Vector(-self.x, -self.y, -self.z)\n",
    "\n",
    "Vector.__neg__ = negate_vector"
   ]
  },
  {
   "cell_type": "code",
   "execution_count": 28,
   "metadata": {},
   "outputs": [
    {
     "data": {
      "text/plain": [
       "<Vector -1, -2, 3>"
      ]
     },
     "execution_count": 28,
     "metadata": {},
     "output_type": "execute_result"
    }
   ],
   "source": [
    "-Vector(1, 2, -3)"
   ]
  },
  {
   "cell_type": "markdown",
   "metadata": {},
   "source": [
    "# Vector multiplication\n",
    "\n",
    "We have _two multiplicantion operations_\n",
    "\n",
    "## dot product\n",
    "\n",
    "This is the sum of the products of elements of a vector:\n",
    "\n",
    "$$\n",
    "\\mathbf{v} \\cdot \\mathbf{u} = \\sum_{i=1}^n u_i v_i\n",
    "$$\n",
    "\n",
    "There are a few interesting things tied to the dot product:\n",
    "\n",
    "$$\n",
    "\\begin{align*}\n",
    "\\mathbf{v} \\cdot \\mathbf{v}       & = \\lvert \\mathbf{v} \\rvert^2 \\\\\n",
    "\\lvert \\mathbf{v} \\cdot \\mathbf{u} \\rvert & \\le \\lvert \\mathbf{v} \\rvert \\lvert \\mathbf{u} \\rvert\n",
    "\\end{align*}\n",
    "$$\n",
    "\n",
    "The most important property or equation of dot product is probably this one:\n",
    "\n",
    "$$\n",
    "\\mathbf{v}\\cdot\\mathbf{u} = \\lvert \\mathbf{v} \\rvert \\lvert \\mathbf{u} \\rvert \\cos{\\theta}\n",
    "$$\n",
    "\n",
    "In this case, $\\theta$ is the angle between vector $\\mathbf{v}$ and $\\mathbf{u}$, this is important because:\n",
    "\n",
    " * In calculations it is _a lot faster_ than the trigonometric version (the sum of products)\n",
    " * We can calculate the angle between two vectors, because when $|\\ \\mathbf{v}\\ | = |\\ \\mathbf{u}\\ | = 1$ we know that $\\cos{\\theta} = \\mathbf{v} \\cdot \\mathbf{u}$\n",
    " * When two vectors are perpendicular if they are **normal** to each other, in other words, their dot product is zero, $\\mathbf{v} \\perp \\mathbf{u} \\Rightarrow \\mathbf{v} \\cdot \\mathbf{u} = 0$\n",
    " * A way to create a perpendicular vector is reversing two of the coordinate elements, zero one of them and negate one of them. eg. $(x, y, z)^\\top \\perp (-z, 0, x)^\\top$\n",
    " * A vector can have multiple normal vectors to it, specially 3D vectors.\n",
    " * Vectors are perpendicular one to the other $\\mathbf{v} \\cdot \\mathbf{u} = 0 \\Leftrightarrow \\lvert \\theta \\rvert = 90°$, vectors are perpendicular ($\\mathbf{v} \\perp \\mathbf{u}$)\n",
    " * Vectors are in acute angle, $\\mathbf{v}\\cdot\\mathbf{u}\\gt0\\Leftrightarrow 0° \\le \\theta \\lt 90°$, vectors are pointing to the same direction\n",
    " * Vectors are in obtuse angle, $\\mathbf{v}\\cdot\\mathbf{u}\\lt0\\Leftrightarrow 180° \\ge \\theta \\gt90°$, vectors are pointing to opposite directions\n",
    " \n",
    "Finding the angle is interesting, mostly because it is a common operation. Let's say we need to get a formula for it:\n",
    "\n",
    "$$\n",
    "\\begin{align*}\n",
    "\\mathbf{v}\\cdot\\mathbf{u} & = \\lvert\\mathbf{v}\\rvert\\ \\lvert\\mathbf{u}\\rvert \\cos{\\theta} \\\\\n",
    "\\cos{\\theta} & = \\frac{\\mathbf{v}}{\\lvert \\mathbf{v} \\rvert \\lvert \\mathbf{u} \\rvert} \\\\\n",
    "\\theta & = \\cos^{-1}{\\left(\\frac{\\mathbf{v} \\cdot \\mathbf{u}}{\\lvert \\mathbf{v} \\rvert \\lvert \\mathbf{u} \\rvert}\\right)} \\\\\n",
    "\\theta & = \\cos^{-1}{\\left(\\hat{v} \\cdot \\hat{u}\\right)}\n",
    "\\end{align*}\n",
    "$$"
   ]
  },
  {
   "cell_type": "markdown",
   "metadata": {},
   "source": [
    "Before continuing with more, let's define this in Python"
   ]
  },
  {
   "cell_type": "code",
   "execution_count": 33,
   "metadata": {},
   "outputs": [],
   "source": [
    "def dot_product(self, other: Vector) -> float:\n",
    "    return self.x*other.x + self.y*other.y + self.z*other.z\n",
    "\n",
    "Vector.__matmul__ = dot_product"
   ]
  },
  {
   "cell_type": "code",
   "execution_count": 35,
   "metadata": {},
   "outputs": [
    {
     "data": {
      "text/plain": [
       "32"
      ]
     },
     "execution_count": 35,
     "metadata": {},
     "output_type": "execute_result"
    }
   ],
   "source": [
    "Vector(1, 2, 3) @ Vector(4, 5, 6)"
   ]
  },
  {
   "cell_type": "code",
   "execution_count": 39,
   "metadata": {},
   "outputs": [],
   "source": [
    "def angle(self, other: Vector) -> float:\n",
    "    return math.acos(~self @ ~other)\n",
    "\n",
    "Vector.angle = angle"
   ]
  },
  {
   "cell_type": "code",
   "execution_count": 40,
   "metadata": {},
   "outputs": [
    {
     "data": {
      "text/plain": [
       "0.2257261285527342"
      ]
     },
     "execution_count": 40,
     "metadata": {},
     "output_type": "execute_result"
    }
   ],
   "source": [
    "Vector(1, 2, 3).angle(Vector(4, 5, 6))"
   ]
  },
  {
   "cell_type": "markdown",
   "metadata": {},
   "source": [
    "### Vector projection\n",
    "\n",
    "A very common operation in vector mathematics for computer graphics is vector projection. Notice the following image ![](https://www.3dgep.com/wp-content/uploads/2011/02/VectorProjection.png)\n",
    "\n",
    "In our case, the parallel projection of $\\mathbf{v}$ on $\\mathbf{n}$ is the parallel vector $\\mathbf{v}_\\parallel$ and the perpendicular projection of $\\mathbf{v}$ on $\\mathbf{n}$ is the perpendicular vector $\\mathbf{v}_\\perp$\n",
    "\n",
    "#### Parallel projection\n",
    "\n",
    "Using what we know about the dot product of $\\mathbf{v}$ and $\\mathbf{n}$ we can say the following:\n",
    "\n",
    "$$\n",
    "\\mathbf{v}_\\parallel = \\frac{\\mathbf{n}}{\\lvert\\mathbf{n}\\rvert}\\lvert\\mathbf{v}_\\parallel\\rvert\n",
    "$$\n",
    "\n",
    "Go and take a look at https://www.3dgep.com/3d-math-primer-for-game-programmers-vector-operations/#Vector_Projection and it will nicely explain how you got into this nicer formula:\n",
    "\n",
    "$$\n",
    "\\mathbf{v}_\\parallel = \\mathbf{n}\\frac{\\mathbf{v} \\cdot \\mathbf{n}}{\\lvert \\mathbf{n}^2 \\rvert}\n",
    "$$"
   ]
  },
  {
   "cell_type": "code",
   "execution_count": 43,
   "metadata": {},
   "outputs": [],
   "source": [
    "def parallel_vector(self, other: Vector) -> Vector:\n",
    "    return ((self @ other) / abs(other)**2) * other\n",
    "\n",
    "Vector.parallel = parallel_vector"
   ]
  },
  {
   "cell_type": "code",
   "execution_count": 49,
   "metadata": {},
   "outputs": [
    {
     "data": {
      "text/plain": [
       "<Vector 0.9899494936611666, 0.1414213562373095, 0.0>"
      ]
     },
     "execution_count": 49,
     "metadata": {},
     "output_type": "execute_result"
    }
   ],
   "source": [
    "(Vector(11, 11, 0).parallel(Vector(7, 1, 0))).unit"
   ]
  },
  {
   "cell_type": "code",
   "execution_count": 50,
   "metadata": {},
   "outputs": [
    {
     "data": {
      "text/plain": [
       "<Vector 0.9899494936611665, 0.1414213562373095, 0.0>"
      ]
     },
     "execution_count": 50,
     "metadata": {},
     "output_type": "execute_result"
    }
   ],
   "source": [
    "Vector(7, 1, 0).unit"
   ]
  },
  {
   "cell_type": "markdown",
   "metadata": {},
   "source": [
    "When two vectors are parallel, their _unit vector_ is exactly the same. As we can see here, $\\mathbf{v}_\\parallel$ and $\\mathbf{n}$ are parallel because $\\hat{v}_\\parallel = \\hat{n}$\n",
    "\n",
    "#### Perpendicular projection"
   ]
  },
  {
   "cell_type": "markdown",
   "metadata": {},
   "source": [
    "Thanks to geometry we know that $\\mathbf{v} = \\mathbf{v}_\\parallel + \\mathbf{v}_\\perp$ then we can say that $\\mathbf{v}_\\perp = \\mathbf{v} - \\mathbf{v}_\\parallel$ and because we know how to get $\\mathbf{v}_\\parallel$:\n",
    "\n",
    "$$\n",
    "\\mathbf{v}_\\perp = \\mathbf{v} - \\mathbf{n}\\frac{\\mathbf{v} \\cdot \\mathbf{n}}{\\lvert \\mathbf{n}^2 \\rvert}\n",
    "$$"
   ]
  },
  {
   "cell_type": "code",
   "execution_count": 54,
   "metadata": {},
   "outputs": [],
   "source": [
    "def perp_vector(self, other: Vector) -> Vector:\n",
    "    return self - self.parallel(other)\n",
    "\n",
    "Vector.perp = perp_vector"
   ]
  },
  {
   "cell_type": "code",
   "execution_count": 58,
   "metadata": {},
   "outputs": [
    {
     "data": {
      "text/plain": [
       "0.0"
      ]
     },
     "execution_count": 58,
     "metadata": {},
     "output_type": "execute_result"
    }
   ],
   "source": [
    "round((Vector(11, 11, 0).perp(Vector(7, 1, 0))) @ Vector(7, 1, 0), 4)"
   ]
  },
  {
   "cell_type": "markdown",
   "metadata": {},
   "source": [
    "As we remember, two vectors are perpendicular if their dot product is 0."
   ]
  },
  {
   "cell_type": "markdown",
   "metadata": {},
   "source": [
    "## Cross product\n",
    "\n",
    "This is probably the easiest to explain, the cross product is the perpendicular vector of two vectors. This is super helpful when calculating the perpendicular vector to a plane. Think about the reflection of light into a surface.\n",
    "\n",
    "![](https://chortle.ccsu.edu/VectorLessons/vch12/sunPicture.gif)\n",
    "\n",
    "It returns a vector (note the dot product returns a scalar, the cross product returns a vector). The cross product symbol is a $\\times$ and it is defined as:\n",
    "\n",
    "$$\n",
    "\\begin{bmatrix} x_v \\\\ y_v \\\\ z_b\\end{bmatrix} \\times \\begin{bmatrix}x_u \\\\ y_u \\\\ z_u\\end{bmatrix}\n",
    "= \\begin{bmatrix}y_vz_u - z_vy_u \\\\ z_vx_u - x_vz_u \\\\ x_vy_u - y_vx_u \\end{bmatrix}\n",
    "$$"
   ]
  },
  {
   "cell_type": "code",
   "execution_count": 60,
   "metadata": {},
   "outputs": [],
   "source": [
    "def cross_product(self, other: Vector) -> Vector:\n",
    "    _x = self.y*other.z - self.z*other.y\n",
    "    _y = self.z*other.x - self.x*other.z\n",
    "    _z = self.x*other.y - self.y*other.x\n",
    "    return Vector(_x, _y, _z)\n",
    "\n",
    "Vector.cross = cross_product"
   ]
  },
  {
   "cell_type": "code",
   "execution_count": 61,
   "metadata": {},
   "outputs": [
    {
     "data": {
      "text/plain": [
       "<Vector -3, 6, -3>"
      ]
     },
     "execution_count": 61,
     "metadata": {},
     "output_type": "execute_result"
    }
   ],
   "source": [
    "Vector(1, 2, 3).cross(Vector(4,5,6))"
   ]
  },
  {
   "cell_type": "markdown",
   "metadata": {},
   "source": [
    "The cross product _is not commutative_, this means if we reverse the order of factors we have the opposite result:"
   ]
  },
  {
   "cell_type": "code",
   "execution_count": 62,
   "metadata": {},
   "outputs": [
    {
     "data": {
      "text/plain": [
       "<Vector 3, -6, 3>"
      ]
     },
     "execution_count": 62,
     "metadata": {},
     "output_type": "execute_result"
    }
   ],
   "source": [
    "Vector(4,5,6).cross(Vector(1,2,3))"
   ]
  },
  {
   "cell_type": "markdown",
   "metadata": {},
   "source": [
    "See? it is the opposite as the previous cross product:\n",
    "\n",
    "$$\n",
    "\\mathbf{v} \\times \\mathbf{u} = (x,y,z)^\\top \\Rightarrow \n",
    "\\mathbf{u} \\times \\mathbf{v} = -(x,y,z)^\\top\n",
    "$$"
   ]
  },
  {
   "cell_type": "markdown",
   "metadata": {},
   "source": [
    "The cross product happens before other products, like the dot product, it is _not associative_. If you think about it doesn't make sense do a cross product between a scalar and a vector!\n",
    "\n",
    "$$\n",
    "k\\vec{u} \\cdot \\vec{v} \\times \\vec{w} = k\\vec{u} \\cdot \\left( \\vec{v} \\times \\vec{w} \\right)\n",
    "$$\n",
    "\n",
    "The result of a cross product and dot product is called _triple product_."
   ]
  },
  {
   "cell_type": "markdown",
   "metadata": {},
   "source": [
    "### Triple product\n",
    "\n",
    "The triple product, or the product of two vectors dot product with a cross product with another vector, is notated in mathematics by $(\\mathbf{u}, \\mathbf{v}, \\mathbf{w})$ and it is equal to $\\mathbf{u} \\cdot \\mathbf{v} \\times \\mathbf{w}$. It can be defined in coordinate system as well:\n",
    "\n",
    "$$\n",
    "(\\mathbf{u}, \\mathbf{v}, \\mathbf{w}) =\n",
    "\\begin{bmatrix}\n",
    "x_u & y_u & z_u \\\\\n",
    "x_v & y_v & z_v \\\\\n",
    "x_w & y_w & z_w\n",
    "\\end{bmatrix}\n",
    "$$\n",
    "\n",
    "The area of the figure under the triple product of vectors is equal to the absolute value of the triple product scalar of this vector: $\\lvert (\\mathbf{u}, \\mathbf{v}, \\mathbf{w}) \\rvert$\n",
    "\n",
    "<img src=\"https://www.math24.net/wp-content/uploads/2016/10/volume-of-parallelepiped-through-vectors.svg\" alt=\"Triple product\" style=\"width: 200px;\"/>\n"
   ]
  },
  {
   "cell_type": "code",
   "execution_count": null,
   "metadata": {},
   "outputs": [],
   "source": []
  }
 ],
 "metadata": {
  "kernelspec": {
   "display_name": "Python 3",
   "language": "python",
   "name": "python3"
  },
  "language_info": {
   "codemirror_mode": {
    "name": "ipython",
    "version": 3
   },
   "file_extension": ".py",
   "mimetype": "text/x-python",
   "name": "python",
   "nbconvert_exporter": "python",
   "pygments_lexer": "ipython3",
   "version": "3.6.3"
  }
 },
 "nbformat": 4,
 "nbformat_minor": 2
}
