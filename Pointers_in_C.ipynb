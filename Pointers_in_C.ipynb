{
 "cells": [
  {
   "cell_type": "markdown",
   "metadata": {},
   "source": [
    "# Pointers\n",
    "\n",
    "These are my notes about pointers in C, I decided to just give them a try again.\n",
    "\n",
    "## Pointer and constants"
   ]
  },
  {
   "cell_type": "markdown",
   "metadata": {},
   "source": [
    "The basics of pointer easily illustrated here:"
   ]
  },
  {
   "cell_type": "code",
   "execution_count": 1,
   "metadata": {
    "scrolled": true
   },
   "outputs": [
    {
     "name": "stdout",
     "output_type": "stream",
     "text": [
      "num: 100 addr: 0x7ffc346676dc\n",
      "num: 150 addr: 0x7ffc346676dc\n",
      "num: 200 addr: 0x7ffc346676dc\n"
     ]
    }
   ],
   "source": [
    "#include <stdio.h>\n",
    "\n",
    "int main(int argc, char **argv) {\n",
    "    int num = 100;\n",
    "    int *p = &num;\n",
    "    \n",
    "    printf(\"num: %i addr: %p\\n\", num, p);\n",
    "    \n",
    "    num = 150;\n",
    "    printf(\"num: %i addr: %p\\n\", num, p);\n",
    "    \n",
    "    *p = 200;\n",
    "    printf(\"num: %i addr: %p\\n\", num, p);\n",
    "}"
   ]
  },
  {
   "cell_type": "markdown",
   "metadata": {},
   "source": [
    "We can change a `const` value if we use redirection with a pointer. We will get a warning from the compiler in GCC and LLVM"
   ]
  },
  {
   "cell_type": "code",
   "execution_count": 2,
   "metadata": {},
   "outputs": [
    {
     "name": "stderr",
     "output_type": "stream",
     "text": [
      "/tmp/tmpf1gl4a1d.c: In function 'main':\n",
      "/tmp/tmpf1gl4a1d.c:5:14: warning: initialization discards 'const' qualifier from pointer target type [-Wdiscarded-qualifiers]\n",
      "     int *p = &num;\n",
      "              ^\n"
     ]
    },
    {
     "name": "stdout",
     "output_type": "stream",
     "text": [
      "num: 100 addr: 0x7ffc2835310c\n",
      "num: 200 addr: 0x7ffc2835310c\n"
     ]
    }
   ],
   "source": [
    "#include <stdio.h>\n",
    "\n",
    "int main(int argc, char **argv) {\n",
    "    const int num = 100;\n",
    "    int *p = &num;\n",
    "    \n",
    "    printf(\"num: %i addr: %p\\n\", num, p);\n",
    "    \n",
    "    *p = 200;\n",
    "    printf(\"num: %i addr: %p\\n\", num, p);\n",
    "}"
   ]
  },
  {
   "cell_type": "markdown",
   "metadata": {},
   "source": [
    "We can declare the pointer as `const` so it will protect against changes, this is a _pointer to constant_."
   ]
  },
  {
   "cell_type": "code",
   "execution_count": 4,
   "metadata": {},
   "outputs": [
    {
     "name": "stdout",
     "output_type": "stream",
     "text": [
      "num: 100 addr: 0x7fff00b11dac\n"
     ]
    }
   ],
   "source": [
    "#include <stdio.h>\n",
    "\n",
    "int main(int argc, char **argv) {\n",
    "    const int num = 100;\n",
    "    const int *p = &num;\n",
    "    \n",
    "    printf(\"num: %i addr: %p\\n\", num, p);\n",
    "}"
   ]
  },
  {
   "cell_type": "markdown",
   "metadata": {},
   "source": [
    "We can change the pointers as well:"
   ]
  },
  {
   "cell_type": "code",
   "execution_count": 5,
   "metadata": {},
   "outputs": [
    {
     "name": "stdout",
     "output_type": "stream",
     "text": [
      "num: 100 addr: 0x7ffc1bbbdf68\n",
      "num: 200 addr: 0x7ffc1bbbdf6c\n"
     ]
    }
   ],
   "source": [
    "#include <stdio.h>\n",
    "\n",
    "int main(int argc, char **argv) {\n",
    "    int num = 100;\n",
    "    int *p = &num;\n",
    "    \n",
    "    printf(\"num: %i addr: %p\\n\", *p, p);\n",
    "\n",
    "    int temp = 200;\n",
    "    p = &temp;\n",
    "    \n",
    "    printf(\"num: %i addr: %p\\n\", *p, p);\n",
    "}   "
   ]
  },
  {
   "cell_type": "markdown",
   "metadata": {},
   "source": [
    "But we can avoid changing the pointer address (not the value) using a _constant pointer_."
   ]
  },
  {
   "cell_type": "code",
   "execution_count": 7,
   "metadata": {},
   "outputs": [
    {
     "name": "stdout",
     "output_type": "stream",
     "text": [
      "num: 100 addr: 0x7ffd5d087b5c\n",
      "num: 150 addr: 0x7ffd5d087b5c\n",
      "num: 200 addr: 0x7ffd5d087b5c\n"
     ]
    }
   ],
   "source": [
    "#include <stdio.h>\n",
    "\n",
    "int main(int argc, char **argv) {\n",
    "    int num = 100;\n",
    "    int *const p = &num;\n",
    "    \n",
    "    printf(\"num: %i addr: %p\\n\", num, p);\n",
    "    \n",
    "    num = 150;\n",
    "    printf(\"num: %i addr: %p\\n\", num, p);\n",
    "    \n",
    "    *p = 200;\n",
    "    printf(\"num: %i addr: %p\\n\", num, p);\n",
    "}"
   ]
  },
  {
   "cell_type": "markdown",
   "metadata": {},
   "source": [
    "We can avoid this case using a _constant pointer to a constant_, this is not very common but hey."
   ]
  },
  {
   "cell_type": "code",
   "execution_count": 9,
   "metadata": {},
   "outputs": [
    {
     "name": "stdout",
     "output_type": "stream",
     "text": [
      "num: 100 p: 0x7ffc3d79d89c\n"
     ]
    }
   ],
   "source": [
    "#include <stdio.h>\n",
    "\n",
    "int main(int argc, char **argv) {\n",
    "    int const num = 100;\n",
    "    const int *const ptr = &num;\n",
    "    \n",
    "    printf(\"num: %i p: %p\\n\", num, ptr);\n",
    "}"
   ]
  },
  {
   "cell_type": "markdown",
   "metadata": {},
   "source": [
    "## Pointer arithmetics\n",
    "\n",
    "We add \"units\" to pointers instead of just numbers, so when we add 3 to an integer pointer we tell them _move the equivalent of three units of your size_, and the same for the substraction.\n",
    "\n",
    "This is just useful for arrays."
   ]
  },
  {
   "cell_type": "code",
   "execution_count": 27,
   "metadata": {},
   "outputs": [
    {
     "name": "stdout",
     "output_type": "stream",
     "text": [
      "ptr: 0x7fffed63cbd0 value: 10\n",
      "ptr: 0x7fffed63cbd8 value: 30\n",
      "ptr: 0x7fffed63cbd8 value: 30\n"
     ]
    }
   ],
   "source": [
    "#include <stdio.h>\n",
    "\n",
    "int main(int argc, char **argv) {\n",
    "    int ages[] = {10, 20, 30, 40};\n",
    "    int *ptr = ages;\n",
    "    \n",
    "    printf(\"ptr: %p value: %i\\n\", ptr, *ptr);\n",
    "    \n",
    "    ptr += 2;\n",
    "    printf(\"ptr: %p value: %i\\n\", ptr, *ptr);\n",
    "    \n",
    "    ptr = ages;\n",
    "    ptr += 3;\n",
    "    ptr--;\n",
    "    printf(\"ptr: %p value: %i\\n\", ptr, *ptr);\n",
    "}"
   ]
  },
  {
   "cell_type": "markdown",
   "metadata": {},
   "source": [
    "We can substract two pointers and that will give us the number of units separating them."
   ]
  },
  {
   "cell_type": "code",
   "execution_count": 33,
   "metadata": {},
   "outputs": [
    {
     "name": "stdout",
     "output_type": "stream",
     "text": [
      "p0: 0x7ffe922d4110 value: 10\n",
      "p1: 0x7ffe922d4114 value: 20\n",
      "p2: 0x7ffe922d4118 value: 30\n",
      "p2 - p0: 2\n"
     ]
    }
   ],
   "source": [
    "#include <stdio.h>\n",
    "\n",
    "int main(int argc, char **argv) {\n",
    "    int ages[] = {10, 20, 30, 40};\n",
    "    int *p0 = ages;\n",
    "    int *p1 = ages + 1;\n",
    "    int *p2 = ages + 2;\n",
    "    \n",
    "    printf(\"p0: %p value: %i\\n\", p0, *p0);\n",
    "    printf(\"p1: %p value: %i\\n\", p1, *p1);\n",
    "    printf(\"p2: %p value: %i\\n\", p2, *p2);\n",
    "    \n",
    "    printf(\"p2 - p0: %li\\n\", p2 - p0);\n",
    "}"
   ]
  },
  {
   "cell_type": "markdown",
   "metadata": {},
   "source": [
    "## Memory allocation"
   ]
  },
  {
   "cell_type": "markdown",
   "metadata": {},
   "source": [
    "We can use three different functions to allocate memory."
   ]
  },
  {
   "cell_type": "markdown",
   "metadata": {},
   "source": [
    "The first one, `malloc`, allocates memory but don't clear the memory after it:"
   ]
  },
  {
   "cell_type": "code",
   "execution_count": 36,
   "metadata": {},
   "outputs": [
    {
     "name": "stdout",
     "output_type": "stream",
     "text": [
      "ptr: 10 addr: 0x55eba521f240\n"
     ]
    }
   ],
   "source": [
    "#include <stdio.h>\n",
    "#include <stdlib.h>\n",
    "\n",
    "int main(int argc, char **argv) {\n",
    "    int *ptr = malloc(sizeof(int));\n",
    "    *ptr = 10;\n",
    "    \n",
    "    printf(\"ptr: %i addr: %p\\n\", *ptr, ptr);\n",
    "}"
   ]
  },
  {
   "cell_type": "markdown",
   "metadata": {},
   "source": [
    "If we want to alloc and clean memory, we can use the function `calloc`"
   ]
  },
  {
   "cell_type": "code",
   "execution_count": 37,
   "metadata": {},
   "outputs": [
    {
     "name": "stdout",
     "output_type": "stream",
     "text": [
      "ptr: 100 addr: 0x55bd09956240\n"
     ]
    }
   ],
   "source": [
    "#include <stdio.h>\n",
    "#include <stdlib.h>\n",
    "\n",
    "int main(int argc, char **argv) {\n",
    "    int *ptr = calloc(1, sizeof(int));\n",
    "    *ptr = 100;\n",
    "    printf(\"ptr: %i addr: %p\\n\", *ptr, ptr);\n",
    "}"
   ]
  },
  {
   "cell_type": "markdown",
   "metadata": {},
   "source": [
    "We can do the same without using `calloc` and only `malloc` and `memset`:"
   ]
  },
  {
   "cell_type": "code",
   "execution_count": 41,
   "metadata": {},
   "outputs": [],
   "source": [
    "#include <stdlib.h>\n",
    "#include <string.h>\n",
    "\n",
    "int main(int argc, char **argv) {\n",
    "    int *ptr = malloc(5 * sizeof(int));\n",
    "    memset(ptr, 0, 5 * sizeof(int));\n",
    "}"
   ]
  },
  {
   "cell_type": "markdown",
   "metadata": {},
   "source": [
    "We can reallocate memory with `realloc`:"
   ]
  },
  {
   "cell_type": "code",
   "execution_count": 2,
   "metadata": {},
   "outputs": [
    {
     "name": "stdout",
     "output_type": "stream",
     "text": [
      "string1 0x5590dc692240 [0123456789AB]\n",
      "string2 0x5590dc692240 [0123456789AB]\n"
     ]
    }
   ],
   "source": [
    "#include <stdio.h>\n",
    "#include <stdlib.h>\n",
    "#include <string.h>\n",
    "\n",
    "int main(int argc, char **argv) {\n",
    "    char *string1;\n",
    "    char *string2;\n",
    "    string1 = malloc(16 * sizeof(char));\n",
    "    strcpy(string1, \"0123456789AB\");\n",
    "    \n",
    "    string2 = realloc(string1, 8);\n",
    "    printf(\"string1 %p [%s]\\n\", string1, string1);\n",
    "    printf(\"string2 %p [%s]\\n\", string2, string2);\n",
    "}"
   ]
  },
  {
   "cell_type": "markdown",
   "metadata": {},
   "source": [
    "## Pointer in functions"
   ]
  },
  {
   "cell_type": "code",
   "execution_count": 9,
   "metadata": {},
   "outputs": [
    {
     "name": "stdout",
     "output_type": "stream",
     "text": [
      "b: 100\n"
     ]
    }
   ],
   "source": [
    "#include <stdio.h>\n",
    "\n",
    "void set_value(const int* a, int* b);\n",
    "\n",
    "int main() {\n",
    " const int limit = 100;\n",
    " int num = 5;\n",
    " set_value(&limit, &num);\n",
    " printf(\"b: %i\\n\", num);\n",
    "}\n",
    "\n",
    "void set_value(const int* a, int* b) {\n",
    "    *b = *a;\n",
    "}"
   ]
  },
  {
   "cell_type": "markdown",
   "metadata": {},
   "source": [
    "Notice we cannot assign any value to `a` because _it is a const_."
   ]
  },
  {
   "cell_type": "markdown",
   "metadata": {},
   "source": [
    "We can return a pointer from a function, this is useful with arrays but remember when this happens you have to free the memory by yourself."
   ]
  },
  {
   "cell_type": "code",
   "execution_count": 12,
   "metadata": {},
   "outputs": [
    {
     "name": "stdout",
     "output_type": "stream",
     "text": [
      "0: 0\n",
      "1: 2\n",
      "2: 4\n",
      "3: 6\n",
      "4: 8\n"
     ]
    }
   ],
   "source": [
    "#include <stdio.h>\n",
    "#include <stdlib.h>\n",
    "#include <strings.h>\n",
    "\n",
    "int* make_array(int start, int step, int count);\n",
    "\n",
    "int main() {\n",
    "    int max = 5;\n",
    "    int* items = make_array(0, 2, max);\n",
    "    for (int i = 0; i < max; i++) {\n",
    "        printf(\"%i: %i\\n\", i, items[i]);\n",
    "    }\n",
    "    free(items);\n",
    "}\n",
    "\n",
    "int* make_array(int start, int step, int count) {\n",
    "    int* result = malloc(count * sizeof(int));\n",
    "    int current = start;\n",
    "    for (int i = 0; i < count; i++) {\n",
    "        result[i] = current;\n",
    "        current += step;\n",
    "    }\n",
    "    return result;\n",
    "}"
   ]
  },
  {
   "cell_type": "markdown",
   "metadata": {},
   "source": [
    "You **should not** return a new array locally initialized in the function, because at the time they return the data is poped already from the stack."
   ]
  },
  {
   "cell_type": "code",
   "execution_count": 14,
   "metadata": {},
   "outputs": [
    {
     "name": "stderr",
     "output_type": "stream",
     "text": [
      "/tmp/tmpczgqr5xt.c: In function 'make_array':\n",
      "/tmp/tmpczgqr5xt.c:13:12: warning: function returns address of local variable [-Wreturn-local-addr]\n",
      "     return arr;\n",
      "            ^~~\n"
     ]
    }
   ],
   "source": [
    "#include <stdio.h>\n",
    "\n",
    "int* make_array(const int size);\n",
    "\n",
    "int main() {\n",
    "    int* items = make_array(5);\n",
    "}\n",
    "\n",
    "int* make_array(const int size) {\n",
    "    // NOTE: Don't do this, it will even return a warning!\n",
    "    int arr[size];\n",
    "    \n",
    "    return arr;\n",
    "}"
   ]
  },
  {
   "cell_type": "markdown",
   "metadata": {},
   "source": [
    "The only way to do _something similar_ is using a _static_ local variable. This variable is located _outside_ the stack so it won't be popped out of the stack when returning from the function, but every time you overwrite the value it will overwrite it for all the parts using it."
   ]
  },
  {
   "cell_type": "code",
   "execution_count": 3,
   "metadata": {},
   "outputs": [],
   "source": [
    "#include <stdio.h>\n",
    "\n",
    "int* make_array();\n",
    "\n",
    "int main() {\n",
    "    int* items = make_array();\n",
    "}\n",
    "\n",
    "int* make_array() {\n",
    "    // NOTE: Don't do this, it will even return a warning!\n",
    "    static int arr[5];\n",
    "    \n",
    "    return arr;\n",
    "}"
   ]
  },
  {
   "cell_type": "markdown",
   "metadata": {},
   "source": [
    "Because pointers are passed as value you cannot change the pointer for passing, to do so, you need to pass a pointer to a pointer:"
   ]
  },
  {
   "cell_type": "code",
   "execution_count": 5,
   "metadata": {},
   "outputs": [
    {
     "name": "stdout",
     "output_type": "stream",
     "text": [
      "a: 0x7ffc24b41cb0 b: 0x5624e9306917\n",
      "a: 0x5624e9306917 b: 0x7ffc24b41cb0\n"
     ]
    }
   ],
   "source": [
    "#include <stdio.h>\n",
    "\n",
    "void swap(int** a, int** b);\n",
    "\n",
    "int main() {\n",
    "    int* a;\n",
    "    int* b;\n",
    "    \n",
    "    printf(\"a: %p b: %p\\n\", a, b);\n",
    "    swap(&a, &b);\n",
    "    printf(\"a: %p b: %p\\n\", a, b);\n",
    "}\n",
    "\n",
    "void swap(int** a, int** b){\n",
    "    int* t = *a;\n",
    "    *a = *b;\n",
    "    *b = t;\n",
    "}"
   ]
  },
  {
   "cell_type": "markdown",
   "metadata": {},
   "source": [
    "## Pointers to function"
   ]
  },
  {
   "cell_type": "code",
   "execution_count": 6,
   "metadata": {},
   "outputs": [
    {
     "name": "stdout",
     "output_type": "stream",
     "text": [
      "5 squared is 25\n"
     ]
    }
   ],
   "source": [
    "#include <stdio.h>\n",
    "#include <stdlib.h>\n",
    "\n",
    "// This is a pointer to a function accepting an integer and returning an integer\n",
    "int (*operation)(int);\n",
    "\n",
    "int square(int num) {\n",
    "    return num*num;\n",
    "}\n",
    "\n",
    "int main() {\n",
    "    int n = 5;\n",
    "    operation = square;\n",
    "    printf(\"%d squared is %d\\n\", n, operation(n));\n",
    "}"
   ]
  },
  {
   "cell_type": "markdown",
   "metadata": {},
   "source": [
    "Notice how you put the name of the pointer to function in parenthesis."
   ]
  },
  {
   "cell_type": "markdown",
   "metadata": {},
   "source": [
    "You can pass a pointer to the function too:"
   ]
  },
  {
   "cell_type": "code",
   "execution_count": 13,
   "metadata": {},
   "outputs": [
    {
     "name": "stdout",
     "output_type": "stream",
     "text": [
      "Total is: 10\n"
     ]
    }
   ],
   "source": [
    "#include <stdio.h>\n",
    "#include <stdlib.h>\n",
    "\n",
    "int sum(int a, int b);\n",
    "int apply(int* items, int size, int (*op)(int, int));\n",
    "\n",
    "int main() {\n",
    "    const int size = 5;\n",
    "    int* items = malloc(size * sizeof(int));\n",
    "    for (int i = 0; i < size; i++) {\n",
    "        items[i] = i;\n",
    "    }\n",
    "    int total = apply(items, size, sum);\n",
    "    printf(\"Total is: %d\\n\", total);\n",
    "    free(items);\n",
    "}\n",
    "\n",
    "int sum(int a, int b) {\n",
    "    return a + b;\n",
    "}\n",
    "\n",
    "// NOTE: of course we will have to check the indexes!\n",
    "int apply(int* items, int size, int (*op)(int, int)) {\n",
    "    int x = items[0];\n",
    "    for (int idx = 1; idx < size; idx++) {\n",
    "        x = op(x, items[idx]);\n",
    "    }\n",
    "    return x;\n",
    "}"
   ]
  },
  {
   "cell_type": "markdown",
   "metadata": {},
   "source": [
    "We can avoid using the weird definition of `int (*op)(int, int)` and use `typedef` instead."
   ]
  },
  {
   "cell_type": "code",
   "execution_count": 14,
   "metadata": {},
   "outputs": [
    {
     "name": "stdout",
     "output_type": "stream",
     "text": [
      "Total is: 10\n"
     ]
    }
   ],
   "source": [
    "#include <stdio.h>\n",
    "#include <stdlib.h>\n",
    "\n",
    "typedef int (*operation)(int, int);\n",
    "\n",
    "int sum(int a, int b);\n",
    "int apply(int* items, int size, operation op);\n",
    "\n",
    "int main() {\n",
    "    const int size = 5;\n",
    "    int* items = malloc(size * sizeof(int));\n",
    "    for (int i = 0; i < size; i++) {\n",
    "        items[i] = i;\n",
    "    }\n",
    "    int total = apply(items, size, sum);\n",
    "    printf(\"Total is: %d\\n\", total);\n",
    "    free(items);\n",
    "}\n",
    "\n",
    "int sum(int a, int b) {\n",
    "    return a + b;\n",
    "}\n",
    "\n",
    "// NOTE: of course we will have to check the indexes!\n",
    "int apply(int* items, int size, operation op) {\n",
    "    int x = items[0];\n",
    "    for (int idx = 1; idx < size; idx++) {\n",
    "        x = op(x, items[idx]);\n",
    "    }\n",
    "    return x;\n",
    "}"
   ]
  },
  {
   "cell_type": "markdown",
   "metadata": {},
   "source": [
    "We can return a function pointer too!"
   ]
  },
  {
   "cell_type": "code",
   "execution_count": 1,
   "metadata": {},
   "outputs": [
    {
     "name": "stderr",
     "output_type": "stream",
     "text": [
      "[C kernel] Executable exited with code -11"
     ]
    }
   ],
   "source": [
    "#include <stdio.h>\n",
    "#include <stdlib.h>\n",
    "\n",
    "int add(int, int);\n",
    "int substract(int, int);\n",
    "typedef int (*operation)(int, int);\n",
    "operation select(char);\n",
    "int evaluate(char, int, int);\n",
    "\n",
    "int main() {\n",
    "    printf(\"%d\\n\", evaluate('+', 1, 2));\n",
    "    printf(\"%d\\n\", evaluate('-', 3, 1));\n",
    "}\n",
    "\n",
    "operation select(char opcode) {\n",
    "    switch(opcode) {\n",
    "        case '+': return add;\n",
    "        case '-': return substract;\n",
    "    }\n",
    "}\n",
    "\n",
    "int evaluate(char opcode, int a, int b) {\n",
    "    operation fn = select(opcode);\n",
    "    return fn(a, b);\n",
    "}\n",
    "\n",
    "int add(int a, int b) {\n",
    "    return a + b;\n",
    "}\n",
    "\n",
    "int substract(int a, int b) {\n",
    "    return a - b;\n",
    "}"
   ]
  },
  {
   "cell_type": "markdown",
   "metadata": {},
   "source": [
    "For some weird reason it is not working in this kernel :( but I promise if you write this piece of code in your system and compile it, it will work."
   ]
  },
  {
   "cell_type": "markdown",
   "metadata": {},
   "source": [
    "You can put functions in arrays as well"
   ]
  },
  {
   "cell_type": "code",
   "execution_count": 6,
   "metadata": {},
   "outputs": [
    {
     "name": "stdout",
     "output_type": "stream",
     "text": [
      "3\n",
      "1\n",
      "6\n"
     ]
    }
   ],
   "source": [
    "#include <stdio.h>\n",
    "\n",
    "int add(int, int);\n",
    "int substract(int, int);\n",
    "int multiply(int, int);\n",
    "int evaluate(char, int, int);\n",
    "\n",
    "static int (*operations[128])(int, int) = {NULL};\n",
    "\n",
    "void initOperations();\n",
    "\n",
    "int main() {\n",
    "    initOperations();\n",
    "    printf(\"%i\\n\", evaluate('+', 1, 2));\n",
    "    printf(\"%i\\n\", evaluate('-', 3, 2));\n",
    "    printf(\"%i\\n\", evaluate('*', 3, 2));\n",
    "}\n",
    "\n",
    "void initOperations() {\n",
    "    operations['+'] = add;\n",
    "    operations['-'] = substract;\n",
    "    operations['*'] = multiply;\n",
    "}\n",
    "\n",
    "int add(int a, int b) {\n",
    "    return a + b;\n",
    "}\n",
    "\n",
    "int substract(int a, int b) {\n",
    "    return a - b;\n",
    "}\n",
    "\n",
    "int multiply(int a, int b) {\n",
    "    return a * b;\n",
    "}\n",
    "\n",
    "int evaluate(char opcode, int a, int b) {\n",
    "    return operations[opcode](a, b);\n",
    "}"
   ]
  },
  {
   "cell_type": "markdown",
   "metadata": {},
   "source": [
    "## Pointers and arrays"
   ]
  },
  {
   "cell_type": "markdown",
   "metadata": {},
   "source": [
    "I used to think that pointers and arrays were the same or could be threated the same, I was so wrong!.\n",
    "\n",
    "Pointers and arrays _are similar in the way they are treated_ but they are not even close to be the same. When you declare an array you get a continuous area of memory and its total size is the size of the type the times of the members, for example, assuming your integers are 4 bytes long and you have 5 integers your total memory will be 20 bytes for an array `int arr[4]`.\n",
    "\n",
    "Now, for the point of view of the compiler, the first element `arr[0]` gives you the first address in memory, but because you have _a continous block of memory_ for that array, to get the second element address will be just matter of adding the size of the element to the address of the first element.\n",
    "\n",
    "This is very similar to what a pointer arithmetic does, because when we do something like `int* a = arr` we just get the address of the first element, so `*(a + 2)` will be the same as `arr[1]`. We can then say `&arr[idx] = (ptr + idx)`."
   ]
  },
  {
   "cell_type": "code",
   "execution_count": 6,
   "metadata": {},
   "outputs": [
    {
     "name": "stdout",
     "output_type": "stream",
     "text": [
      "a[0]: 1 addr: 0x7ffe7b0e7620 (0x7ffe7b0e7620: 1)\n"
     ]
    }
   ],
   "source": [
    "#include <stdio.h>\n",
    "\n",
    "int main() {\n",
    "    int  arr[] = {1,2,3,4,5};\n",
    "    int* ptr = arr;\n",
    "    int idx = 0;\n",
    "    \n",
    "    printf(\"a[%i]: %d addr: %p (%p: %d)\\n\", idx, arr[idx], &arr[idx], (ptr + idx), *(ptr + idx));\n",
    "}"
   ]
  },
  {
   "cell_type": "markdown",
   "metadata": {},
   "source": [
    "Notice we mentioned before we pass values to functions not references, well, this is partially true with arrays, we pass the reference to the first element of the array, not really the whole array (we don't copy the whole array as it happens in languages like Go), this means we can modify the elements of an array in a function! (but not change the array location, remember, we pass a copy of the pointer not the pointer)."
   ]
  },
  {
   "cell_type": "code",
   "execution_count": 11,
   "metadata": {},
   "outputs": [
    {
     "name": "stdout",
     "output_type": "stream",
     "text": [
      "arr[0] = 2\n",
      "arr[1] = 4\n",
      "arr[2] = 6\n",
      "arr[3] = 8\n",
      "arr[4] = 10\n"
     ]
    }
   ],
   "source": [
    "#include <stdio.h>\n",
    "\n",
    "void modify_array(int[], int);\n",
    "\n",
    "int main() {\n",
    "    int arr[] = {1, 2, 3, 4, 5};\n",
    "    modify_array(arr, 5);\n",
    "    for (int i = 0; i < 5; i++) {\n",
    "        printf(\"arr[%i] = %i\\n\", i, arr[i]);\n",
    "    }\n",
    "}\n",
    "\n",
    "void modify_array(int arr[], int size) {\n",
    "    for (int i = 0; i < size; i++) {\n",
    "        arr[i] = arr[i] * 2;\n",
    "    }\n",
    "}"
   ]
  },
  {
   "cell_type": "markdown",
   "metadata": {},
   "source": [
    "As you can see, we pass the size of the array to the function. We can pass the explicit size of the array, but the previous version is the equivalent to the following:"
   ]
  },
  {
   "cell_type": "code",
   "execution_count": 13,
   "metadata": {},
   "outputs": [
    {
     "name": "stdout",
     "output_type": "stream",
     "text": [
      "arr[0] = 2\n",
      "arr[1] = 4\n",
      "arr[2] = 6\n",
      "arr[3] = 8\n",
      "arr[4] = 10\n"
     ]
    }
   ],
   "source": [
    "#include <stdio.h>\n",
    "\n",
    "void modify_array(int*, int);\n",
    "\n",
    "int main() {\n",
    "    int arr[] = {1, 2, 3, 4, 5};\n",
    "    modify_array(arr, 5);\n",
    "    for (int i = 0; i < 5; i++) {\n",
    "        printf(\"arr[%i] = %i\\n\", i, arr[i]);\n",
    "    }\n",
    "}\n",
    "\n",
    "void modify_array(int* arr, int size) {\n",
    "    for (int i = 0; i < size; i++) {\n",
    "        arr[i] = arr[i] * 2;\n",
    "    }\n",
    "}"
   ]
  },
  {
   "cell_type": "markdown",
   "metadata": {},
   "source": [
    "You can declare _an array of pointers_ as well, just remember, in this case the continous memory segment of your array is _just for the pointers_ not for the data, the data is going to be wherever the pointer of each element points to."
   ]
  },
  {
   "cell_type": "code",
   "execution_count": 22,
   "metadata": {},
   "outputs": [
    {
     "name": "stdout",
     "output_type": "stream",
     "text": [
      "addr: 0x55d7bab38240 = 0\n",
      "addr: 0x55d7bab38260 = 1\n",
      "addr: 0x55d7bab38280 = 2\n",
      "addr: 0x55d7bab382a0 = 3\n",
      "addr: 0x55d7bab382c0 = 4\n"
     ]
    }
   ],
   "source": [
    "#include <stdio.h>\n",
    "#include <stdlib.h>\n",
    "\n",
    "void populate_array(int*[], const int);\n",
    "\n",
    "int main() {\n",
    "    const int size = 5;\n",
    "    int* arr[size];\n",
    "    populate_array(arr, size);\n",
    "    for (int i = 0; i < size; i++) {\n",
    "        printf(\"addr: %p = %i\\n\", arr[i], *arr[i]);\n",
    "    }\n",
    "    for (int i = 0; i < size; i++) {\n",
    "        free(arr[i]);\n",
    "    }\n",
    "}\n",
    "\n",
    "void populate_array(int* arr[], const int size) {\n",
    "    for (int i = 0; i < size; i++) {\n",
    "        arr[i] = malloc(sizeof(int));\n",
    "        *arr[i] = i;\n",
    "    }\n",
    "}"
   ]
  },
  {
   "cell_type": "markdown",
   "metadata": {},
   "source": [
    "We can even get the value with the notation `**arr` for the first element or `**(arr + 1)` for the second element (remember, the offset notation?)"
   ]
  },
  {
   "cell_type": "markdown",
   "metadata": {},
   "source": [
    "What about a pointer to an array? if declaring `int* arr[]` is an array of pointers, how would we declare a pointer to an array of ints? The answer is easier than you think, in the same way we learnt to declare function pointers, using parenthesis! `int (*arr)[]`"
   ]
  }
 ],
 "metadata": {
  "kernelspec": {
   "display_name": "C",
   "language": "c",
   "name": "c"
  },
  "language_info": {
   "file_extension": ".c",
   "mimetype": "text/plain",
   "name": "c"
  }
 },
 "nbformat": 4,
 "nbformat_minor": 2
}
