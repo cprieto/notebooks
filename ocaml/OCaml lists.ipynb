{
 "cells": [
  {
   "cell_type": "markdown",
   "metadata": {},
   "source": [
    "In an effort to start learning some patterns in ML, I decided to go with small steps and reimplement some patterns in OCaml. Assumming the concept of `list` doesn't exist yet we will reimplement a similar concept known as `sequence`:"
   ]
  },
  {
   "cell_type": "code",
   "execution_count": 1,
   "metadata": {},
   "outputs": [
    {
     "data": {
      "text/plain": [
       "type 'a seq = End | Next of 'a * 'a seq\n"
      ]
     },
     "execution_count": 1,
     "metadata": {},
     "output_type": "execute_result"
    }
   ],
   "source": [
    "type 'a seq =\n",
    "  | End\n",
    "  | Next of 'a * 'a seq\n",
    ";;"
   ]
  },
  {
   "cell_type": "markdown",
   "metadata": {},
   "source": [
    "We can define a sequence of zero elements like this:"
   ]
  },
  {
   "cell_type": "code",
   "execution_count": 2,
   "metadata": {},
   "outputs": [
    {
     "data": {
      "text/plain": [
       "val no_elements : 'a seq = End\n"
      ]
     },
     "execution_count": 2,
     "metadata": {},
     "output_type": "execute_result"
    }
   ],
   "source": [
    "let no_elements = End"
   ]
  },
  {
   "cell_type": "markdown",
   "metadata": {},
   "source": [
    "Or the count from 1 to 3 like this:"
   ]
  },
  {
   "cell_type": "code",
   "execution_count": 3,
   "metadata": {},
   "outputs": [
    {
     "data": {
      "text/plain": [
       "val sample : int seq = Next (1, Next (2, Next (3, End)))\n"
      ]
     },
     "execution_count": 3,
     "metadata": {},
     "output_type": "execute_result"
    }
   ],
   "source": [
    "let sample = Next(1, Next(2, Next(3, End)))"
   ]
  },
  {
   "cell_type": "markdown",
   "metadata": {},
   "source": [
    "### Implement basic operations\n",
    "\n",
    "Length, Head, Tail, Cons"
   ]
  },
  {
   "cell_type": "code",
   "execution_count": 4,
   "metadata": {},
   "outputs": [
    {
     "data": {
      "text/plain": [
       "val length_seq : 'a seq -> int = <fun>\n"
      ]
     },
     "execution_count": 4,
     "metadata": {},
     "output_type": "execute_result"
    },
    {
     "data": {
      "text/plain": [
       "- : int = 3\n"
      ]
     },
     "execution_count": 4,
     "metadata": {},
     "output_type": "execute_result"
    },
    {
     "data": {
      "text/plain": [
       "val head_seq : 'a seq -> 'a = <fun>\n"
      ]
     },
     "execution_count": 4,
     "metadata": {},
     "output_type": "execute_result"
    },
    {
     "data": {
      "text/plain": [
       "- : int = 1\n"
      ]
     },
     "execution_count": 4,
     "metadata": {},
     "output_type": "execute_result"
    },
    {
     "data": {
      "text/plain": [
       "val tail_seq : 'a seq -> 'a seq = <fun>\n"
      ]
     },
     "execution_count": 4,
     "metadata": {},
     "output_type": "execute_result"
    },
    {
     "data": {
      "text/plain": [
       "- : int seq = Next (2, Next (3, End))\n"
      ]
     },
     "execution_count": 4,
     "metadata": {},
     "output_type": "execute_result"
    },
    {
     "data": {
      "text/plain": [
       "val cons_seq : 'a -> 'a seq -> 'a seq = <fun>\n"
      ]
     },
     "execution_count": 4,
     "metadata": {},
     "output_type": "execute_result"
    },
    {
     "data": {
      "text/plain": [
       "- : int seq = Next (0, Next (1, Next (2, Next (3, End))))\n"
      ]
     },
     "execution_count": 4,
     "metadata": {},
     "output_type": "execute_result"
    }
   ],
   "source": [
    "(* length operator *)\n",
    "let length_seq x =\n",
    "  let rec length' acc = function\n",
    "    | End -> acc\n",
    "    | Next (_, t) -> length' (acc + 1) t\n",
    "  in\n",
    "  length' 0 x\n",
    ";;\n",
    "\n",
    "length_seq sample;;\n",
    "\n",
    "(* head operator *)\n",
    "let head_seq = function\n",
    "  | End -> raise (Invalid_argument \"empty sequence\")\n",
    "  | Next (h, _) -> h\n",
    ";;\n",
    "\n",
    "head_seq sample;;\n",
    "\n",
    "(* tail operator *)\n",
    "let tail_seq = function\n",
    "  | End -> raise (Invalid_argument \"empty sequence\")\n",
    "  | Next (_, t) -> t\n",
    ";;\n",
    "\n",
    "tail_seq sample;;\n",
    "\n",
    "(* cons operator *)\n",
    "let cons_seq x l = Next(x, l) ;;\n",
    "cons_seq 0 sample ;;"
   ]
  },
  {
   "cell_type": "markdown",
   "metadata": {},
   "source": [
    "Now we can start implementing even more complex operations, like `nth`, `rev`, `append`"
   ]
  },
  {
   "cell_type": "code",
   "execution_count": 5,
   "metadata": {},
   "outputs": [
    {
     "data": {
      "text/plain": [
       "val nth_seq : int -> 'a seq -> 'a = <fun>\n"
      ]
     },
     "execution_count": 5,
     "metadata": {},
     "output_type": "execute_result"
    },
    {
     "data": {
      "text/plain": [
       "- : int = 1\n"
      ]
     },
     "execution_count": 5,
     "metadata": {},
     "output_type": "execute_result"
    },
    {
     "data": {
      "text/plain": [
       "- : int = 3\n"
      ]
     },
     "execution_count": 5,
     "metadata": {},
     "output_type": "execute_result"
    },
    {
     "data": {
      "text/plain": [
       "val rev_seq : 'a seq -> 'a seq = <fun>\n"
      ]
     },
     "execution_count": 5,
     "metadata": {},
     "output_type": "execute_result"
    },
    {
     "data": {
      "text/plain": [
       "- : int seq = Next (3, Next (2, Next (1, End)))\n"
      ]
     },
     "execution_count": 5,
     "metadata": {},
     "output_type": "execute_result"
    },
    {
     "data": {
      "text/plain": [
       "val append_seq : 'a seq -> 'a seq -> 'a seq = <fun>\n"
      ]
     },
     "execution_count": 5,
     "metadata": {},
     "output_type": "execute_result"
    },
    {
     "data": {
      "text/plain": [
       "- : int seq = Next (1, Next (2, Next (3, Next (4, Next (5, Next (6, End))))))\n"
      ]
     },
     "execution_count": 5,
     "metadata": {},
     "output_type": "execute_result"
    },
    {
     "data": {
      "text/plain": [
       "val append_seq' : 'a seq -> 'b -> 'b = <fun>\n"
      ]
     },
     "execution_count": 5,
     "metadata": {},
     "output_type": "execute_result"
    },
    {
     "data": {
      "text/plain": [
       "- : int seq = Next (1, Next (2, Next (3, Next (4, Next (5, Next (6, End))))))\n"
      ]
     },
     "execution_count": 5,
     "metadata": {},
     "output_type": "execute_result"
    }
   ],
   "source": [
    "(* nth operator *)\n",
    "let rec nth_seq n l = \n",
    "  if n < 0 then raise (Invalid_argument \"nth\") else\n",
    "  match l with\n",
    "    | End -> raise (Failure \"nth\")\n",
    "    | Next (x, tl) -> if n = 0 then x else nth_seq (n - 1) tl\n",
    ";;\n",
    "\n",
    "nth_seq 0 sample ;;\n",
    "nth_seq 2 sample ;;\n",
    "\n",
    "(* rev operator *)\n",
    "let rev_seq l =\n",
    "  let rec rev' acc = function\n",
    "    | End -> acc\n",
    "    | Next (x, tl) -> rev' (cons_seq x acc) tl\n",
    "  in\n",
    "  rev' End l\n",
    ";;\n",
    "\n",
    "rev_seq sample ;;\n",
    "\n",
    "(* append operator, this function is not tail recursive *)\n",
    "(* the original in OCaml neither *)\n",
    "let rec append_seq a b =\n",
    "  match a with\n",
    "   | End -> b\n",
    "   | Next (x, tl) -> Next(x, (append_seq tl b))\n",
    ";;\n",
    "\n",
    "append_seq sample (Next(4, Next(5, Next(6, End))))\n",
    "\n",
    "(* We can make a recursive append *)\n",
    "let append_seq' a b =\n",
    "  let rec append' acc = function\n",
    "    | End -> b\n",
    "    | Next (x, t) -> append' (Next(x, acc)) t\n",
    "  in\n",
    "  append' End (rev_seq a)\n",
    ";;\n",
    "\n",
    "append_seq sample (Next(4, Next(5, Next(6, End)))) ;;"
   ]
  },
  {
   "cell_type": "markdown",
   "metadata": {},
   "source": [
    "Now we can start playing with functions and lists. What about `init`, `map` and, more importantly, `fold_right` and `fold_left`?"
   ]
  },
  {
   "cell_type": "code",
   "execution_count": 6,
   "metadata": {},
   "outputs": [
    {
     "data": {
      "text/plain": [
       "val init_seq : int -> (int -> 'a) -> 'a seq = <fun>\n"
      ]
     },
     "execution_count": 6,
     "metadata": {},
     "output_type": "execute_result"
    },
    {
     "data": {
      "text/plain": [
       "- : int seq = Next (1, Next (2, Next (3, End)))\n"
      ]
     },
     "execution_count": 6,
     "metadata": {},
     "output_type": "execute_result"
    },
    {
     "data": {
      "text/plain": [
       "val map_seq : ('a -> 'b) -> 'a seq -> 'b seq = <fun>\n"
      ]
     },
     "execution_count": 6,
     "metadata": {},
     "output_type": "execute_result"
    },
    {
     "data": {
      "text/plain": [
       "- : int seq = Next (2, Next (4, Next (6, End)))\n"
      ]
     },
     "execution_count": 6,
     "metadata": {},
     "output_type": "execute_result"
    }
   ],
   "source": [
    "(* init operator *)\n",
    "let init_seq n f =\n",
    "  let rec init' n' acc =\n",
    "    if n' = 0 then acc else init' (n' - 1) (cons_seq (f n') acc)\n",
    "  in\n",
    "  init' n End\n",
    ";;\n",
    "\n",
    "init_seq 3 (fun x -> x) ;;\n",
    "\n",
    "(* map operator, not tail recursive *)\n",
    "let rec map_seq f = function\n",
    "  | Next (x, t) -> Next ((f x), (map_seq f t))\n",
    "  | _ -> End\n",
    ";;\n",
    "\n",
    "map_seq (fun x -> x * 2) sample ;;"
   ]
  },
  {
   "cell_type": "code",
   "execution_count": null,
   "metadata": {},
   "outputs": [],
   "source": []
  }
 ],
 "metadata": {
  "kernelspec": {
   "display_name": "OCaml 4.06.0",
   "language": "OCaml",
   "name": "ocaml-jupyter"
  },
  "language_info": {
   "codemirror_mode": "text/x-ocaml",
   "file_extension": ".ml",
   "mimetype": "text/x-ocaml",
   "name": "OCaml",
   "nbconverter_exporter": null,
   "pygments_lexer": "OCaml",
   "version": "4.06.0"
  }
 },
 "nbformat": 4,
 "nbformat_minor": 2
}
