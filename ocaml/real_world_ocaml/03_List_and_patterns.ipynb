{
 "cells": [
  {
   "cell_type": "markdown",
   "metadata": {},
   "source": [
    "# List and patterns\n",
    "\n",
    "Do you remember how to declare lists as literals? really easy, right?!"
   ]
  },
  {
   "cell_type": "code",
   "execution_count": 1,
   "metadata": {},
   "outputs": [
    {
     "data": {
      "text/plain": [
       "val items : int list = [1; 2; 3; 4]\n"
      ]
     },
     "execution_count": 1,
     "metadata": {},
     "output_type": "execute_result"
    }
   ],
   "source": [
    "let items = [1;2;3;4]"
   ]
  },
  {
   "cell_type": "markdown",
   "metadata": {},
   "source": [
    "We can use this with pattern matching, if we remember how to do concatenation of lists:"
   ]
  },
  {
   "cell_type": "code",
   "execution_count": 4,
   "metadata": {},
   "outputs": [
    {
     "data": {
      "text/plain": [
       "- : string list = [\"a\"]\n"
      ]
     },
     "execution_count": 4,
     "metadata": {},
     "output_type": "execute_result"
    }
   ],
   "source": [
    "\"a\" :: []"
   ]
  },
  {
   "cell_type": "code",
   "execution_count": 5,
   "metadata": {},
   "outputs": [
    {
     "data": {
      "text/plain": [
       "val sum : int list -> int = <fun>\n"
      ]
     },
     "execution_count": 5,
     "metadata": {},
     "output_type": "execute_result"
    }
   ],
   "source": [
    "let rec sum l =\n",
    "  match l with\n",
    "  | [] -> 0\n",
    "  | hd :: tl -> hd + sum tl\n",
    ";;"
   ]
  },
  {
   "cell_type": "markdown",
   "metadata": {},
   "source": [
    "This function is _not tail recursive_, but converting it to a tail recursive function is easy:"
   ]
  },
  {
   "cell_type": "code",
   "execution_count": 7,
   "metadata": {},
   "outputs": [
    {
     "data": {
      "text/plain": [
       "val sum : int list -> int = <fun>\n"
      ]
     },
     "execution_count": 7,
     "metadata": {},
     "output_type": "execute_result"
    }
   ],
   "source": [
    "let sum l =\n",
    "  let rec sum' total = function\n",
    "  | [] -> total\n",
    "  | hd :: tl -> sum' (hd + total) tl in\n",
    "  sum' 0 l\n",
    ";;"
   ]
  },
  {
   "cell_type": "markdown",
   "metadata": {},
   "source": [
    "A good example of usage of List functions is this, taken from the book:"
   ]
  },
  {
   "cell_type": "code",
   "execution_count": 19,
   "metadata": {},
   "outputs": [
    {
     "data": {
      "text/plain": [
       "val max_widths :\n",
       "  Core.String.t Core.List.t ->\n",
       "  Core.String.t Core.List.t -> Core.Int.t Core.List.t = <fun>\n"
      ]
     },
     "execution_count": 19,
     "metadata": {},
     "output_type": "execute_result"
    },
    {
     "data": {
      "text/plain": [
       "val pad : Core.String.t -> int -> string = <fun>\n"
      ]
     },
     "execution_count": 19,
     "metadata": {},
     "output_type": "execute_result"
    },
    {
     "data": {
      "text/plain": [
       "val render_row : Core.String.t Core.List.t -> int Core.List.t -> string =\n",
       "  <fun>\n"
      ]
     },
     "execution_count": 19,
     "metadata": {},
     "output_type": "execute_result"
    },
    {
     "data": {
      "text/plain": [
       "val render_separator : int Core.List.t -> string = <fun>\n"
      ]
     },
     "execution_count": 19,
     "metadata": {},
     "output_type": "execute_result"
    },
    {
     "data": {
      "text/plain": [
       "val render_table :\n",
       "  Core.String.t Core.List.t -> Core.String.t Core.List.t -> Core.String.t =\n",
       "  <fun>\n"
      ]
     },
     "execution_count": 19,
     "metadata": {},
     "output_type": "execute_result"
    },
    {
     "ename": "error",
     "evalue": "compile_error",
     "output_type": "error",
     "traceback": [
      "\u001b[32mFile \"[19]\", line 31, characters 70-101:\n\u001b[31mError: This expression has type 'a list\n       but an expression was expected of type Core.String.t = string\n\u001b[36m  30: \u001b[30m\n\u001b[36m  31: \u001b[30mprintf \"%s\\n\" (render_table [\"language\";\"architect\";\"first release\"] [\u001b[4m[\"Lisp\";\"John McCarthy\";\"1958\"]\u001b[0m\u001b[30m;[\"C\";\"Dennis Ritchie\";\"1969\"];[\"ML\";\"Robin Milner\";\"1973\"];[\"OCaml\";\"Xavier Leroy\";\"1996\"]])\u001b[0m\n"
     ]
    }
   ],
   "source": [
    "(* We create a list of max length of a given header list and row list *)\n",
    "(* Notice the usage of List.map and List.fold *)\n",
    "(* List.map2_exn takes two lists and a function to combine them, if the lists are not the same size it throws an exception *)\n",
    "let max_widths header rows = \n",
    "  let lengths l = List.map ~f:String.length l in\n",
    "  List.fold rows ~init:(lengths header) ~f:(fun acc row -> List.map2_exn ~f:Int.max acc (lengths rows))\n",
    ";;\n",
    "\n",
    "(* It takes a string and pad it so it fix the expected length *)\n",
    "let pad str length =\n",
    "  \" \" ^ String.make (length - String.length str + 1) ' '\n",
    ";;\n",
    "\n",
    "(* It renders a row, padding it *)\n",
    "let render_row row widths =\n",
    "  let padded = List.map2_exn ~f:pad row widths in\n",
    "  \"|\" ^ String.concat ~sep:\"|\" padded ^ \"|\"\n",
    ";;\n",
    "\n",
    "let render_separator widths =\n",
    "  let separators = List.map widths ~f:(fun w -> String.make (w + 2) '-') in\n",
    "  \"|\" ^ String.concat ~sep:\"+\" separators ^ \"|\"\n",
    ";;\n",
    "\n",
    "let render_table header rows =\n",
    "  let widths = max_widths header rows in\n",
    "  String.concat ~sep:\"\\n\" \n",
    "      (render_row header widths :: render_separator widths :: List.map rows ~f:(fun x -> render_row rows widths))\n",
    ";;\n",
    "\n",
    "printf \"%s\\n\" (render_table [\"language\";\"architect\";\"first release\"] [[\"Lisp\";\"John McCarthy\";\"1958\"];[\"C\";\"Dennis Ritchie\";\"1969\"];[\"ML\";\"Robin Milner\";\"1973\"];[\"OCaml\";\"Xavier Leroy\";\"1996\"]])"
   ]
  },
  {
   "cell_type": "markdown",
   "metadata": {},
   "source": [
    "### Terser patterns:\n",
    "\n",
    "Consider the following function:"
   ]
  },
  {
   "cell_type": "code",
   "execution_count": 20,
   "metadata": {},
   "outputs": [
    {
     "data": {
      "text/plain": [
       "val destutter : 'a list -> 'a list = <fun>\n"
      ]
     },
     "execution_count": 20,
     "metadata": {},
     "output_type": "execute_result"
    }
   ],
   "source": [
    "let rec destutter l =\n",
    "  match l with\n",
    "  | [] -> []\n",
    "  | [hd] -> [hd]\n",
    "  | hd :: hd' :: tl -> if hd = hd' then destutter (hd' :: tl) else hd :: destutter (hd' :: tl)\n",
    ";;"
   ]
  },
  {
   "cell_type": "markdown",
   "metadata": {},
   "source": [
    "This will work, but it looks ugly and it is not tail recursive, let's start by changing the function a little so it is clearer and easier to understand:"
   ]
  },
  {
   "cell_type": "code",
   "execution_count": 21,
   "metadata": {},
   "outputs": [
    {
     "data": {
      "text/plain": [
       "val destutter : 'a list -> 'a list = <fun>\n"
      ]
     },
     "execution_count": 21,
     "metadata": {},
     "output_type": "execute_result"
    }
   ],
   "source": [
    "let rec destutter = function\n",
    "  | [] | [_] as l -> l\n",
    "  | hd :: (hd' :: _ as tl) -> if hd = hd' then destutter tl else hd :: destutter tl\n",
    ";;"
   ]
  },
  {
   "cell_type": "markdown",
   "metadata": {},
   "source": [
    "This is a lot clearer and shorter, we can use the keyword `when` to make it even easier to read and get rid of that `if...else`"
   ]
  },
  {
   "cell_type": "code",
   "execution_count": 22,
   "metadata": {},
   "outputs": [
    {
     "data": {
      "text/plain": [
       "val destutter : 'a list -> 'a list = <fun>\n"
      ]
     },
     "execution_count": 22,
     "metadata": {},
     "output_type": "execute_result"
    }
   ],
   "source": [
    "let rec destutter = function\n",
    "  | [] |[_] as l -> l\n",
    "  | hd :: (hd' :: _ as tl) when hd = hd' -> destutter tl\n",
    "  | hd :: tl -> hd :: destutter tl\n",
    ";;"
   ]
  },
  {
   "cell_type": "markdown",
   "metadata": {},
   "source": [
    "Be careful with `when` clauses, it doesn't help the compiler to know when a pattern is exaustive or not. For example:"
   ]
  },
  {
   "cell_type": "code",
   "execution_count": 23,
   "metadata": {},
   "outputs": [
    {
     "name": "stderr",
     "output_type": "stream",
     "text": [
      "File \"[23]\", line 2, characters 2-132:\n",
      "Warning 8: this pattern-matching is not exhaustive.\n",
      "Here is an example of a case that is not matched:\n",
      "_::_\n",
      "(However, some guarded clause may match this value.)\n"
     ]
    },
    {
     "data": {
      "text/plain": [
       "val count_some : 'a Core.Option.t list -> int = <fun>\n"
      ]
     },
     "execution_count": 23,
     "metadata": {},
     "output_type": "execute_result"
    }
   ],
   "source": [
    "let rec count_some l =\n",
    "  match l with\n",
    "  | [] -> 0\n",
    "  | x :: tl when Option.is_none x -> count_some tl\n",
    "  | x :: tl when Option.is_some x -> 1 + count_some tl\n",
    ";;"
   ]
  },
  {
   "cell_type": "markdown",
   "metadata": {},
   "source": [
    "See the compiler warning? even if we already saw that pattern is already covered... This is because the compiler cannot check we have all the patterns covered in the `when` clause. It will be much better to change it to this:"
   ]
  },
  {
   "cell_type": "code",
   "execution_count": 27,
   "metadata": {},
   "outputs": [
    {
     "data": {
      "text/plain": [
       "val count_some : 'a Core.Option.t list -> int = <fun>\n"
      ]
     },
     "execution_count": 27,
     "metadata": {},
     "output_type": "execute_result"
    }
   ],
   "source": [
    "let rec count_some l =\n",
    "  match l with\n",
    "  | [] -> 0\n",
    "  | x :: tl when Option.is_none x -> count_some tl\n",
    "  | _ :: tl -> 1 + count_some tl\n",
    ";;"
   ]
  },
  {
   "cell_type": "markdown",
   "metadata": {},
   "source": [
    "The right answer to this question is using the explicit pattern, because we know there are only three options:"
   ]
  },
  {
   "cell_type": "code",
   "execution_count": 28,
   "metadata": {},
   "outputs": [
    {
     "data": {
      "text/plain": [
       "val count_some : 'a option list -> int = <fun>\n"
      ]
     },
     "execution_count": 28,
     "metadata": {},
     "output_type": "execute_result"
    }
   ],
   "source": [
    "let rec count_some l =\n",
    "  match l with\n",
    "  | [] -> 0\n",
    "  | None :: tl -> count_some tl\n",
    "  | Some _ :: tl -> 1 + count_some tl\n",
    ";;"
   ]
  },
  {
   "cell_type": "code",
   "execution_count": null,
   "metadata": {},
   "outputs": [],
   "source": []
  }
 ],
 "metadata": {
  "kernelspec": {
   "display_name": "OCaml 4.06.0",
   "language": "OCaml",
   "name": "ocaml-jupyter"
  },
  "language_info": {
   "codemirror_mode": "text/x-ocaml",
   "file_extension": ".ml",
   "mimetype": "text/x-ocaml",
   "name": "OCaml",
   "nbconverter_exporter": null,
   "pygments_lexer": "OCaml",
   "version": "4.06.0"
  }
 },
 "nbformat": 4,
 "nbformat_minor": 2
}
