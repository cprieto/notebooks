{
 "cells": [
  {
   "cell_type": "markdown",
   "metadata": {},
   "source": [
    "# Chapter 9, more about functions?\n",
    "\n",
    "The chapter introduce us to _currying_ or as they call it: _partial application_. I have no much to explain here because everybody knows about currying..."
   ]
  },
  {
   "cell_type": "markdown",
   "metadata": {},
   "source": [
    "## Exercises\n",
    "\n",
    " * Rewrite the summary paragraph at the end of this chapter for the three argument function g a b c.\n",
    " \n",
    "_This is boring, but let's do it, it will be `'a -> ('b -> 'c)`_"
   ]
  },
  {
   "cell_type": "markdown",
   "metadata": {},
   "source": [
    " * Recall the function `member x l` which determines if an element x is contained in a list l. What is its type? What is the type of member x? Use partial application to write a function `member_all x ls` which determines if an element is a member of all the lists in the list of lists ls.\n",
    " \n",
    "_Its type is `'a -> 'a list -> bool`, the partial application or whatever you want to call the other shit is `'a -> 'a list list -> bool` but I won't write it because I am really tired of writing lookup functions..._"
   ]
  },
  {
   "cell_type": "code",
   "execution_count": 6,
   "metadata": {},
   "outputs": [
    {
     "data": {
      "text/plain": [
       "val member : 'a -> 'a list -> bool = <fun>\n"
      ]
     },
     "execution_count": 6,
     "metadata": {},
     "output_type": "execute_result"
    },
    {
     "data": {
      "text/plain": [
       "val member_all : 'a -> 'a list list -> bool = <fun>\n"
      ]
     },
     "execution_count": 6,
     "metadata": {},
     "output_type": "execute_result"
    },
    {
     "data": {
      "text/plain": [
       "- : bool = false\n"
      ]
     },
     "execution_count": 6,
     "metadata": {},
     "output_type": "execute_result"
    },
    {
     "data": {
      "text/plain": [
       "- : bool = true\n"
      ]
     },
     "execution_count": 6,
     "metadata": {},
     "output_type": "execute_result"
    }
   ],
   "source": [
    "let member x l =\n",
    "  let rec loop l' =\n",
    "    match l' with\n",
    "    | hd :: tl -> if hd = x then true else loop tl\n",
    "    | _ -> false in\n",
    "  loop l\n",
    ";;\n",
    "\n",
    "let member_all x l =\n",
    "  let f = member x in\n",
    "  let rec loop l' acc =\n",
    "    match l' with\n",
    "    | hd :: tl -> loop tl (acc && f hd)\n",
    "    | _ -> acc in\n",
    "  loop l true\n",
    ";;\n",
    "\n",
    "member_all 3 [[1;2;3]; [5;1;3]; [2;15;9]] ;;\n",
    "member_all 3 [[1;2;3]; [5;1;3]; [3;15;9]]"
   ]
  },
  {
   "cell_type": "markdown",
   "metadata": {},
   "source": [
    " * Why can we not write a function to halve all the elements of a list like this: `map (( / ) 2) [10; 20; 30]`? Write a suitable division function which can be partially applied in the manner we require."
   ]
  },
  {
   "cell_type": "markdown",
   "metadata": {},
   "source": [
    "_Because reasons, seriously, we had not yet get into `sig` functions, why are you asking this? damn you professor \"I fucking know everything\"_"
   ]
  },
  {
   "cell_type": "code",
   "execution_count": 13,
   "metadata": {},
   "outputs": [
    {
     "data": {
      "text/plain": [
       "- : int list = [5; 10; 15]\n"
      ]
     },
     "execution_count": 13,
     "metadata": {},
     "output_type": "execute_result"
    }
   ],
   "source": [
    "let div b a = a / b in\n",
    "List.map (div 2) [10;20;30] ;;"
   ]
  },
  {
   "cell_type": "markdown",
   "metadata": {},
   "source": [
    " * Write a function `mapll` which maps a function over _lists of lists of lists_. You must not use the `let rec` construct. Is it possible to write a function which works like `map`, `mapl`, or `mapll` depending upon the list given to it?\n",
    "\n",
    "_ Oh man, I really forgot how awful is to do some much homework..._"
   ]
  },
  {
   "cell_type": "code",
   "execution_count": 32,
   "metadata": {},
   "outputs": [
    {
     "data": {
      "text/plain": [
       "val mapl : ('a -> 'b) -> 'a list list list -> 'b list list list = <fun>\n"
      ]
     },
     "execution_count": 32,
     "metadata": {},
     "output_type": "execute_result"
    },
    {
     "data": {
      "text/plain": [
       "- : int list list list = [[[2; 3; 4]; [5; 6; 7]]; [[8; 9; 10]; [11; 12; 13]]]\n"
      ]
     },
     "execution_count": 32,
     "metadata": {},
     "output_type": "execute_result"
    }
   ],
   "source": [
    "let mapl f l =\n",
    "  let a = List.map f in\n",
    "  let b = List.map a in\n",
    "  let c = List.map b in\n",
    "  c l ;;\n",
    "  \n",
    "mapl (fun x -> x + 1) [[[1;2;3];[4;5;6]];[[7;8;9];[10;11;12]]]"
   ]
  },
  {
   "cell_type": "markdown",
   "metadata": {},
   "source": [
    " * Write a function `truncate` which takes an integer and a _list of lists_, and returns a _list of lists_, each of which has been truncated to the given length. If a list is shorter than the given length, it is unchanged. Make use of partial application."
   ]
  },
  {
   "cell_type": "code",
   "execution_count": 18,
   "metadata": {},
   "outputs": [
    {
     "data": {
      "text/plain": [
       "val take : int -> 'a list -> 'a list = <fun>\n"
      ]
     },
     "execution_count": 18,
     "metadata": {},
     "output_type": "execute_result"
    },
    {
     "data": {
      "text/plain": [
       "val truncate : int -> 'a list list -> 'a list list = <fun>\n"
      ]
     },
     "execution_count": 18,
     "metadata": {},
     "output_type": "execute_result"
    },
    {
     "data": {
      "text/plain": [
       "- : int list list = [[1; 2]; [1; 2]; [5; 7]]\n"
      ]
     },
     "execution_count": 18,
     "metadata": {},
     "output_type": "execute_result"
    }
   ],
   "source": [
    "let take n l =\n",
    "  let rec loop n' l' acc =\n",
    "    if n' = 0 then acc else\n",
    "    match l' with\n",
    "    | hd :: tl -> loop (n' - 1) tl (hd :: acc)\n",
    "    | _ -> acc in\n",
    "  List.rev (loop n l [])\n",
    ";;\n",
    "\n",
    "let truncate n l =\n",
    "  let f = take n in\n",
    "  List.map f l\n",
    ";;\n",
    "\n",
    "truncate 2 [[1;2;3;4];[1;2];[5;7;2]]"
   ]
  },
  {
   "cell_type": "markdown",
   "metadata": {},
   "source": [
    " * Write a function which takes a list of lists of integers and returns the list composed of all the first elements of the lists. If a list is empty, a given number should be used in place of its first element."
   ]
  },
  {
   "cell_type": "code",
   "execution_count": 34,
   "metadata": {},
   "outputs": [
    {
     "data": {
      "text/plain": [
       "val bullshit : 'a -> 'a list list -> 'a list = <fun>\n"
      ]
     },
     "execution_count": 34,
     "metadata": {},
     "output_type": "execute_result"
    },
    {
     "data": {
      "text/plain": [
       "- : int list = [1; 4; 5]\n"
      ]
     },
     "execution_count": 34,
     "metadata": {},
     "output_type": "execute_result"
    }
   ],
   "source": [
    "let bullshit n l =\n",
    "  let head l' =\n",
    "    match l' with\n",
    "    | hd :: _ -> hd\n",
    "    | _ -> n in\n",
    "  let f = head in\n",
    "  List.map f l\n",
    ";;\n",
    "\n",
    "bullshit 5 [[1;2;3];[4;5;6]; []]"
   ]
  }
 ],
 "metadata": {
  "kernelspec": {
   "display_name": "OCaml 4.06.0",
   "language": "OCaml",
   "name": "ocaml-jupyter"
  },
  "language_info": {
   "codemirror_mode": "text/x-ocaml",
   "file_extension": ".ml",
   "mimetype": "text/x-ocaml",
   "name": "OCaml",
   "nbconverter_exporter": null,
   "pygments_lexer": "OCaml",
   "version": "4.06.0"
  }
 },
 "nbformat": 4,
 "nbformat_minor": 2
}
