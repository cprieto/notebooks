{
 "cells": [
  {
   "cell_type": "markdown",
   "metadata": {},
   "source": [
    "# Chapter 5, sort stuff\n",
    "\n",
    "This chapter is about how to sort things in a list, we already know functions and lists so this is the next link in the chain...\n",
    "\n",
    "## Insert algorithm"
   ]
  },
  {
   "cell_type": "code",
   "execution_count": 7,
   "metadata": {},
   "outputs": [
    {
     "data": {
      "text/html": [
       "<pre style=\"color:slategray;max-height:100px;overflow:hidden\" \n",
       "onclick=\"\n",
       "if (this.style.maxHeight === 'none') \n",
       "    this.style.maxHeight = '100px';\n",
       "else\n",
       "    this.style.maxHeight = 'none'; \n",
       "\">val sort : 'a list -&gt; 'a list = &lt;fun&gt;\n",
       "</pre>"
      ]
     },
     "execution_count": 7,
     "metadata": {},
     "output_type": "execute_result"
    },
    {
     "data": {
      "text/html": [
       "<pre style=\"color:slategray;max-height:100px;overflow:hidden\" \n",
       "onclick=\"\n",
       "if (this.style.maxHeight === 'none') \n",
       "    this.style.maxHeight = '100px';\n",
       "else\n",
       "    this.style.maxHeight = 'none'; \n",
       "\">- : int list = [1; 2; 3; 4; 5; 6; 9]\n",
       "</pre>"
      ]
     },
     "execution_count": 7,
     "metadata": {},
     "output_type": "execute_result"
    }
   ],
   "source": [
    "let rec sort l =\n",
    "  let rec insert e l' =\n",
    "    match l' with\n",
    "      [] -> [e]\n",
    "    | hd' :: tl' ->\n",
    "      if e <= hd' then e :: hd' :: tl'\n",
    "      else hd' :: insert e tl'\n",
    "  in\n",
    "  match l with\n",
    "    [] -> []\n",
    "  | hd :: tl -> insert hd ( sort tl ) ;;\n",
    "  \n",
    "sort [1; 5; 9; 2; 6; 3; 4]"
   ]
  },
  {
   "cell_type": "markdown",
   "metadata": {},
   "source": [
    "This is actually a _insertion sort algorithm_. Each `insert` is proportional to the number of elements in `n` so it is $n$ dependent, and we have to run `insert` for each element in the list, so we say the whole `sort` function with insert takes up to $n^2$.\n",
    "\n",
    "This applies even when the list is already ordered!"
   ]
  },
  {
   "cell_type": "markdown",
   "metadata": {},
   "source": [
    "## Merge algorithm\n",
    "\n",
    "Instead of inserting an element, we can split the list in two and merge both sides. This basically will split the time not exactly in two, but $n\\log_2n$. We don't have a function to \"take n\" numbers of elements from the list neither to \"drop n\" from the end of the list, so we have to make them (you could oprobably use `List.take` and `List.drop` from the `core` library, but where is the fun? "
   ]
  },
  {
   "cell_type": "code",
   "execution_count": 8,
   "metadata": {},
   "outputs": [
    {
     "data": {
      "text/plain": [
       "val rev : 'a list -> 'a list = <fun>\n"
      ]
     },
     "execution_count": 8,
     "metadata": {},
     "output_type": "execute_result"
    },
    {
     "data": {
      "text/plain": [
       "- : int list = [3; 2; 1]\n"
      ]
     },
     "execution_count": 8,
     "metadata": {},
     "output_type": "execute_result"
    },
    {
     "data": {
      "text/plain": [
       "val take : int -> 'a list -> 'a list = <fun>\n"
      ]
     },
     "execution_count": 8,
     "metadata": {},
     "output_type": "execute_result"
    },
    {
     "data": {
      "text/plain": [
       "- : int list = [1; 2]\n"
      ]
     },
     "execution_count": 8,
     "metadata": {},
     "output_type": "execute_result"
    },
    {
     "data": {
      "text/plain": [
       "val drop : int -> 'a list -> 'a list = <fun>\n"
      ]
     },
     "execution_count": 8,
     "metadata": {},
     "output_type": "execute_result"
    },
    {
     "data": {
      "text/plain": [
       "- : int list = [3; 4; 5]\n"
      ]
     },
     "execution_count": 8,
     "metadata": {},
     "output_type": "execute_result"
    },
    {
     "data": {
      "text/plain": [
       "val length : 'a list -> int = <fun>\n"
      ]
     },
     "execution_count": 8,
     "metadata": {},
     "output_type": "execute_result"
    },
    {
     "data": {
      "text/plain": [
       "- : int = 4\n"
      ]
     },
     "execution_count": 8,
     "metadata": {},
     "output_type": "execute_result"
    }
   ],
   "source": [
    "(* The same here, it took me a while to put my mind into it, but I did it, recursively! *)\n",
    "let rev l =\n",
    "  let rec loop l' acc =\n",
    "    match l' with\n",
    "    | hd :: tl -> loop tl (hd :: acc)\n",
    "    | _ -> acc\n",
    "  in\n",
    "  loop l [] ;;\n",
    "\n",
    "rev [1; 2; 3];;\n",
    "\n",
    "\n",
    "(* To be honest, it took me a while but I got the recursive function! *)\n",
    "let take n l =\n",
    "  let rec loop n' l' acc =\n",
    "    if n' = 0 then acc else\n",
    "      match l' with\n",
    "      | hd :: tl -> loop (n' - 1) tl (hd :: acc)\n",
    "      | _ -> []\n",
    "  in\n",
    "  if n = 0 then [] else rev (loop n l []);;\n",
    "  \n",
    "take 2 [1; 2; 3; 4] ;;\n",
    "\n",
    "(* I got the recursive function again! *)\n",
    "let drop n l =\n",
    "  let rec loop n' l' =\n",
    "    if n' = 0 then l' else\n",
    "      match l' with\n",
    "      | _ :: tl -> loop (n' - 1) tl\n",
    "      | _ -> []\n",
    "  in\n",
    "  if n = 0 then l else loop n l;;\n",
    "  \n",
    "drop 2 [1; 2; 3; 4; 5] ;;\n",
    "\n",
    "(* Another recursive function bites the dust! *)\n",
    "let length l =\n",
    "  let rec loop n l' =\n",
    "    match l' with\n",
    "    | [] -> n\n",
    "    | hd :: tl -> loop (n + 1) tl\n",
    "  in\n",
    "  loop 0 l ;;\n",
    "  \n",
    "length [1; 2; 3; 4]"
   ]
  },
  {
   "cell_type": "markdown",
   "metadata": {
    "collapsed": true
   },
   "source": [
    "Now let's do a function to merge two lists, it is simple, we take two lists and sort both:"
   ]
  },
  {
   "cell_type": "code",
   "execution_count": 13,
   "metadata": {},
   "outputs": [
    {
     "data": {
      "text/plain": [
       "val merge : 'a list -> 'a list -> 'a list = <fun>\n"
      ]
     },
     "execution_count": 13,
     "metadata": {},
     "output_type": "execute_result"
    },
    {
     "data": {
      "text/plain": [
       "- : int list = [2; 6; 9; 19; 53]\n"
      ]
     },
     "execution_count": 13,
     "metadata": {},
     "output_type": "execute_result"
    }
   ],
   "source": [
    "let rec merge a b =\n",
    "  match a, b with\n",
    "  | [], l -> l\n",
    "  | l , [] -> l\n",
    "  | ha :: ta, hb :: tb ->\n",
    "    if ha < hb then \n",
    "      ha :: merge ta (hb :: tb)\n",
    "    else\n",
    "      hb :: merge (ha :: ta) tb ;;\n",
    "      \n",
    "merge [9;53] [2;6;19]"
   ]
  },
  {
   "cell_type": "code",
   "execution_count": 14,
   "metadata": {},
   "outputs": [
    {
     "data": {
      "text/plain": [
       "val msort : 'a list -> 'a list = <fun>\n"
      ]
     },
     "execution_count": 14,
     "metadata": {},
     "output_type": "execute_result"
    },
    {
     "data": {
      "text/plain": [
       "- : int list = [0; 1; 2; 3; 4; 5; 6; 8]\n"
      ]
     },
     "execution_count": 14,
     "metadata": {},
     "output_type": "execute_result"
    }
   ],
   "source": [
    "let rec msort l =\n",
    "  match l with\n",
    "  | [] -> []\n",
    "  | [x] -> [x]\n",
    "  | _ ->\n",
    "    let left = take (length l / 2) l in\n",
    "    let right = drop (length l / 2) l in\n",
    "    merge (msort left) (msort right) ;;\n",
    "\n",
    "msort [5;1;0;4;3;8;2;6]"
   ]
  },
  {
   "cell_type": "markdown",
   "metadata": {},
   "source": [
    "Remember always to test individual functions!\n",
    "\n",
    "## Exercises\n",
    "\n",
    " * In `msort`, we calculate the value of the expression length l / 2 twice. Modify msort to remove this inefficiency."
   ]
  },
  {
   "cell_type": "code",
   "execution_count": 15,
   "metadata": {},
   "outputs": [
    {
     "data": {
      "text/plain": [
       "val msort : 'a list -> 'a list = <fun>\n"
      ]
     },
     "execution_count": 15,
     "metadata": {},
     "output_type": "execute_result"
    },
    {
     "data": {
      "text/plain": [
       "- : int list = [0; 1; 2; 3; 4; 5; 6; 8]\n"
      ]
     },
     "execution_count": 15,
     "metadata": {},
     "output_type": "execute_result"
    }
   ],
   "source": [
    "let rec msort l =\n",
    "  match l with\n",
    "  | [] -> []\n",
    "  | [x] -> [x]\n",
    "  | _ ->\n",
    "    let n = length l / 2 in\n",
    "    let left = take n l in\n",
    "    let right = drop n l in\n",
    "    merge (msort left) (msort right) ;;\n",
    "\n",
    "msort [5;1;0;4;3;8;2;6]"
   ]
  },
  {
   "cell_type": "markdown",
   "metadata": {},
   "source": [
    " * We know that take and drop can fail if called with incorrect arguments. Show that this is never the case in msort"
   ]
  },
  {
   "cell_type": "markdown",
   "metadata": {},
   "source": [
    "_I really have no idea what to answer here..._"
   ]
  },
  {
   "cell_type": "markdown",
   "metadata": {},
   "source": [
    " * Write a version of insertion sort which sorts the argument list into reverse order."
   ]
  },
  {
   "cell_type": "markdown",
   "metadata": {},
   "source": [
    "_I am tired of sorting, I am skipping this one..._"
   ]
  },
  {
   "cell_type": "markdown",
   "metadata": {},
   "source": [
    " * We mentioned that the comparison functions like < work for many OCaml types. Can you determine, by experimentation, how they work for lists? For example, what is the result of `[1; 2] < [2; 3]`? What happens when we sort the following list of type char list list? Why? `[['o'; 'n'; 'e']; ['t'; 'w'; 'o']; ['t'; 'h'; 'r'; 'e'; 'e']]`"
   ]
  },
  {
   "cell_type": "code",
   "execution_count": 25,
   "metadata": {},
   "outputs": [
    {
     "data": {
      "text/plain": [
       "- : bool = true\n"
      ]
     },
     "execution_count": 25,
     "metadata": {},
     "output_type": "execute_result"
    },
    {
     "data": {
      "text/plain": [
       "- : char list list =\n",
       "[['o'; 'n'; 'e']; ['t'; 'h'; 'r'; 'e'; 'e']; ['t'; 'w'; 'o']]\n"
      ]
     },
     "execution_count": 25,
     "metadata": {},
     "output_type": "execute_result"
    }
   ],
   "source": [
    "[1;2] < [2;3];;\n",
    "msort [['o';'n';'e']; ['t';'w';'o']; ['t';'h';'r';'e';'e']]"
   ]
  },
  {
   "cell_type": "markdown",
   "metadata": {},
   "source": [
    "_It looks like it sorts based in the comparisson of the elements in the list, so the list with 'one' goes first because `'o' < 't'` but 'three' goes before 'two' because `'t' < 'w'`_"
   ]
  },
  {
   "cell_type": "markdown",
   "metadata": {},
   "source": [
    " * Combine the sort and insert functions into a single sort function.\n",
    "\n",
    "_I already did this in the chapter, take a look_"
   ]
  },
  {
   "cell_type": "code",
   "execution_count": null,
   "metadata": {},
   "outputs": [],
   "source": []
  }
 ],
 "metadata": {
  "kernelspec": {
   "display_name": "OCaml 4.06.0",
   "language": "OCaml",
   "name": "ocaml-jupyter"
  },
  "language_info": {
   "codemirror_mode": "text/x-ocaml",
   "file_extension": ".ml",
   "mimetype": "text/x-ocaml",
   "name": "OCaml",
   "nbconverter_exporter": null,
   "pygments_lexer": "OCaml",
   "version": "4.06.0"
  }
 },
 "nbformat": 4,
 "nbformat_minor": 2
}
