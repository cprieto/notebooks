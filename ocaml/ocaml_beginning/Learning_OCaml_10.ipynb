{
 "cells": [
  {
   "cell_type": "markdown",
   "metadata": {},
   "source": [
    "# Chapter 10, types\n",
    "\n",
    "Now we introduce our own type definitions, take a look at them!"
   ]
  },
  {
   "cell_type": "code",
   "execution_count": 6,
   "metadata": {},
   "outputs": [
    {
     "data": {
      "text/plain": [
       "type color = Red | Green | Blue | RGB of int * int * int\n"
      ]
     },
     "execution_count": 6,
     "metadata": {},
     "output_type": "execute_result"
    },
    {
     "data": {
      "text/plain": [
       "val colorList : color list = [Red; Green; RGB (255, 0, 255)]\n"
      ]
     },
     "execution_count": 6,
     "metadata": {},
     "output_type": "execute_result"
    }
   ],
   "source": [
    "type color =\n",
    "  | Red\n",
    "  | Green\n",
    "  | Blue\n",
    "  | RGB of int * int * int\n",
    ";;\n",
    "\n",
    "let colorList = [Red; Green; RGB (255, 0, 255)]"
   ]
  },
  {
   "cell_type": "markdown",
   "metadata": {},
   "source": [
    "Two important things to notice:\n",
    " * Types are in lowercase, if you try to call `color` like `Color` it will fail\n",
    " * Notice we have a type that is actually a tuple and it is still part of the type!"
   ]
  },
  {
   "cell_type": "code",
   "execution_count": 8,
   "metadata": {},
   "outputs": [
    {
     "data": {
      "text/plain": [
       "val components : color -> int * int * int = <fun>\n"
      ]
     },
     "execution_count": 8,
     "metadata": {},
     "output_type": "execute_result"
    },
    {
     "data": {
      "text/plain": [
       "- : int * int * int = (255, 0, 0)\n"
      ]
     },
     "execution_count": 8,
     "metadata": {},
     "output_type": "execute_result"
    }
   ],
   "source": [
    "let components c =\n",
    "  match c with\n",
    "  | Red -> (255, 0, 0)\n",
    "  | Green -> (0, 255, 0)\n",
    "  | Blue -> (0, 0, 255)\n",
    "  | RGB (r, g, b) -> (r, g, b)\n",
    ";;\n",
    "\n",
    "components Red;;"
   ]
  },
  {
   "cell_type": "markdown",
   "metadata": {},
   "source": [
    "We can have optional types too, or types that _hold a value or not at all_. This is done with the type `option`:"
   ]
  },
  {
   "cell_type": "code",
   "execution_count": 10,
   "metadata": {},
   "outputs": [
    {
     "data": {
      "text/plain": [
       "val x : 'a option = None\n"
      ]
     },
     "execution_count": 10,
     "metadata": {},
     "output_type": "execute_result"
    }
   ],
   "source": [
    "let x = None;"
   ]
  },
  {
   "cell_type": "markdown",
   "metadata": {},
   "source": [
    "What if option has a value but still optional?"
   ]
  },
  {
   "cell_type": "code",
   "execution_count": 11,
   "metadata": {},
   "outputs": [
    {
     "data": {
      "text/plain": [
       "val x : int option = Some 5\n"
      ]
     },
     "execution_count": 11,
     "metadata": {},
     "output_type": "execute_result"
    }
   ],
   "source": [
    "let x = Some 5"
   ]
  },
  {
   "cell_type": "markdown",
   "metadata": {},
   "source": [
    "See? now we know the type is `int option` and right now it has a value (`Some 5`)\n",
    "\n",
    "The author reallly struggles to explain optional values and its relationship with types, I am pretty sure he is a good academic and teacher but come on!\n",
    "\n",
    "In reality what he did was to define a new type for explaining lists, called `sequence`"
   ]
  },
  {
   "cell_type": "code",
   "execution_count": 2,
   "metadata": {},
   "outputs": [
    {
     "data": {
      "text/plain": [
       "type 'a sequence = Nil | Cons of 'a * 'a sequence\n"
      ]
     },
     "execution_count": 2,
     "metadata": {},
     "output_type": "execute_result"
    }
   ],
   "source": [
    "type 'a sequence =\n",
    "  | Nil\n",
    "  | Cons of 'a * 'a sequence\n",
    ";;"
   ]
  },
  {
   "cell_type": "markdown",
   "metadata": {},
   "source": [
    "Basically what he did (in a very complex way) is to create a type named `sequence` with two possible values: `Nil` and `Cons`, in the case of the latter it will need a tuple with a value and a sequence.\n",
    "\n",
    "For example:"
   ]
  },
  {
   "cell_type": "code",
   "execution_count": 14,
   "metadata": {},
   "outputs": [
    {
     "data": {
      "text/plain": [
       "- : int sequence = Cons (1, Cons (2, Cons (3, Nil)))\n"
      ]
     },
     "execution_count": 14,
     "metadata": {},
     "output_type": "execute_result"
    }
   ],
   "source": [
    "Cons (1, Cons (2, Cons (3, Nil)))"
   ]
  },
  {
   "cell_type": "markdown",
   "metadata": {},
   "source": [
    "That was all, why he couldn't explain that? who knows, maybe he is a genius or something.\n",
    "\n",
    "Now, thanks to that, he tries to demostrate why concatenate an element at the end of a list or calculating the length is difficult using our new type sequence:"
   ]
  },
  {
   "cell_type": "code",
   "execution_count": 24,
   "metadata": {},
   "outputs": [
    {
     "data": {
      "text/plain": [
       "val length : 'a sequence -> int = <fun>\n"
      ]
     },
     "execution_count": 24,
     "metadata": {},
     "output_type": "execute_result"
    }
   ],
   "source": [
    "let length l =\n",
    "  let rec loop n l' =\n",
    "    match l' with\n",
    "    | Nil -> n\n",
    "    | Cons (_, t) -> loop (n + 1) t in\n",
    "  loop 0 l\n",
    ";;"
   ]
  },
  {
   "cell_type": "markdown",
   "metadata": {},
   "source": [
    "Now, because they guy writting this thing is a genious, he go and express how expression can be solved with types:"
   ]
  },
  {
   "cell_type": "code",
   "execution_count": 26,
   "metadata": {},
   "outputs": [
    {
     "data": {
      "text/plain": [
       "type expr =\n",
       "    Num of int\n",
       "  | Add of expr * expr\n",
       "  | Substract of expr * expr\n",
       "  | Multiply of expr * expr\n",
       "  | Divide of expr * expr\n"
      ]
     },
     "execution_count": 26,
     "metadata": {},
     "output_type": "execute_result"
    },
    {
     "data": {
      "text/plain": [
       "val evaluate : expr -> int = <fun>\n"
      ]
     },
     "execution_count": 26,
     "metadata": {},
     "output_type": "execute_result"
    }
   ],
   "source": [
    "type expr = \n",
    "  | Num of int\n",
    "  | Add of expr * expr\n",
    "  | Substract of expr * expr\n",
    "  | Multiply of expr * expr\n",
    "  | Divide of expr * expr\n",
    ";;\n",
    "\n",
    "let rec evaluate e =\n",
    "  match e with\n",
    "  | Num x -> x\n",
    "  | Add (a, b) -> evaluate a + evaluate b\n",
    "  | Substract (a, b) -> evaluate a - evaluate b\n",
    "  | Multiply (a, b) -> evaluate a * evaluate b\n",
    "  | Divide (a, b) -> evaluate a / evaluate b\n",
    ";;"
   ]
  },
  {
   "cell_type": "markdown",
   "metadata": {},
   "source": [
    "Notice how at the end OCaml knows that the final product of an expression evaluation is just `int`\n",
    "\n",
    "## Exercises\n",
    "\n",
    " * Design a new type rect for representing rectangles. Treat squares as a special case"
   ]
  },
  {
   "cell_type": "code",
   "execution_count": 27,
   "metadata": {},
   "outputs": [
    {
     "data": {
      "text/plain": [
       "type rect = Rectangle of int * int | Square of int\n"
      ]
     },
     "execution_count": 27,
     "metadata": {},
     "output_type": "execute_result"
    }
   ],
   "source": [
    "type rect =\n",
    "  | Rectangle of int * int\n",
    "  | Square of int\n",
    ";;"
   ]
  },
  {
   "cell_type": "markdown",
   "metadata": {},
   "source": [
    " * Now write a function of type `rect → int` to calculate the area of a given rect."
   ]
  },
  {
   "cell_type": "code",
   "execution_count": 36,
   "metadata": {},
   "outputs": [
    {
     "data": {
      "text/plain": [
       "val area : rect -> int = <fun>\n"
      ]
     },
     "execution_count": 36,
     "metadata": {},
     "output_type": "execute_result"
    },
    {
     "data": {
      "text/plain": [
       "- : int = 8\n"
      ]
     },
     "execution_count": 36,
     "metadata": {},
     "output_type": "execute_result"
    },
    {
     "data": {
      "text/plain": [
       "- : int = 9\n"
      ]
     },
     "execution_count": 36,
     "metadata": {},
     "output_type": "execute_result"
    }
   ],
   "source": [
    "let area n =\n",
    "  match n with\n",
    "  | Rectangle (x, y) -> x * y\n",
    "  | Square n -> n * n\n",
    ";;\n",
    "\n",
    "area (Rectangle (2, 4)) ;;\n",
    "area (Square 3)"
   ]
  },
  {
   "cell_type": "markdown",
   "metadata": {},
   "source": [
    " * Write a function which rotates a rect such that it is at least as tall as it is wide."
   ]
  },
  {
   "cell_type": "code",
   "execution_count": 38,
   "metadata": {},
   "outputs": [
    {
     "data": {
      "text/plain": [
       "val rotate : rect -> rect = <fun>\n"
      ]
     },
     "execution_count": 38,
     "metadata": {},
     "output_type": "execute_result"
    },
    {
     "data": {
      "text/plain": [
       "- : rect = Rectangle (3, 2)\n"
      ]
     },
     "execution_count": 38,
     "metadata": {},
     "output_type": "execute_result"
    }
   ],
   "source": [
    "let rotate n =\n",
    "  match n with\n",
    "  | Rectangle (x, y) -> Rectangle (y, x)\n",
    "  | _ -> n\n",
    ";;\n",
    "\n",
    "rotate (Rectangle (2,3))"
   ]
  },
  {
   "cell_type": "markdown",
   "metadata": {},
   "source": [
    " * Use this function to write one which, given a rect list, returns another such list which has the smallest total width and whose members are sorted narrowest first.\n",
    " \n",
    "_This is the same bullshit, I am tired of dealing with lists, seriously, come with a different exercise man_"
   ]
  },
  {
   "cell_type": "markdown",
   "metadata": {},
   "source": [
    " * Write `take`, `drop`, and `map` functions for the sequence type."
   ]
  },
  {
   "cell_type": "code",
   "execution_count": 25,
   "metadata": {},
   "outputs": [
    {
     "data": {
      "text/plain": [
       "val take_seq : int -> 'a sequence -> 'a sequence = <fun>\n"
      ]
     },
     "execution_count": 25,
     "metadata": {},
     "output_type": "execute_result"
    },
    {
     "data": {
      "text/plain": [
       "- : int sequence = Cons (2, Cons (1, Nil))\n"
      ]
     },
     "execution_count": 25,
     "metadata": {},
     "output_type": "execute_result"
    },
    {
     "data": {
      "text/plain": [
       "val drop_seq : int -> 'a sequence -> 'a sequence = <fun>\n"
      ]
     },
     "execution_count": 25,
     "metadata": {},
     "output_type": "execute_result"
    },
    {
     "data": {
      "text/plain": [
       "- : int sequence = Cons (3, Cons (4, Nil))\n"
      ]
     },
     "execution_count": 25,
     "metadata": {},
     "output_type": "execute_result"
    },
    {
     "data": {
      "text/plain": [
       "val map_seq : ('a -> 'b) -> 'a sequence -> 'b sequence = <fun>\n"
      ]
     },
     "execution_count": 25,
     "metadata": {},
     "output_type": "execute_result"
    },
    {
     "data": {
      "text/plain": [
       "- : int sequence = Cons (5, Cons (4, Cons (3, Cons (2, Nil))))\n"
      ]
     },
     "execution_count": 25,
     "metadata": {},
     "output_type": "execute_result"
    }
   ],
   "source": [
    "let take_seq n l =\n",
    "  let rec loop n' l' acc =\n",
    "    if n' = 0 then acc else\n",
    "    match l' with\n",
    "    | Nil -> acc\n",
    "    | Cons (hd, tl) -> \n",
    "      loop (n' - 1) tl (Cons (hd, acc)) in\n",
    "  loop n l Nil\n",
    ";;\n",
    "\n",
    "take_seq 2 (Cons(1, Cons(2, Cons(3, Nil))));;\n",
    "\n",
    "let rec drop_seq n l =\n",
    "  if n = 0 then l else\n",
    "  match l with\n",
    "  | Nil -> l\n",
    "  | Cons (hd, tl) -> drop_seq (n - 1) tl\n",
    ";;\n",
    "\n",
    "drop_seq 2 (Cons(1, Cons(2, Cons(3, Cons(4, Nil)))));;\n",
    "\n",
    "let map_seq f l =\n",
    "  let rec loop l' acc =\n",
    "    match l' with\n",
    "    | Nil -> acc\n",
    "    | Cons (hd, tl) -> loop tl (Cons (f hd, acc)) in\n",
    "  loop l Nil\n",
    ";;\n",
    "\n",
    "map_seq (fun x -> x + 1) (Cons(1, Cons(2, Cons(3, Cons(4, Nil)))));;"
   ]
  },
  {
   "cell_type": "markdown",
   "metadata": {},
   "source": [
    " * Extend the expr type and the evaluate function to allow raising a number to a power."
   ]
  },
  {
   "cell_type": "code",
   "execution_count": 36,
   "metadata": {},
   "outputs": [
    {
     "data": {
      "text/plain": [
       "type expr =\n",
       "    Num of int\n",
       "  | Add of expr * expr\n",
       "  | Substract of expr * expr\n",
       "  | Multiply of expr * expr\n",
       "  | Divide of expr * expr\n",
       "  | Power of expr * expr\n"
      ]
     },
     "execution_count": 36,
     "metadata": {},
     "output_type": "execute_result"
    },
    {
     "data": {
      "text/plain": [
       "val evaluate : expr -> int = <fun>\n"
      ]
     },
     "execution_count": 36,
     "metadata": {},
     "output_type": "execute_result"
    },
    {
     "data": {
      "text/plain": [
       "- : int = 4\n"
      ]
     },
     "execution_count": 36,
     "metadata": {},
     "output_type": "execute_result"
    }
   ],
   "source": [
    "type expr = \n",
    "  | Num of int\n",
    "  | Add of expr * expr\n",
    "  | Substract of expr * expr\n",
    "  | Multiply of expr * expr\n",
    "  | Divide of expr * expr\n",
    "  | Power of expr * expr\n",
    ";;\n",
    "\n",
    "let rec evaluate e =\n",
    "  match e with\n",
    "  | Num x -> x\n",
    "  | Add (a, b) -> evaluate a + evaluate b\n",
    "  | Substract (a, b) -> evaluate a - evaluate b\n",
    "  | Multiply (a, b) -> evaluate a * evaluate b\n",
    "  | Divide (a, b) -> evaluate a / evaluate b\n",
    "  | Power (a, b) ->\n",
    "    let a' = evaluate a in\n",
    "    let rec power x n =\n",
    "      if n = 1 then x else power (x * a') (n - 1) in\n",
    "      power a' (evaluate b)\n",
    ";;\n",
    "\n",
    "evaluate (Power (Num 2, Num 2))"
   ]
  },
  {
   "cell_type": "markdown",
   "metadata": {},
   "source": [
    " * Use the option type to deal with the problem that Division_by_zero may be raised from the evaluate function."
   ]
  },
  {
   "cell_type": "code",
   "execution_count": 40,
   "metadata": {},
   "outputs": [
    {
     "data": {
      "text/plain": [
       "val evaluate_opt : expr -> int option = <fun>\n"
      ]
     },
     "execution_count": 40,
     "metadata": {},
     "output_type": "execute_result"
    }
   ],
   "source": [
    "let evaluate_opt e =\n",
    "  try Some (evaluate e) with\n",
    "  | Division_by_zero -> None\n",
    ";;"
   ]
  },
  {
   "cell_type": "markdown",
   "metadata": {},
   "source": [
    "_I really didn't get the question, another curved ball_"
   ]
  }
 ],
 "metadata": {
  "kernelspec": {
   "display_name": "OCaml 4.06.0",
   "language": "OCaml",
   "name": "ocaml-jupyter"
  },
  "language_info": {
   "codemirror_mode": "text/x-ocaml",
   "file_extension": ".ml",
   "mimetype": "text/x-ocaml",
   "name": "OCaml",
   "nbconverter_exporter": null,
   "pygments_lexer": "OCaml",
   "version": "4.06.0"
  }
 },
 "nbformat": 4,
 "nbformat_minor": 2
}
