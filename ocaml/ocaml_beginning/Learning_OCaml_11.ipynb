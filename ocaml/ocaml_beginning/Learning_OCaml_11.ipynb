{
 "cells": [
  {
   "cell_type": "markdown",
   "metadata": {},
   "source": [
    "# Chapter 11, trees\n",
    "\n",
    "The chapter starts explaining how we can represent a binary tree in OCaml, it is a simple but good discussion, at the end we will have a polymorphic type holding a branch (with data) and a leaf (signaling it is a end node) so it contained no data:"
   ]
  },
  {
   "cell_type": "code",
   "execution_count": 32,
   "metadata": {},
   "outputs": [
    {
     "data": {
      "text/plain": [
       "type 'a tree = Branch of 'a * 'a tree * 'a tree | Leaf\n"
      ]
     },
     "execution_count": 32,
     "metadata": {},
     "output_type": "execute_result"
    }
   ],
   "source": [
    "type 'a tree =\n",
    "| Branch of 'a * 'a tree * 'a tree\n",
    "| Leaf \n",
    ";;"
   ]
  },
  {
   "cell_type": "markdown",
   "metadata": {},
   "source": [
    "To count the number of elements of a tree we count the number of branches and skip leaves."
   ]
  },
  {
   "cell_type": "code",
   "execution_count": 15,
   "metadata": {},
   "outputs": [
    {
     "data": {
      "text/plain": [
       "val size : 'a tree -> int = <fun>\n"
      ]
     },
     "execution_count": 15,
     "metadata": {},
     "output_type": "execute_result"
    }
   ],
   "source": [
    "let rec size t =\n",
    "  match t with\n",
    "  | Branch (_, l, r) -> 1 + size l + size r\n",
    "  | Leaf -> 0\n",
    ";;"
   ]
  },
  {
   "cell_type": "markdown",
   "metadata": {},
   "source": [
    "We can calculate the \"depth\" of a tree, or the longest branch in the tree:"
   ]
  },
  {
   "cell_type": "code",
   "execution_count": 16,
   "metadata": {},
   "outputs": [
    {
     "data": {
      "text/plain": [
       "val depth : 'a tree -> int = <fun>\n"
      ]
     },
     "execution_count": 16,
     "metadata": {},
     "output_type": "execute_result"
    }
   ],
   "source": [
    "let rec depth t =\n",
    "  let max a b =\n",
    "    if a > b then a else b in\n",
    "  match t with\n",
    "  | Branch (_, l, r) -> max (depth l) (depth r)\n",
    "  | Leaf -> 0\n",
    ";;"
   ]
  },
  {
   "cell_type": "markdown",
   "metadata": {},
   "source": [
    "Now guess what, because the author fucking love lists (I think he really thinks it is the best data type ever created) now he wants to convert a tree into a list... wonderful."
   ]
  },
  {
   "cell_type": "code",
   "execution_count": 17,
   "metadata": {},
   "outputs": [
    {
     "data": {
      "text/plain": [
       "val to_list : 'a tree -> 'a list = <fun>\n"
      ]
     },
     "execution_count": 17,
     "metadata": {},
     "output_type": "execute_result"
    }
   ],
   "source": [
    "let rec to_list t =\n",
    "  match t with\n",
    "  | Branch (x, l, r) -> x :: (to_list l) @ (to_list r)\n",
    "  | Leaf -> []\n",
    ";;"
   ]
  },
  {
   "cell_type": "markdown",
   "metadata": {},
   "source": [
    "I am not even try to make it recursive, the author doesn't even try neither that is because he is drinking too many lists..."
   ]
  },
  {
   "cell_type": "code",
   "execution_count": 22,
   "metadata": {},
   "outputs": [
    {
     "data": {
      "text/plain": [
       "val tree_map : ('a -> 'b) -> 'a tree -> 'b tree = <fun>\n"
      ]
     },
     "execution_count": 22,
     "metadata": {},
     "output_type": "execute_result"
    }
   ],
   "source": [
    "let rec tree_map f t =\n",
    "  match t with\n",
    "  | Branch (x, l, r) -> Branch (f x, tree_map f l, tree_map f r)\n",
    "  | _ -> Leaf\n",
    ";;"
   ]
  },
  {
   "cell_type": "markdown",
   "metadata": {},
   "source": [
    "Now we can design a dictionary using a balanced binary tree, to easy the search, take for example the following tree of type `(int * string)`:"
   ]
  },
  {
   "cell_type": "code",
   "execution_count": 26,
   "metadata": {},
   "outputs": [
    {
     "data": {
      "text/plain": [
       "- : (int * string) tree =\n",
       "Branch ((3, \"three\"),\n",
       " Branch ((1, \"one\"), Leaf, Branch ((2, \"two\"), Leaf, Leaf)),\n",
       " Branch ((4, \"four\"), Leaf, Leaf))\n"
      ]
     },
     "execution_count": 26,
     "metadata": {},
     "output_type": "execute_result"
    }
   ],
   "source": [
    "Branch ((3, \"three\"), Branch ((1, \"one\"), Leaf, Branch ((2, \"two\"), Leaf, Leaf)), Branch ((4, \"four\"), Leaf, Leaf))"
   ]
  },
  {
   "cell_type": "markdown",
   "metadata": {},
   "source": [
    "Basically, if you display the tree (I can't and I don't want to install graphviz) it will look that for every branch there is one with the a greater number to the right and lesser number to the left. Easy now to search for a number!"
   ]
  },
  {
   "cell_type": "code",
   "execution_count": 29,
   "metadata": {},
   "outputs": [
    {
     "data": {
      "text/plain": [
       "val lookup : 'a -> ('a * 'b) tree -> 'b = <fun>\n"
      ]
     },
     "execution_count": 29,
     "metadata": {},
     "output_type": "execute_result"
    }
   ],
   "source": [
    "let rec lookup k t =\n",
    "  match t with\n",
    "  | Branch ((k', v), l, r) -> \n",
    "    if k' = k then v else\n",
    "    if k' < k then lookup k r else lookup k l\n",
    "  | _ -> raise (Not_found)\n",
    ";;"
   ]
  },
  {
   "cell_type": "markdown",
   "metadata": {},
   "source": [
    "We can create a function to insert the value into our new dictionary structure (using a balance tree). The same procedure happens, left is \"lesser than\" and right is \"greater than\". Of course we have to move the structure if already have a number there."
   ]
  },
  {
   "cell_type": "code",
   "execution_count": 31,
   "metadata": {},
   "outputs": [
    {
     "data": {
      "text/plain": [
       "val insert : 'a -> 'b -> ('a * 'b) tree -> ('a * 'b) tree = <fun>\n"
      ]
     },
     "execution_count": 31,
     "metadata": {},
     "output_type": "execute_result"
    }
   ],
   "source": [
    "let rec insert k v t =\n",
    "  match t with\n",
    "  | Branch ((k', v'), l, r) ->\n",
    "    if k = k' then Branch ((k, v), l, r) else\n",
    "    if k > k' then Branch ((k', v'), l, insert k v r) else\n",
    "    Branch ((k', v'), insert k v l, r)\n",
    "  | Leaf -> Branch ((k, v), Leaf, Leaf)\n",
    ";;"
   ]
  },
  {
   "cell_type": "markdown",
   "metadata": {},
   "source": [
    "## Exercises"
   ]
  },
  {
   "cell_type": "markdown",
   "metadata": {},
   "source": [
    " * Write a function of type `α → α tree → bool` to determine if a given element is in a tree."
   ]
  },
  {
   "cell_type": "code",
   "execution_count": 33,
   "metadata": {},
   "outputs": [
    {
     "data": {
      "text/plain": [
       "val tree_contains : 'a -> 'a tree -> bool = <fun>\n"
      ]
     },
     "execution_count": 33,
     "metadata": {},
     "output_type": "execute_result"
    }
   ],
   "source": [
    "let rec tree_contains x t =\n",
    "  match t with\n",
    "  | Branch (x', l, r) ->\n",
    "    if x = x' then true else\n",
    "    if x < x' then tree_contains x l else\n",
    "    tree_contains x r\n",
    "  | Leaf -> false\n",
    ";;"
   ]
  },
  {
   "cell_type": "markdown",
   "metadata": {},
   "source": [
    " * Write a function which flips a tree left to right such that, if it were drawn on paper, it would appear to be a mirror image."
   ]
  },
  {
   "cell_type": "code",
   "execution_count": 36,
   "metadata": {},
   "outputs": [
    {
     "data": {
      "text/plain": [
       "val flip_tree : 'a tree -> 'a tree = <fun>\n"
      ]
     },
     "execution_count": 36,
     "metadata": {},
     "output_type": "execute_result"
    }
   ],
   "source": [
    "(* This function is not tail recursive *)\n",
    "let rec flip_tree t =\n",
    "  match t with\n",
    "  | Branch (v, l, r) -> Branch (v, flip_tree r, flip_tree l)\n",
    "  | Leaf -> Leaf\n",
    ";;"
   ]
  },
  {
   "cell_type": "markdown",
   "metadata": {},
   "source": [
    " * Write a function to determine if two trees have the same shape, irrespective of the actual values of the elements."
   ]
  },
  {
   "cell_type": "code",
   "execution_count": 41,
   "metadata": {},
   "outputs": [
    {
     "data": {
      "text/plain": [
       "val same_shape : 'a tree -> 'b tree -> bool = <fun>\n"
      ]
     },
     "execution_count": 41,
     "metadata": {},
     "output_type": "execute_result"
    },
    {
     "data": {
      "text/plain": [
       "val a : int tree = Branch (1, Branch (2, Leaf, Leaf), Leaf)\n"
      ]
     },
     "execution_count": 41,
     "metadata": {},
     "output_type": "execute_result"
    },
    {
     "data": {
      "text/plain": [
       "val b : int tree = Branch (100, Branch (200, Leaf, Leaf), Leaf)\n"
      ]
     },
     "execution_count": 41,
     "metadata": {},
     "output_type": "execute_result"
    },
    {
     "data": {
      "text/plain": [
       "val c : int tree =\n",
       "  Branch (100, Branch (200, Leaf, Leaf), Branch (400, Leaf, Leaf))\n"
      ]
     },
     "execution_count": 41,
     "metadata": {},
     "output_type": "execute_result"
    },
    {
     "data": {
      "text/plain": [
       "- : bool = true\n"
      ]
     },
     "execution_count": 41,
     "metadata": {},
     "output_type": "execute_result"
    },
    {
     "data": {
      "text/plain": [
       "- : bool = false\n"
      ]
     },
     "execution_count": 41,
     "metadata": {},
     "output_type": "execute_result"
    }
   ],
   "source": [
    "let rec same_shape a b =\n",
    "  match a, b with\n",
    "  | Branch (_, la, ra), Branch (_, lb, rb) -> (same_shape la lb) && (same_shape ra rb)\n",
    "  | Leaf, Leaf -> true\n",
    "  | _, _ -> false\n",
    ";;\n",
    "\n",
    "let a = Branch(1, Branch(2, Leaf, Leaf), Leaf) ;;\n",
    "let b = Branch(100, Branch(200, Leaf, Leaf), Leaf) ;;\n",
    "let c = Branch(100, Branch(200, Leaf, Leaf), Branch(400, Leaf, Leaf)) ;;\n",
    "\n",
    "same_shape a b ;;\n",
    "same_shape a c ;;"
   ]
  },
  {
   "cell_type": "markdown",
   "metadata": {},
   "source": [
    " * Write a function `tree_of_list` which builds a tree representation of a dictionary from a list representation of a dictionary."
   ]
  },
  {
   "cell_type": "code",
   "execution_count": 44,
   "metadata": {},
   "outputs": [
    {
     "data": {
      "text/plain": [
       "val tree_of_list : ('a * 'b) list -> ('a * 'b) tree = <fun>\n"
      ]
     },
     "execution_count": 44,
     "metadata": {},
     "output_type": "execute_result"
    },
    {
     "data": {
      "text/plain": [
       "- : (int * string) tree =\n",
       "Branch ((4, \"cuatro\"),\n",
       " Branch ((2, \"dos\"), Branch ((1, \"uno\"), Leaf, Leaf),\n",
       "  Branch ((3, \"tres\"), Leaf, Leaf)),\n",
       " Branch ((5, \"cinco\"), Leaf, Leaf))\n"
      ]
     },
     "execution_count": 44,
     "metadata": {},
     "output_type": "execute_result"
    }
   ],
   "source": [
    "let rec tree_of_list l =\n",
    "  match l with\n",
    "  | (k, v) :: tl -> insert k v (tree_of_list tl)\n",
    "  | _ -> Leaf\n",
    ";;\n",
    "\n",
    "tree_of_list [(1,\"uno\"); (5, \"cinco\"); (3, \"tres\"); (2, \"dos\"); (4, \"cuatro\")]"
   ]
  },
  {
   "cell_type": "markdown",
   "metadata": {},
   "source": [
    " * Write a function to combine two dictionaries represented as trees into one. In the case of clashing keys, prefer the value from the first dictionary."
   ]
  },
  {
   "cell_type": "code",
   "execution_count": 46,
   "metadata": {},
   "outputs": [
    {
     "data": {
      "text/plain": [
       "val union_tree : ('a * 'b) tree -> ('a * 'b) tree -> ('a * 'b) tree = <fun>\n"
      ]
     },
     "execution_count": 46,
     "metadata": {},
     "output_type": "execute_result"
    }
   ],
   "source": [
    "let union_tree a b =\n",
    "  tree_of_list ((to_list a) @ (to_list b))\n",
    ";;"
   ]
  },
  {
   "cell_type": "markdown",
   "metadata": {},
   "source": [
    " * Can you define a type for trees which, instead of branching exactly two ways each time, can branch zero or more ways, possibly different at each branch? Write simple functions like `size`, `total`, and `map` using your new type of tree."
   ]
  },
  {
   "cell_type": "markdown",
   "metadata": {},
   "source": [
    "_I probably could but I won't because I got tired and bored and I want to finish this book so I can read a better one._"
   ]
  }
 ],
 "metadata": {
  "kernelspec": {
   "display_name": "OCaml 4.06.0",
   "language": "OCaml",
   "name": "ocaml-jupyter"
  },
  "language_info": {
   "codemirror_mode": "text/x-ocaml",
   "file_extension": ".ml",
   "mimetype": "text/x-ocaml",
   "name": "OCaml",
   "nbconverter_exporter": null,
   "pygments_lexer": "OCaml",
   "version": "4.06.0"
  }
 },
 "nbformat": 4,
 "nbformat_minor": 2
}
