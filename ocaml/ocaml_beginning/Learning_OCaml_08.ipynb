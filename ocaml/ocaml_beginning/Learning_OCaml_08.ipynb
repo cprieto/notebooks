{
 "cells": [
  {
   "cell_type": "markdown",
   "metadata": {},
   "source": [
    "# Chapter 8, dictionaries I guess?\n",
    "\n",
    "The chapter is actually about tuples and pairs, important thing is that in OCaml _lists_ are separated with semicolon `;` while _tuple pairs_ are separated by colon `,`.\n",
    "\n",
    "Tuple pairs can have different types, for example `(1, 'a')` and different than list it cannot be ever _empty_.\n",
    "\n",
    "The type representation of a _pair_ is `'a * 'b` notice the `*` in the middle, so the previous tuple `(1, 'a')` would be represented as `int * char`.\n",
    "\n",
    "Because tuples has only _one representation_ you can decompose them easily:"
   ]
  },
  {
   "cell_type": "code",
   "execution_count": 3,
   "metadata": {},
   "outputs": [
    {
     "data": {
      "text/plain": [
       "val coordinates : int * int = (1, 2)\n"
      ]
     },
     "execution_count": 3,
     "metadata": {},
     "output_type": "execute_result"
    },
    {
     "data": {
      "text/plain": [
       "val x : int = 1\n",
       "val y : int = 2\n"
      ]
     },
     "execution_count": 3,
     "metadata": {},
     "output_type": "execute_result"
    }
   ],
   "source": [
    "let coordinates = (1, 2)\n",
    "let x, y = coordinates"
   ]
  },
  {
   "cell_type": "markdown",
   "metadata": {},
   "source": [
    "In this chapter we implement our own dictionary structure. It is easy, we say that a dictionary is a list of key/value tuples, so a dictionary is `('a * 'b) list`"
   ]
  },
  {
   "cell_type": "code",
   "execution_count": 5,
   "metadata": {},
   "outputs": [
    {
     "data": {
      "text/plain": [
       "val dict : (int * int) list = [(1, 4); (2, 8); (3, 12)]\n"
      ]
     },
     "execution_count": 5,
     "metadata": {},
     "output_type": "execute_result"
    }
   ],
   "source": [
    "let dict = [(1,4); (2,8); (3,12)]"
   ]
  },
  {
   "cell_type": "markdown",
   "metadata": {},
   "source": [
    "We need a method to look a value in the dictionary by its key:"
   ]
  },
  {
   "cell_type": "code",
   "execution_count": 10,
   "metadata": {},
   "outputs": [
    {
     "data": {
      "text/plain": [
       "val lookup : 'a -> ('a * 'b) list -> 'b = <fun>\n"
      ]
     },
     "execution_count": 10,
     "metadata": {},
     "output_type": "execute_result"
    },
    {
     "data": {
      "text/plain": [
       "- : int = 8\n"
      ]
     },
     "execution_count": 10,
     "metadata": {},
     "output_type": "execute_result"
    },
    {
     "ename": "error",
     "evalue": "runtime_error",
     "output_type": "error",
     "traceback": [
      "\u001b[31mException: Not_found.\nRaised at file \"[10]\", line 8, characters 15-26\nCalled from file \"toplevel/toploop.ml\", line 180, characters 17-56\n\u001b[0m"
     ]
    }
   ],
   "source": [
    "(* We don't need an inner loop here, the function is tail recursive by nature *)\n",
    "\n",
    "let rec lookup key d =\n",
    "  match d with\n",
    "  | hd :: tl ->\n",
    "    let k, v = hd in\n",
    "    if key = k then v else lookup key tl\n",
    "  | _ -> raise (Not_found)\n",
    ";;\n",
    "\n",
    "lookup 2 [(1,4); (2,8); (3,12)] ;;\n",
    "lookup 10 [(1,4); (2,8); (3,12)]"
   ]
  },
  {
   "cell_type": "markdown",
   "metadata": {},
   "source": [
    "We can create a function to check a key exists in the dictionary:"
   ]
  },
  {
   "cell_type": "code",
   "execution_count": 12,
   "metadata": {},
   "outputs": [
    {
     "data": {
      "text/plain": [
       "val key_exists : 'a -> ('a * 'b) list -> bool = <fun>\n"
      ]
     },
     "execution_count": 12,
     "metadata": {},
     "output_type": "execute_result"
    }
   ],
   "source": [
    "let key_exists k d =\n",
    "  try let _ = lookup k d in true with (* Notice how we say 'if success then return true' *)\n",
    "  | Not_found -> false\n",
    ";;"
   ]
  },
  {
   "cell_type": "markdown",
   "metadata": {},
   "source": [
    "## Exercises"
   ]
  },
  {
   "cell_type": "markdown",
   "metadata": {},
   "source": [
    " * Write a function to determine the number of different keys in a dictionary.\n",
    " \n",
    "_This question doesn't make sense, because keys are unique it will be enough to do `length d`_\n",
    "\n",
    " * Define a function `replace` which is like `add`, but raises `Not_found` if the key is not already there."
   ]
  },
  {
   "cell_type": "code",
   "execution_count": 35,
   "metadata": {},
   "outputs": [
    {
     "data": {
      "text/plain": [
       "val replace : 'a -> 'b -> ('a * 'b) list -> ('a * 'b) list = <fun>\n"
      ]
     },
     "execution_count": 35,
     "metadata": {},
     "output_type": "execute_result"
    },
    {
     "data": {
      "text/plain": [
       "- : (int * int) list = [(1, 5); (2, 2); (3, 15)]\n"
      ]
     },
     "execution_count": 35,
     "metadata": {},
     "output_type": "execute_result"
    }
   ],
   "source": [
    "let replace k v d =\n",
    "  let rec loop l acc =\n",
    "    match l with\n",
    "    | (key, value) :: tl ->\n",
    "      if key = k then loop tl ((k, v) :: acc)\n",
    "      else loop tl ((key, value) :: acc)\n",
    "    | _ -> acc in\n",
    "  if key_exists k d then loop (List.rev d) [] else raise (Not_found)\n",
    ";;\n",
    "\n",
    "replace 2 2 [(1,5);(2,10);(3,15)];;"
   ]
  },
  {
   "cell_type": "markdown",
   "metadata": {},
   "source": [
    " * Write a function to build a dictionary from two equal length lists, one containing keys and another containing values. Raise the exception Invalid_argument if the lists are not of equal length."
   ]
  },
  {
   "cell_type": "code",
   "execution_count": 41,
   "metadata": {},
   "outputs": [
    {
     "data": {
      "text/plain": [
       "val zip : 'a list -> 'b list -> ('a * 'b) list = <fun>\n"
      ]
     },
     "execution_count": 41,
     "metadata": {},
     "output_type": "execute_result"
    },
    {
     "data": {
      "text/plain": [
       "- : (int * int) list = [(1, 2); (2, 4); (3, 6)]\n"
      ]
     },
     "execution_count": 41,
     "metadata": {},
     "output_type": "execute_result"
    },
    {
     "ename": "error",
     "evalue": "runtime_error",
     "output_type": "error",
     "traceback": [
      "\u001b[31mException: Invalid_argument \"zip\".\nRaised at file \"[41]\", line 7, characters 47-71\nCalled from file \"toplevel/toploop.ml\", line 180, characters 17-56\n\u001b[0m"
     ]
    }
   ],
   "source": [
    "let zip a b =\n",
    "  let rec loop a' b' acc =\n",
    "    match a', b' with\n",
    "    | ha :: ta, hb :: tb ->\n",
    "      loop ta tb ((ha, hb) :: acc)\n",
    "    | _, _ -> acc in\n",
    "  if List.length a <> List.length b then raise (Invalid_argument \"zip\")\n",
    "  else loop (List.rev a) (List.rev b) []\n",
    ";;\n",
    "\n",
    "zip [1;2;3] [2;4;6] ;;\n",
    "zip [1;2;3] [2;4;6;8]"
   ]
  },
  {
   "cell_type": "markdown",
   "metadata": {},
   "source": [
    " * Now write the inverse function: given a dictionary, return the pair of two lists – the first containing all the keys, and the second containing all the values."
   ]
  },
  {
   "cell_type": "code",
   "execution_count": 44,
   "metadata": {},
   "outputs": [
    {
     "data": {
      "text/plain": [
       "val unfold : ('a * 'b) list -> 'a list * 'b list = <fun>\n"
      ]
     },
     "execution_count": 44,
     "metadata": {},
     "output_type": "execute_result"
    },
    {
     "data": {
      "text/plain": [
       "val keys : int list = [1; 2; 3]\n",
       "val values : int list = [2; 4; 6]\n"
      ]
     },
     "execution_count": 44,
     "metadata": {},
     "output_type": "execute_result"
    }
   ],
   "source": [
    "let unfold d =\n",
    "  let rec loop l acc =\n",
    "    match l with\n",
    "    | (x, y) :: tl -> \n",
    "      let a, b = acc in\n",
    "      loop tl ((x :: a), (y :: b))\n",
    "    | _ -> acc in\n",
    "  loop (List.rev d) ([], [])\n",
    ";;\n",
    "\n",
    "let keys, values = unfold [(1, 2); (2, 4); (3, 6)]"
   ]
  },
  {
   "cell_type": "markdown",
   "metadata": {},
   "source": [
    " * Define a function to turn any list of pairs into a dictionary. If duplicate keys are found, the value associated with the first occurrence of the key should be kept."
   ]
  },
  {
   "cell_type": "code",
   "execution_count": 52,
   "metadata": {},
   "outputs": [
    {
     "data": {
      "text/plain": [
       "val make_dict : ('a * 'b) list -> ('a * 'b) list = <fun>\n"
      ]
     },
     "execution_count": 52,
     "metadata": {},
     "output_type": "execute_result"
    },
    {
     "data": {
      "text/plain": [
       "- : (int * int) list = [(1, 2); (2, 4); (3, 6)]\n"
      ]
     },
     "execution_count": 52,
     "metadata": {},
     "output_type": "execute_result"
    }
   ],
   "source": [
    "let make_dict l =\n",
    "  let rec loop l' acc =\n",
    "    match l' with\n",
    "    | (k, v) :: tl ->\n",
    "      if key_exists k acc then loop tl acc\n",
    "      else loop tl ((k, v) :: acc)\n",
    "    | _ -> acc in\n",
    "  List.rev (loop l []) (* There should be a way to get rid of that rev! *)\n",
    ";;\n",
    "\n",
    "make_dict [(1, 2); (2, 4); (3, 6); (2,10)]"
   ]
  },
  {
   "cell_type": "markdown",
   "metadata": {},
   "source": [
    " * Write the function `union a b` which forms the union of two dictionaries. The union of two dictionaries is the dictionary containing all the entries in one or other or both. In the case that a key is contained in both dictionaries, the value in the first should be preferred."
   ]
  },
  {
   "cell_type": "code",
   "execution_count": 63,
   "metadata": {},
   "outputs": [
    {
     "data": {
      "text/plain": [
       "val union : ('a * 'b) list -> ('a * 'b) list -> ('a * 'b) list = <fun>\n"
      ]
     },
     "execution_count": 63,
     "metadata": {},
     "output_type": "execute_result"
    },
    {
     "data": {
      "text/plain": [
       "- : (int * int) list = [(1, 2); (3, 4); (5, 6); (7, 8); (9, 0)]\n"
      ]
     },
     "execution_count": 63,
     "metadata": {},
     "output_type": "execute_result"
    }
   ],
   "source": [
    "let union a b =\n",
    "  let not x = if x = true then false else true in\n",
    "  let not_in x = let k, v = x in not (key_exists k a) in\n",
    "  let b' = List.filter not_in b in\n",
    "  a @ b'\n",
    ";;\n",
    "\n",
    "union [(1,2);(3,4);(5,6)] [(7,8);(9,0);(3,15)]"
   ]
  }
 ],
 "metadata": {
  "kernelspec": {
   "display_name": "OCaml 4.06.0",
   "language": "OCaml",
   "name": "ocaml-jupyter"
  },
  "language_info": {
   "codemirror_mode": "text/x-ocaml",
   "file_extension": ".ml",
   "mimetype": "text/x-ocaml",
   "name": "OCaml",
   "nbconverter_exporter": null,
   "pygments_lexer": "OCaml",
   "version": "4.06.0"
  }
 },
 "nbformat": 4,
 "nbformat_minor": 2
}
