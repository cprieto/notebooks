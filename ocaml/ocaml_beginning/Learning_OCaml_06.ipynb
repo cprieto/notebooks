{
 "cells": [
  {
   "cell_type": "markdown",
   "metadata": {},
   "source": [
    "# Chapter 6, Functions\n",
    "\n",
    "This is, in theory, the chapter where they will explain how common is to use functions inside functions with functions... It should be fun even when we had been doing this from the beginning.\n",
    "\n",
    "### Functions applying functions\n",
    "\n",
    "Let's get the double of a list"
   ]
  },
  {
   "cell_type": "code",
   "execution_count": 1,
   "metadata": {},
   "outputs": [
    {
     "data": {
      "text/plain": [
       "val double : int list -> int list = <fun>\n"
      ]
     },
     "execution_count": 1,
     "metadata": {},
     "output_type": "execute_result"
    },
    {
     "data": {
      "text/plain": [
       "- : int list = [2; 4; 6; 8]\n"
      ]
     },
     "execution_count": 1,
     "metadata": {},
     "output_type": "execute_result"
    }
   ],
   "source": [
    "let rec double l =\n",
    "  match l with\n",
    "  | hd :: tl -> (hd * 2) :: double tl\n",
    "  | _ -> [] ;;\n",
    "\n",
    "double [1;2;3;4]"
   ]
  },
  {
   "cell_type": "markdown",
   "metadata": {},
   "source": [
    "We can simplify with a function to apply functions, let's call it `map`, notice the signature!"
   ]
  },
  {
   "cell_type": "code",
   "execution_count": 2,
   "metadata": {},
   "outputs": [
    {
     "data": {
      "text/plain": [
       "val map : ('a -> 'b) -> 'a list -> 'b list = <fun>\n"
      ]
     },
     "execution_count": 2,
     "metadata": {},
     "output_type": "execute_result"
    }
   ],
   "source": [
    "(* This function is not tail recursive, \n",
    " * I know I can do it better *)\n",
    "let rec map f l =\n",
    "  match l with\n",
    "  | hd :: tl -> (f hd) :: map f tl\n",
    "  | _ -> [] ;;"
   ]
  },
  {
   "cell_type": "markdown",
   "metadata": {},
   "source": [
    "When we see a signature like that `('a -> 'b)` it basically means \"_a function taking `'a` and returning `'b`_\". Notice how OCaml is smart enough to infer the correct type for the parameters, you don't have to tell a damn and it is still strong typed.\n",
    "\n",
    "When we are using the function just once and we don't want to name it, we can do it as well:"
   ]
  },
  {
   "cell_type": "code",
   "execution_count": 3,
   "metadata": {},
   "outputs": [
    {
     "data": {
      "text/plain": [
       "- : int list = [2; 4; 6; 8]\n"
      ]
     },
     "execution_count": 3,
     "metadata": {},
     "output_type": "execute_result"
    }
   ],
   "source": [
    "map (fun x -> x * 2) [1;2;3;4]"
   ]
  },
  {
   "cell_type": "markdown",
   "metadata": {},
   "source": [
    "We can change our `merge` and `msort` functions to use our own operators for comparisson, in this case the operators should have the signature `('a -> 'a -> bool)` so the `merge` would be defined as `merge: ('a -> 'a -> bool) -> 'a list -> 'a list -> 'a list` and `msort` as `msort: ('a -> 'a -> bool) -> 'a list -> 'a list`:"
   ]
  },
  {
   "cell_type": "markdown",
   "metadata": {},
   "source": [
    "## Exercises\n",
    "\n",
    " * Write a simple recursive function calm to replace exclamation marks in a char list with periods. For example `calm ['H'; 'e'; 'l'; 'p'; '!'; ' '; 'F'; 'i'; 'r'; 'e'; '!']` should evaluate to `calm ['H'; 'e'; 'l'; 'p'; '.'; ' '; 'F'; 'i'; 'r'; 'e'; '.']`. Now rewrite your function to use map instead of recursion. What are the types of your functions?"
   ]
  },
  {
   "cell_type": "code",
   "execution_count": 5,
   "metadata": {},
   "outputs": [
    {
     "data": {
      "text/plain": [
       "val calm : char list -> char list = <fun>\n"
      ]
     },
     "execution_count": 5,
     "metadata": {},
     "output_type": "execute_result"
    },
    {
     "data": {
      "text/plain": [
       "- : char list = ['H'; 'e'; 'l'; 'p'; '.'; ' '; 'F'; 'i'; 'r'; 'e'; '.']\n"
      ]
     },
     "execution_count": 5,
     "metadata": {},
     "output_type": "execute_result"
    }
   ],
   "source": [
    "let rec calm l =\n",
    "  match l with\n",
    "  | hd :: tl -> if hd = '!' then '.' :: calm tl else hd :: calm tl\n",
    "  | _ -> [] ;;\n",
    "  \n",
    "calm ['H'; 'e'; 'l'; 'p'; '!'; ' '; 'F'; 'i'; 'r'; 'e'; '!']"
   ]
  },
  {
   "cell_type": "code",
   "execution_count": 7,
   "metadata": {},
   "outputs": [
    {
     "data": {
      "text/plain": [
       "val calm' : char list -> char list = <fun>\n"
      ]
     },
     "execution_count": 7,
     "metadata": {},
     "output_type": "execute_result"
    },
    {
     "data": {
      "text/plain": [
       "- : char list = ['H'; 'e'; 'l'; 'p'; '.'; ' '; 'F'; 'i'; 'r'; 'e'; '.']\n"
      ]
     },
     "execution_count": 7,
     "metadata": {},
     "output_type": "execute_result"
    }
   ],
   "source": [
    "let calm' l =\n",
    "  map (fun x -> if x = '!' then '.' else x) l ;;\n",
    "\n",
    "calm' ['H'; 'e'; 'l'; 'p'; '!'; ' '; 'F'; 'i'; 'r'; 'e'; '!']"
   ]
  },
  {
   "cell_type": "markdown",
   "metadata": {},
   "source": [
    " * Write a function `clip` which, given an integer, clips it to the range 1…10 so that integers bigger than 10 round down to 10, and those smaller than 1 round up to 1. Write another function `cliplist` which uses this first function together with `map` to apply this clipping to a whole list of integers."
   ]
  },
  {
   "cell_type": "code",
   "execution_count": 20,
   "metadata": {},
   "outputs": [
    {
     "data": {
      "text/plain": [
       "val clip : int -> int = <fun>\n"
      ]
     },
     "execution_count": 20,
     "metadata": {},
     "output_type": "execute_result"
    },
    {
     "data": {
      "text/plain": [
       "val cliplist : int list -> int list = <fun>\n"
      ]
     },
     "execution_count": 20,
     "metadata": {},
     "output_type": "execute_result"
    },
    {
     "data": {
      "text/plain": [
       "- : int list = [1; 10; 2; 5; 1; 1]\n"
      ]
     },
     "execution_count": 20,
     "metadata": {},
     "output_type": "execute_result"
    }
   ],
   "source": [
    "let clip n =\n",
    "  if n < 1 then 1 else\n",
    "  if n > 10 then 10 else n ;;\n",
    "  \n",
    "let cliplist l =\n",
    "  map clip l ;;\n",
    "\n",
    "cliplist [1; 14; 2; 5; (-15); 0]"
   ]
  },
  {
   "cell_type": "markdown",
   "metadata": {},
   "source": [
    " * Express your function `cliplist` again, this time using an anonymous function instead of `clip`."
   ]
  },
  {
   "cell_type": "code",
   "execution_count": 16,
   "metadata": {},
   "outputs": [
    {
     "data": {
      "text/plain": [
       "val cliplist' : int list -> int list = <fun>\n"
      ]
     },
     "execution_count": 16,
     "metadata": {},
     "output_type": "execute_result"
    },
    {
     "data": {
      "text/plain": [
       "- : int list = [1; 10; 2; 5; 1; 1]\n"
      ]
     },
     "execution_count": 16,
     "metadata": {},
     "output_type": "execute_result"
    }
   ],
   "source": [
    "let cliplist' l =\n",
    "  map (fun x -> if x < 1 then 1 else if x > 10 then 10 else x) l ;;\n",
    "  \n",
    "cliplist' [1; 14; 2; 5; (-15); 0]"
   ]
  },
  {
   "cell_type": "markdown",
   "metadata": {},
   "source": [
    " * Write a function `apply` which, given another function, a number of times to apply it, and an initial argument for the function, will return the cumulative effect of repeatedly applying the function. For instance, `apply f 6 4` should return `f (f (f (f (f (f 4))))))`. What is the type of your function?"
   ]
  },
  {
   "cell_type": "markdown",
   "metadata": {},
   "source": [
    "_I guess for this the type should be `('a -> 'b) -> int -> 'a -> 'b`_"
   ]
  },
  {
   "cell_type": "code",
   "execution_count": 19,
   "metadata": {},
   "outputs": [
    {
     "data": {
      "text/plain": [
       "val apply : ('a -> 'a) -> int -> 'a -> 'a = <fun>\n"
      ]
     },
     "execution_count": 19,
     "metadata": {},
     "output_type": "execute_result"
    }
   ],
   "source": [
    "let rec apply f n x =\n",
    "  if n = 0 then x else\n",
    "  apply f (n - 1) (f x) ;;"
   ]
  },
  {
   "cell_type": "markdown",
   "metadata": {},
   "source": [
    "_I was pleasenly surprised I was wrong with guessing the type! if you think about I would say the type of the function was `('a -> 'b)` but it doesn't make sense (and OCaml knew it) because you apply the function again with the same type as the entry parameter, so it should be `('a -> 'a)` and the type of the whole function should be then `('a -> 'a) -> int -> 'a -> 'a`_"
   ]
  },
  {
   "cell_type": "markdown",
   "metadata": {},
   "source": [
    "* Modify the insertion sort function from the preceding chapter to take a comparison function, in the same way that we modified merge sort in this chapter. What is its type?"
   ]
  },
  {
   "cell_type": "markdown",
   "metadata": {},
   "source": [
    "_I don't want to really do it, but I can guess its type, it would be `sort: ('a -> 'a -> bool) -> 'a list -> 'a list`._"
   ]
  },
  {
   "cell_type": "markdown",
   "metadata": {},
   "source": [
    " * Write a function `filter` which takes a function of type `α → bool` and an `α list` and returns a list of just those elements of the argument list for which the given function returns true."
   ]
  },
  {
   "cell_type": "code",
   "execution_count": 26,
   "metadata": {},
   "outputs": [
    {
     "data": {
      "text/plain": [
       "val filter : ('a -> bool) -> 'a list -> 'a list = <fun>\n"
      ]
     },
     "execution_count": 26,
     "metadata": {},
     "output_type": "execute_result"
    },
    {
     "data": {
      "text/plain": [
       "- : bool list = [true; true; true]\n"
      ]
     },
     "execution_count": 26,
     "metadata": {},
     "output_type": "execute_result"
    }
   ],
   "source": [
    "(* Guess what? tail recursive function again yo! *)\n",
    "\n",
    "let filter f l =\n",
    "  let rec loop f l' acc =\n",
    "    match l' with\n",
    "    | hd :: tl -> \n",
    "      let acc' = if f hd then hd :: acc else acc in\n",
    "      loop f tl acc'\n",
    "    | _ -> acc in\n",
    "  loop f l [] ;;\n",
    "  \n",
    "filter (fun x -> x = true) [true; true; false; true]"
   ]
  },
  {
   "cell_type": "markdown",
   "metadata": {},
   "source": [
    " * Write the function `for_all` which, given a function of type `α → bool` and an argument list of type `α list` evaluates to true if and only if the function returns true for every element of the list. Give examples of its use."
   ]
  },
  {
   "cell_type": "code",
   "execution_count": 31,
   "metadata": {},
   "outputs": [
    {
     "data": {
      "text/plain": [
       "val for_all : ('a -> bool) -> 'a list -> bool = <fun>\n"
      ]
     },
     "execution_count": 31,
     "metadata": {},
     "output_type": "execute_result"
    }
   ],
   "source": [
    "(* And this is tail recursive, \n",
    " * after doing it a few times it becomes a normal pattern :D *)\n",
    " \n",
    "let for_all f l =\n",
    "  let rec loop l' x =\n",
    "    if x = false then x else\n",
    "    match l' with\n",
    "    | hd :: tl -> loop tl (f hd)\n",
    "    | _ -> x in\n",
    "  loop l true ;;"
   ]
  },
  {
   "cell_type": "markdown",
   "metadata": {},
   "source": [
    " * Write a function `mapl` which maps a function of type `α → β` over a list of type `α list list` to produce a list of type `β list list`."
   ]
  },
  {
   "cell_type": "code",
   "execution_count": 42,
   "metadata": {},
   "outputs": [
    {
     "data": {
      "text/plain": [
       "val map' : ('a -> 'b) -> 'a list -> 'b list = <fun>\n"
      ]
     },
     "execution_count": 42,
     "metadata": {},
     "output_type": "execute_result"
    },
    {
     "data": {
      "text/plain": [
       "val mapl : ('a -> 'b) -> 'a list list -> 'b list list = <fun>\n"
      ]
     },
     "execution_count": 42,
     "metadata": {},
     "output_type": "execute_result"
    },
    {
     "data": {
      "text/plain": [
       "- : int list list = [[4; 8; 16]; [6; 12; 18]]\n"
      ]
     },
     "execution_count": 42,
     "metadata": {},
     "output_type": "execute_result"
    }
   ],
   "source": [
    "(* We will need a reverse function here, for the sake of simplicity \n",
    " * we will use the one in the standard library *)\n",
    "\n",
    "(* Let's make a better map function *)\n",
    "let map' f l =\n",
    "  let rec loop l' acc =\n",
    "    match l' with\n",
    "    | hd :: tl ->\n",
    "      let x = f hd in\n",
    "      loop tl (x :: acc)\n",
    "    | _ -> acc in\n",
    "  loop (List.rev l) [] ;;\n",
    "\n",
    "let mapl f l =\n",
    "  let rec loop l' acc =\n",
    "    match l' with\n",
    "    | hd :: tl ->\n",
    "      let x = map' f hd in\n",
    "      loop tl (x :: acc)\n",
    "    | _ -> acc in\n",
    "  loop (List.rev l) [] ;;\n",
    "  \n",
    "mapl (fun x -> x * 2) [[2;4;8];[3;6;9]]"
   ]
  }
 ],
 "metadata": {
  "kernelspec": {
   "display_name": "OCaml 4.06.0",
   "language": "OCaml",
   "name": "ocaml-jupyter"
  },
  "language_info": {
   "codemirror_mode": "text/x-ocaml",
   "file_extension": ".ml",
   "mimetype": "text/x-ocaml",
   "name": "OCaml",
   "nbconverter_exporter": null,
   "pygments_lexer": "OCaml",
   "version": "4.06.0"
  }
 },
 "nbformat": 4,
 "nbformat_minor": 2
}
