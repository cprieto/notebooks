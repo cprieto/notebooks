{
 "cells": [
  {
   "cell_type": "markdown",
   "metadata": {},
   "source": [
    "# 99 Problems in OCaml\n",
    "\n",
    "This is taken from [99 Problems (solved) in OCaml](http://ocaml.org/learn/tutorials/99problems.html) and I will try to solve them through the days, at least 5 a day, so it will be a total of 20 days!."
   ]
  },
  {
   "cell_type": "markdown",
   "metadata": {},
   "source": [
    "## Part 1, Lists"
   ]
  },
  {
   "cell_type": "markdown",
   "metadata": {},
   "source": [
    " * ** 1. Write a function last : `'a list -> 'a option` that returns the last element of a list. (_easy_)**"
   ]
  },
  {
   "cell_type": "code",
   "execution_count": 19,
   "metadata": {},
   "outputs": [
    {
     "data": {
      "text/plain": [
       "val last : 'a list -> 'a option = <fun>\n"
      ]
     },
     "execution_count": 19,
     "metadata": {},
     "output_type": "execute_result"
    },
    {
     "data": {
      "text/plain": [
       "- : string option = Some \"d\"\n"
      ]
     },
     "execution_count": 19,
     "metadata": {},
     "output_type": "execute_result"
    },
    {
     "data": {
      "text/plain": [
       "- : 'a option = None\n"
      ]
     },
     "execution_count": 19,
     "metadata": {},
     "output_type": "execute_result"
    }
   ],
   "source": [
    "let rec last = function\n",
    "  | [x] -> Some x\n",
    "  | [] -> None\n",
    "  | _ :: tl -> last tl\n",
    ";;\n",
    "\n",
    "last [ \"a\" ; \"b\" ; \"c\" ; \"d\" ];;\n",
    "last [];;"
   ]
  },
  {
   "cell_type": "markdown",
   "metadata": {},
   "source": [
    " * ** 2. Find the last but one (last and penultimate) elements of a list. (_easy_)**"
   ]
  },
  {
   "cell_type": "code",
   "execution_count": 20,
   "metadata": {},
   "outputs": [
    {
     "data": {
      "text/plain": [
       "val last_two : 'a list -> ('a * 'a) option = <fun>\n"
      ]
     },
     "execution_count": 20,
     "metadata": {},
     "output_type": "execute_result"
    },
    {
     "data": {
      "text/plain": [
       "- : (string * string) option = Some (\"c\", \"d\")\n"
      ]
     },
     "execution_count": 20,
     "metadata": {},
     "output_type": "execute_result"
    },
    {
     "data": {
      "text/plain": [
       "- : (string * string) option = None\n"
      ]
     },
     "execution_count": 20,
     "metadata": {},
     "output_type": "execute_result"
    }
   ],
   "source": [
    "let rec last_two = function\n",
    "  | [] | [_] -> None\n",
    "  | [x;y] -> Some (x, y)\n",
    "  | _ :: tl -> last_two tl\n",
    ";;\n",
    "\n",
    "last_two [ \"a\" ; \"b\" ; \"c\" ; \"d\" ];;\n",
    "last_two [ \"a\" ];;"
   ]
  },
  {
   "cell_type": "markdown",
   "metadata": {},
   "source": [
    " * ** 3. Find the `k'`th element of a list. (_easy_)**"
   ]
  },
  {
   "cell_type": "code",
   "execution_count": 22,
   "metadata": {},
   "outputs": [
    {
     "data": {
      "text/plain": [
       "val at : int -> 'a list -> 'a option = <fun>\n"
      ]
     },
     "execution_count": 22,
     "metadata": {},
     "output_type": "execute_result"
    },
    {
     "data": {
      "text/plain": [
       "- : string option = Some \"c\"\n"
      ]
     },
     "execution_count": 22,
     "metadata": {},
     "output_type": "execute_result"
    },
    {
     "data": {
      "text/plain": [
       "- : string option = None\n"
      ]
     },
     "execution_count": 22,
     "metadata": {},
     "output_type": "execute_result"
    }
   ],
   "source": [
    "let rec at k = function\n",
    "  | [] -> None\n",
    "  | hd :: _ when k = 1 -> Some hd\n",
    "  | _ :: tl -> at (k - 1) tl\n",
    ";;\n",
    "\n",
    "at 3 [ \"a\" ; \"b\"; \"c\"; \"d\"; \"e\" ];;\n",
    "at 3 [ \"a\" ];;"
   ]
  },
  {
   "cell_type": "markdown",
   "metadata": {},
   "source": [
    " * ** 4. Find the number of elements of a list. (_easy_)**"
   ]
  },
  {
   "cell_type": "code",
   "execution_count": 24,
   "metadata": {},
   "outputs": [
    {
     "data": {
      "text/plain": [
       "val length : 'a list -> int = <fun>\n"
      ]
     },
     "execution_count": 24,
     "metadata": {},
     "output_type": "execute_result"
    },
    {
     "data": {
      "text/plain": [
       "- : int = 3\n"
      ]
     },
     "execution_count": 24,
     "metadata": {},
     "output_type": "execute_result"
    },
    {
     "data": {
      "text/plain": [
       "- : int = 0\n"
      ]
     },
     "execution_count": 24,
     "metadata": {},
     "output_type": "execute_result"
    }
   ],
   "source": [
    "let length l =\n",
    "  let rec length' n = function\n",
    "    | [] -> n\n",
    "    | _ :: tl -> length' (n + 1) tl in\n",
    "  length' 0 l\n",
    ";;\n",
    "\n",
    "length [ \"a\" ; \"b\" ; \"c\"];;\n",
    "length [];;"
   ]
  },
  {
   "cell_type": "markdown",
   "metadata": {},
   "source": [
    " * ** 5. Reverse a list. (_easy_)**"
   ]
  },
  {
   "cell_type": "code",
   "execution_count": 25,
   "metadata": {},
   "outputs": [
    {
     "data": {
      "text/plain": [
       "val rev : 'a list -> 'a list = <fun>\n"
      ]
     },
     "execution_count": 25,
     "metadata": {},
     "output_type": "execute_result"
    },
    {
     "data": {
      "text/plain": [
       "- : string list = [\"c\"; \"b\"; \"a\"]\n"
      ]
     },
     "execution_count": 25,
     "metadata": {},
     "output_type": "execute_result"
    }
   ],
   "source": [
    "let rev l =\n",
    "  let rec rev' l' = function\n",
    "    | [] -> l'\n",
    "    | hd :: tl -> rev' (hd :: l') tl in\n",
    "  rev' [] l\n",
    ";;\n",
    "\n",
    "rev [\"a\" ; \"b\" ; \"c\"];;"
   ]
  },
  {
   "cell_type": "code",
   "execution_count": null,
   "metadata": {},
   "outputs": [],
   "source": []
  }
 ],
 "metadata": {
  "kernelspec": {
   "display_name": "OCaml 4.06.0",
   "language": "OCaml",
   "name": "ocaml-jupyter"
  },
  "language_info": {
   "codemirror_mode": "text/x-ocaml",
   "file_extension": ".ml",
   "mimetype": "text/x-ocaml",
   "name": "OCaml",
   "nbconverter_exporter": null,
   "pygments_lexer": "OCaml",
   "version": "4.06.0"
  }
 },
 "nbformat": 4,
 "nbformat_minor": 2
}
