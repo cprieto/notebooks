{
 "cells": [
  {
   "cell_type": "markdown",
   "metadata": {},
   "source": [
    "# 99 Problems in OCaml\n",
    "\n",
    "This is taken from [99 Problems (solved) in OCaml](http://ocaml.org/learn/tutorials/99problems.html) and I will try to solve them through the days, at least 5 a day, so it will be a total of 20 days!."
   ]
  },
  {
   "cell_type": "markdown",
   "metadata": {},
   "source": [
    "## Part 1, Lists"
   ]
  },
  {
   "cell_type": "markdown",
   "metadata": {},
   "source": [
    " * ** 1. Write a function last : `'a list -> 'a option` that returns the last element of a list. (_easy_)**"
   ]
  },
  {
   "cell_type": "code",
   "execution_count": 19,
   "metadata": {},
   "outputs": [
    {
     "data": {
      "text/plain": [
       "val last : 'a list -> 'a option = <fun>\n"
      ]
     },
     "execution_count": 19,
     "metadata": {},
     "output_type": "execute_result"
    },
    {
     "data": {
      "text/plain": [
       "- : string option = Some \"d\"\n"
      ]
     },
     "execution_count": 19,
     "metadata": {},
     "output_type": "execute_result"
    },
    {
     "data": {
      "text/plain": [
       "- : 'a option = None\n"
      ]
     },
     "execution_count": 19,
     "metadata": {},
     "output_type": "execute_result"
    }
   ],
   "source": [
    "let rec last = function\n",
    "  | [x] -> Some x\n",
    "  | [] -> None\n",
    "  | _ :: tl -> last tl\n",
    ";;\n",
    "\n",
    "last [ \"a\" ; \"b\" ; \"c\" ; \"d\" ];;\n",
    "last [];;"
   ]
  },
  {
   "cell_type": "markdown",
   "metadata": {},
   "source": [
    " * ** 2. Find the last but one (last and penultimate) elements of a list. (_easy_)**"
   ]
  },
  {
   "cell_type": "code",
   "execution_count": 20,
   "metadata": {},
   "outputs": [
    {
     "data": {
      "text/plain": [
       "val last_two : 'a list -> ('a * 'a) option = <fun>\n"
      ]
     },
     "execution_count": 20,
     "metadata": {},
     "output_type": "execute_result"
    },
    {
     "data": {
      "text/plain": [
       "- : (string * string) option = Some (\"c\", \"d\")\n"
      ]
     },
     "execution_count": 20,
     "metadata": {},
     "output_type": "execute_result"
    },
    {
     "data": {
      "text/plain": [
       "- : (string * string) option = None\n"
      ]
     },
     "execution_count": 20,
     "metadata": {},
     "output_type": "execute_result"
    }
   ],
   "source": [
    "let rec last_two = function\n",
    "  | [] | [_] -> None\n",
    "  | [x;y] -> Some (x, y)\n",
    "  | _ :: tl -> last_two tl\n",
    ";;\n",
    "\n",
    "last_two [ \"a\" ; \"b\" ; \"c\" ; \"d\" ];;\n",
    "last_two [ \"a\" ];;"
   ]
  },
  {
   "cell_type": "markdown",
   "metadata": {},
   "source": [
    " * ** 3. Find the `k'`th element of a list. (_easy_)**"
   ]
  },
  {
   "cell_type": "code",
   "execution_count": 22,
   "metadata": {},
   "outputs": [
    {
     "data": {
      "text/plain": [
       "val at : int -> 'a list -> 'a option = <fun>\n"
      ]
     },
     "execution_count": 22,
     "metadata": {},
     "output_type": "execute_result"
    },
    {
     "data": {
      "text/plain": [
       "- : string option = Some \"c\"\n"
      ]
     },
     "execution_count": 22,
     "metadata": {},
     "output_type": "execute_result"
    },
    {
     "data": {
      "text/plain": [
       "- : string option = None\n"
      ]
     },
     "execution_count": 22,
     "metadata": {},
     "output_type": "execute_result"
    }
   ],
   "source": [
    "let rec at k = function\n",
    "  | [] -> None\n",
    "  | hd :: _ when k = 1 -> Some hd\n",
    "  | _ :: tl -> at (k - 1) tl\n",
    ";;\n",
    "\n",
    "at 3 [ \"a\" ; \"b\"; \"c\"; \"d\"; \"e\" ];;\n",
    "at 3 [ \"a\" ];;"
   ]
  },
  {
   "cell_type": "markdown",
   "metadata": {},
   "source": [
    " * ** 4. Find the number of elements of a list. (_easy_)**"
   ]
  },
  {
   "cell_type": "code",
   "execution_count": 24,
   "metadata": {},
   "outputs": [
    {
     "data": {
      "text/plain": [
       "val length : 'a list -> int = <fun>\n"
      ]
     },
     "execution_count": 24,
     "metadata": {},
     "output_type": "execute_result"
    },
    {
     "data": {
      "text/plain": [
       "- : int = 3\n"
      ]
     },
     "execution_count": 24,
     "metadata": {},
     "output_type": "execute_result"
    },
    {
     "data": {
      "text/plain": [
       "- : int = 0\n"
      ]
     },
     "execution_count": 24,
     "metadata": {},
     "output_type": "execute_result"
    }
   ],
   "source": [
    "let length l =\n",
    "  let rec length' n = function\n",
    "    | [] -> n\n",
    "    | _ :: tl -> length' (n + 1) tl in\n",
    "  length' 0 l\n",
    ";;\n",
    "\n",
    "length [ \"a\" ; \"b\" ; \"c\"];;\n",
    "length [];;"
   ]
  },
  {
   "cell_type": "markdown",
   "metadata": {},
   "source": [
    " * ** 5. Reverse a list. (_easy_)**"
   ]
  },
  {
   "cell_type": "code",
   "execution_count": 25,
   "metadata": {},
   "outputs": [
    {
     "data": {
      "text/plain": [
       "val rev : 'a list -> 'a list = <fun>\n"
      ]
     },
     "execution_count": 25,
     "metadata": {},
     "output_type": "execute_result"
    },
    {
     "data": {
      "text/plain": [
       "- : string list = [\"c\"; \"b\"; \"a\"]\n"
      ]
     },
     "execution_count": 25,
     "metadata": {},
     "output_type": "execute_result"
    }
   ],
   "source": [
    "let rev l =\n",
    "  let rec rev' l' = function\n",
    "    | [] -> l'\n",
    "    | hd :: tl -> rev' (hd :: l') tl in\n",
    "  rev' [] l\n",
    ";;\n",
    "\n",
    "rev [\"a\" ; \"b\" ; \"c\"];;"
   ]
  },
  {
   "cell_type": "markdown",
   "metadata": {},
   "source": [
    " * **6. Find out whether a list is a palindrome. (_easy_)**"
   ]
  },
  {
   "cell_type": "code",
   "execution_count": 3,
   "metadata": {},
   "outputs": [
    {
     "data": {
      "text/plain": [
       "val is_palindrome : 'a Core.List.t -> bool = <fun>\n"
      ]
     },
     "execution_count": 3,
     "metadata": {},
     "output_type": "execute_result"
    },
    {
     "data": {
      "text/plain": [
       "- : bool = true\n"
      ]
     },
     "execution_count": 3,
     "metadata": {},
     "output_type": "execute_result"
    },
    {
     "data": {
      "text/plain": [
       "- : bool = true\n"
      ]
     },
     "execution_count": 3,
     "metadata": {},
     "output_type": "execute_result"
    }
   ],
   "source": [
    "let is_palindrome x =\n",
    "  let rev = List.rev x in\n",
    "  rev = x\n",
    ";;\n",
    "is_palindrome [ \"x\" ; \"a\" ; \"m\" ; \"a\" ; \"x\" ];;\n",
    "not (is_palindrome [ \"a\" ; \"b\" ]);;"
   ]
  },
  {
   "cell_type": "markdown",
   "metadata": {},
   "source": [
    " * ** 7. Flatten a nested list structure. (_medium_)**"
   ]
  },
  {
   "cell_type": "code",
   "execution_count": 60,
   "metadata": {},
   "outputs": [
    {
     "data": {
      "text/plain": [
       "type 'a node = One of 'a | Many of 'a node list\n"
      ]
     },
     "execution_count": 60,
     "metadata": {},
     "output_type": "execute_result"
    },
    {
     "data": {
      "text/plain": [
       "val flatten : 'a node list -> 'a Core.List.t = <fun>\n"
      ]
     },
     "execution_count": 60,
     "metadata": {},
     "output_type": "execute_result"
    },
    {
     "data": {
      "text/plain": [
       "- : string Core.List.t = [\"a\"; \"b\"; \"c\"; \"d\"; \"e\"]\n"
      ]
     },
     "execution_count": 60,
     "metadata": {},
     "output_type": "execute_result"
    }
   ],
   "source": [
    "type 'a node =\n",
    "  | One of 'a\n",
    "  | Many of 'a node list\n",
    ";;\n",
    "\n",
    "(* This function is not tail recursive! *)\n",
    "let flatten l =\n",
    "  let rec flatten' acc = function\n",
    "    | [] -> acc\n",
    "    | One x :: tl -> flatten' (x :: acc) tl\n",
    "    | Many hd :: tl -> flatten' (flatten' acc hd) tl in (* here we have a non tail call *)\n",
    "  List.rev (flatten' [] l)\n",
    ";;\n",
    "\n",
    "flatten [ One \"a\" ; Many [ One \"b\" ; Many [ One \"c\" ; One \"d\" ] ; One \"e\" ] ];;"
   ]
  },
  {
   "cell_type": "markdown",
   "metadata": {},
   "source": [
    " * ** 8. Eliminate consecutive duplicates of list elements. (_medium_)**"
   ]
  },
  {
   "cell_type": "code",
   "execution_count": 59,
   "metadata": {},
   "outputs": [
    {
     "data": {
      "text/plain": [
       "val compress : 'a list -> 'a Core.List.t = <fun>\n"
      ]
     },
     "execution_count": 59,
     "metadata": {},
     "output_type": "execute_result"
    },
    {
     "data": {
      "text/plain": [
       "- : string Core.List.t = [\"a\"; \"b\"; \"c\"; \"a\"; \"d\"; \"e\"]\n"
      ]
     },
     "execution_count": 59,
     "metadata": {},
     "output_type": "execute_result"
    }
   ],
   "source": [
    "let compress l =\n",
    "  let rec aux acc = function\n",
    "    | hd :: (hd' :: _ as tl) -> if hd = hd' then aux acc tl else aux (hd :: acc) tl\n",
    "    | [x] -> aux (x :: acc) []\n",
    "    | _ -> acc in\n",
    "  List.rev (aux [] l)\n",
    ";;\n",
    "compress [\"a\";\"a\";\"a\";\"a\";\"b\";\"c\";\"c\";\"a\";\"a\";\"d\";\"e\";\"e\";\"e\";\"e\"];;"
   ]
  },
  {
   "cell_type": "markdown",
   "metadata": {},
   "source": [
    " * ** 9. Pack consecutive duplicates of list elements into sublists. (_medium_)**"
   ]
  },
  {
   "cell_type": "code",
   "execution_count": 68,
   "metadata": {},
   "outputs": [
    {
     "data": {
      "text/plain": [
       "val pack : 'a list -> 'a list Core.List.t = <fun>\n"
      ]
     },
     "execution_count": 68,
     "metadata": {},
     "output_type": "execute_result"
    },
    {
     "data": {
      "text/plain": [
       "- : string list Core.List.t =\n",
       "[[\"a\"; \"a\"; \"a\"; \"a\"]; [\"b\"]; [\"c\"; \"c\"]; [\"a\"; \"a\"]; [\"d\"; \"d\"];\n",
       " [\"e\"; \"e\"; \"e\"; \"e\"]]\n"
      ]
     },
     "execution_count": 68,
     "metadata": {},
     "output_type": "execute_result"
    }
   ],
   "source": [
    "let pack l =\n",
    "  let rec aux cur acc = function\n",
    "    | [] -> []\n",
    "    | [x] -> (x :: cur) :: acc\n",
    "    | hd :: (hd' :: _ as tl) when hd = hd' -> aux (hd :: cur) acc tl\n",
    "    | hd :: tl -> aux [] ((hd :: cur) :: acc) tl in\n",
    "  List.rev (aux [] [] l)\n",
    ";;\n",
    "\n",
    "pack [\"a\";\"a\";\"a\";\"a\";\"b\";\"c\";\"c\";\"a\";\"a\";\"d\";\"d\";\"e\";\"e\";\"e\";\"e\"];;"
   ]
  },
  {
   "cell_type": "markdown",
   "metadata": {},
   "source": [
    " * ** 10. Run-length encoding of a list. (_easy_)**"
   ]
  },
  {
   "cell_type": "code",
   "execution_count": 66,
   "metadata": {},
   "outputs": [
    {
     "data": {
      "text/plain": [
       "val encode : 'a list -> (int * 'a) Core.List.t = <fun>\n"
      ]
     },
     "execution_count": 66,
     "metadata": {},
     "output_type": "execute_result"
    },
    {
     "data": {
      "text/plain": [
       "- : (int * string) Core.List.t =\n",
       "[(4, \"a\"); (1, \"b\"); (2, \"c\"); (2, \"a\"); (2, \"d\"); (4, \"e\")]\n"
      ]
     },
     "execution_count": 66,
     "metadata": {},
     "output_type": "execute_result"
    }
   ],
   "source": [
    "let encode l =\n",
    "  let rec aux count acc = function\n",
    "    | [] -> []\n",
    "    | [x] -> (count + 1, x) :: acc\n",
    "    | hd :: (hd' :: _ as tl) when hd = hd' -> aux (count + 1) acc tl\n",
    "    | hd :: tl -> aux 0 ((count + 1, hd) :: acc) tl in\n",
    "  List.rev (aux 0 [] l)\n",
    ";;\n",
    "\n",
    "encode [\"a\";\"a\";\"a\";\"a\";\"b\";\"c\";\"c\";\"a\";\"a\";\"d\";\"d\";\"e\";\"e\";\"e\";\"e\"];;"
   ]
  },
  {
   "cell_type": "markdown",
   "metadata": {},
   "source": [
    " * **11. Modified run-length encoding. (_easy_)**\n",
    " \n",
    "Modify the result of the previous problem in such a way that if an element has no duplicates it is simply copied into the result list. Only elements with duplicates are transferred as (N E) lists.\n",
    "\n",
    "Since OCaml lists are homogeneous, one needs to define a type to hold both single elements and sub-lists."
   ]
  },
  {
   "cell_type": "code",
   "execution_count": 1,
   "metadata": {},
   "outputs": [
    {
     "data": {
      "text/plain": [
       "type 'a rle = One of 'a | Many of int * 'a\n"
      ]
     },
     "execution_count": 1,
     "metadata": {},
     "output_type": "execute_result"
    }
   ],
   "source": [
    "type 'a rle =\n",
    "  | One of 'a\n",
    "  | Many of int * 'a\n",
    ";;"
   ]
  },
  {
   "cell_type": "code",
   "execution_count": 18,
   "metadata": {},
   "outputs": [
    {
     "data": {
      "text/plain": [
       "val encode : 'a list -> 'a rle Core.List.t = <fun>\n"
      ]
     },
     "execution_count": 18,
     "metadata": {},
     "output_type": "execute_result"
    },
    {
     "data": {
      "text/plain": [
       "- : string rle Core.List.t =\n",
       "[Many (4, \"a\"); Many (1, \"b\"); One \"c\"; One \"a\"; Many (1, \"d\");\n",
       " Many (4, \"e\")]\n"
      ]
     },
     "execution_count": 18,
     "metadata": {},
     "output_type": "execute_result"
    }
   ],
   "source": [
    "let encode l =\n",
    "  let rle count item = \n",
    "    if count = 1 then One item else Many (count + 1, item) in\n",
    "  let rec aux count acc = function\n",
    "    | [] -> []\n",
    "    | [x] -> rle count x :: acc\n",
    "    | hd :: (hd' :: _ as tl) when hd = hd' -> aux (count + 1) acc tl\n",
    "    | hd :: tl -> aux 0 (rle count hd :: acc) tl in\n",
    "  List.rev (aux 0 [] l)\n",
    ";;\n",
    "\n",
    "encode [\"a\";\"a\";\"a\";\"a\";\"b\";\"c\";\"c\";\"a\";\"a\";\"d\";\"e\";\"e\";\"e\";\"e\"];;"
   ]
  },
  {
   "cell_type": "markdown",
   "metadata": {},
   "source": [
    " * **12. Decode a run-length encoded list. (_medium_)**"
   ]
  },
  {
   "cell_type": "code",
   "execution_count": 17,
   "metadata": {},
   "outputs": [
    {
     "data": {
      "text/plain": [
       "val decode : 'a rle Core.List.t -> 'a list = <fun>\n"
      ]
     },
     "execution_count": 17,
     "metadata": {},
     "output_type": "execute_result"
    },
    {
     "data": {
      "text/plain": [
       "- : string list =\n",
       "[\"a\"; \"a\"; \"a\"; \"a\"; \"b\"; \"c\"; \"c\"; \"a\"; \"a\"; \"d\"; \"e\"; \"e\"; \"e\"; \"e\"]\n"
      ]
     },
     "execution_count": 17,
     "metadata": {},
     "output_type": "execute_result"
    }
   ],
   "source": [
    "let decode l =\n",
    "  let rec many acc count item =\n",
    "    if count = 0 then acc\n",
    "    else many (item :: acc) (count - 1) item in\n",
    "  let rec aux acc = function\n",
    "    | [] -> acc\n",
    "    | (One item) :: tl -> aux (item :: acc) tl\n",
    "    | (Many (count, item)) :: tl -> aux (many acc count item) tl in\n",
    "  aux [] (List.rev l)\n",
    ";;\n",
    "\n",
    "decode [Many (4,\"a\"); One \"b\"; Many (2,\"c\"); Many (2,\"a\"); One \"d\"; Many (4,\"e\")];;"
   ]
  },
  {
   "cell_type": "markdown",
   "metadata": {},
   "source": [
    " * **13. Run-length encoding of a list (direct solution). (_medium_)**"
   ]
  },
  {
   "cell_type": "markdown",
   "metadata": {},
   "source": [
    "This is basically the same as **11**, so I don't understand the question..."
   ]
  },
  {
   "cell_type": "markdown",
   "metadata": {},
   "source": [
    " * **14. Duplicate the elements of a list. (_easy_)**"
   ]
  },
  {
   "cell_type": "code",
   "execution_count": 21,
   "metadata": {},
   "outputs": [
    {
     "data": {
      "text/plain": [
       "val duplicate : 'a Core.List.t -> 'a list = <fun>\n"
      ]
     },
     "execution_count": 21,
     "metadata": {},
     "output_type": "execute_result"
    },
    {
     "data": {
      "text/plain": [
       "- : string list = [\"a\"; \"a\"; \"b\"; \"b\"; \"c\"; \"c\"; \"c\"; \"c\"; \"d\"; \"d\"]\n"
      ]
     },
     "execution_count": 21,
     "metadata": {},
     "output_type": "execute_result"
    }
   ],
   "source": [
    "let duplicate l =\n",
    "  let rec aux acc = function\n",
    "    | hd :: tl -> aux (hd :: hd :: acc) tl\n",
    "    | _ -> acc in\n",
    "  aux [] (List.rev l)\n",
    ";;\n",
    "\n",
    "duplicate [\"a\";\"b\";\"c\";\"c\";\"d\"];;"
   ]
  },
  {
   "cell_type": "markdown",
   "metadata": {},
   "source": [
    " * **15. Replicate the elements of a list a given number of times. (_medium_)**"
   ]
  },
  {
   "cell_type": "code",
   "execution_count": 24,
   "metadata": {},
   "outputs": [
    {
     "data": {
      "text/plain": [
       "val replicate : 'a Core.List.t -> int -> 'a list = <fun>\n"
      ]
     },
     "execution_count": 24,
     "metadata": {},
     "output_type": "execute_result"
    },
    {
     "data": {
      "text/plain": [
       "- : string list = [\"a\"; \"a\"; \"a\"; \"b\"; \"b\"; \"b\"; \"c\"; \"c\"; \"c\"]\n"
      ]
     },
     "execution_count": 24,
     "metadata": {},
     "output_type": "execute_result"
    }
   ],
   "source": [
    "let replicate l n =\n",
    "  let rec many acc count item =\n",
    "    if count = 0 then acc\n",
    "    else many (item :: acc) (count - 1) item in\n",
    "  let rec aux acc = function\n",
    "    | hd :: tl -> aux (many acc n hd) tl\n",
    "    | _ -> acc in\n",
    "  aux [] (List.rev l)\n",
    ";;\n",
    "\n",
    "replicate [\"a\";\"b\";\"c\"] 3;;"
   ]
  },
  {
   "cell_type": "markdown",
   "metadata": {},
   "source": [
    " * **16. Drop every N'th element from a list. (_medium_)**"
   ]
  },
  {
   "cell_type": "code",
   "execution_count": 3,
   "metadata": {},
   "outputs": [
    {
     "data": {
      "text/plain": [
       "val drop : 'a list -> int -> 'a Core.List.t = <fun>\n"
      ]
     },
     "execution_count": 3,
     "metadata": {},
     "output_type": "execute_result"
    },
    {
     "data": {
      "text/plain": [
       "- : string Core.List.t = [\"a\"; \"b\"; \"d\"; \"e\"; \"g\"; \"h\"; \"j\"]\n"
      ]
     },
     "execution_count": 3,
     "metadata": {},
     "output_type": "execute_result"
    }
   ],
   "source": [
    "let drop l n =\n",
    "  let rec drop' acc count = function\n",
    "    | _ :: tl when count = n -> drop' acc 1 tl\n",
    "    | hd :: tl -> drop' (hd :: acc) (count + 1) tl\n",
    "    | _ -> acc in\n",
    "  List.rev (drop' [] 1 l)\n",
    ";;\n",
    "drop [\"a\";\"b\";\"c\";\"d\";\"e\";\"f\";\"g\";\"h\";\"i\";\"j\"] 3;;"
   ]
  },
  {
   "cell_type": "markdown",
   "metadata": {},
   "source": [
    " * **17. Split a list into two parts; the length of the first part is given. (_easy_)**"
   ]
  },
  {
   "cell_type": "code",
   "execution_count": 13,
   "metadata": {},
   "outputs": [
    {
     "data": {
      "text/plain": [
       "val split : 'a list -> int -> 'a Core.List.t * 'a list = <fun>\n"
      ]
     },
     "execution_count": 13,
     "metadata": {},
     "output_type": "execute_result"
    },
    {
     "data": {
      "text/plain": [
       "- : string Core.List.t * string list =\n",
       "([\"a\"; \"b\"; \"c\"], [\"d\"; \"e\"; \"f\"; \"g\"; \"h\"; \"i\"; \"j\"])\n"
      ]
     },
     "execution_count": 13,
     "metadata": {},
     "output_type": "execute_result"
    },
    {
     "data": {
      "text/plain": [
       "- : string Core.List.t * string list = ([\"a\"; \"b\"; \"c\"; \"d\"], [])\n"
      ]
     },
     "execution_count": 13,
     "metadata": {},
     "output_type": "execute_result"
    }
   ],
   "source": [
    "let split l n =\n",
    "  let rec aux acc count = function\n",
    "    | hd :: tl when count = n -> List.rev(hd :: acc), tl\n",
    "    | hd :: tl -> aux (hd :: acc) (count + 1) tl\n",
    "    | [] -> List.rev(acc), [] in\n",
    "  aux [] 1 l\n",
    ";;\n",
    "split [\"a\";\"b\";\"c\";\"d\";\"e\";\"f\";\"g\";\"h\";\"i\";\"j\"] 3 ;;\n",
    "split [\"a\";\"b\";\"c\";\"d\"] 5;;"
   ]
  },
  {
   "cell_type": "markdown",
   "metadata": {},
   "source": [
    " * **18. Extract a slice from a list. (_medium_)**\n",
    " \n",
    " Given two indices, `i` and `k`, the slice is the list containing the elements between the `i`'th and `k`'th element of the original list (both limits included). Start counting the elements with 0 (this is the way the `List` module numbers elements)."
   ]
  },
  {
   "cell_type": "code",
   "execution_count": 26,
   "metadata": {},
   "outputs": [
    {
     "data": {
      "text/plain": [
       "val slice : int -> int -> 'a list -> 'a Core.List.t = <fun>\n"
      ]
     },
     "execution_count": 26,
     "metadata": {},
     "output_type": "execute_result"
    },
    {
     "data": {
      "text/plain": [
       "- : string Core.List.t = [\"c\"; \"d\"; \"e\"; \"f\"; \"g\"]\n"
      ]
     },
     "execution_count": 26,
     "metadata": {},
     "output_type": "execute_result"
    }
   ],
   "source": [
    "let slice i k l =\n",
    "  let rec aux index acc = function\n",
    "    | _ :: _ when index > k -> List.rev acc\n",
    "    | hd :: tl when index >= i -> aux (index + 1) (hd :: acc) tl\n",
    "    | _ :: tl -> aux (index + 1) acc tl\n",
    "    | _ -> List.rev acc in\n",
    "  if i > k then raise (Invalid_argument \"slice\") else aux 0 [] l\n",
    ";;\n",
    "\n",
    "slice 2 6 [\"a\";\"b\";\"c\";\"d\";\"e\";\"f\";\"g\";\"h\";\"i\";\"j\"];;"
   ]
  },
  {
   "cell_type": "markdown",
   "metadata": {},
   "source": [
    " * **19. Rotate a list N places to the left. (_medium_)**"
   ]
  },
  {
   "cell_type": "code",
   "execution_count": 31,
   "metadata": {},
   "outputs": [
    {
     "data": {
      "text/plain": [
       "val rotate : int -> 'a Core.List.t -> 'a Base__List.t = <fun>\n"
      ]
     },
     "execution_count": 31,
     "metadata": {},
     "output_type": "execute_result"
    },
    {
     "data": {
      "text/plain": [
       "- : string Base__List.t = [\"d\"; \"e\"; \"f\"; \"g\"; \"h\"; \"a\"; \"b\"; \"c\"]\n"
      ]
     },
     "execution_count": 31,
     "metadata": {},
     "output_type": "execute_result"
    }
   ],
   "source": [
    "let rotate n l =\n",
    "  let len = List.length l in\n",
    "  let pos = (n mod len + len) mod len in (* don't ask me... *)\n",
    "  let rec aux index acc = function\n",
    "    | hd :: tl when index = pos -> tl @ (List.rev (hd :: acc))\n",
    "    | hd :: tl -> aux (index + 1) (hd :: acc) tl\n",
    "    | _ -> acc in\n",
    "  aux 1 [] l\n",
    ";;\n",
    "\n",
    "rotate 3 [\"a\"; \"b\"; \"c\"; \"d\"; \"e\"; \"f\"; \"g\"; \"h\"];;"
   ]
  },
  {
   "cell_type": "markdown",
   "metadata": {},
   "source": [
    " * **20. Remove the `K`'th element from a list. (_easy_)**\n",
    "\n",
    "The first element of the list is numbered 0, the second 1,..."
   ]
  },
  {
   "cell_type": "code",
   "execution_count": 33,
   "metadata": {},
   "outputs": [
    {
     "data": {
      "text/plain": [
       "val remove_at : int -> 'a list -> 'a Base__List.t = <fun>\n"
      ]
     },
     "execution_count": 33,
     "metadata": {},
     "output_type": "execute_result"
    },
    {
     "data": {
      "text/plain": [
       "- : string Base__List.t = [\"a\"; \"c\"; \"d\"]\n"
      ]
     },
     "execution_count": 33,
     "metadata": {},
     "output_type": "execute_result"
    }
   ],
   "source": [
    "let remove_at k list =\n",
    "  let rec aux index acc = function\n",
    "    | _ :: tl when index = k -> (List.rev acc) @ tl\n",
    "    | hd :: tl -> aux (index + 1) (hd :: acc) tl\n",
    "    | _ -> acc in\n",
    "  aux 0 [] list\n",
    ";;\n",
    "\n",
    "remove_at 1 [\"a\";\"b\";\"c\";\"d\"];;"
   ]
  },
  {
   "cell_type": "code",
   "execution_count": null,
   "metadata": {},
   "outputs": [],
   "source": []
  }
 ],
 "metadata": {
  "kernelspec": {
   "display_name": "OCaml 4.06.0",
   "language": "OCaml",
   "name": "ocaml-jupyter"
  },
  "language_info": {
   "codemirror_mode": "text/x-ocaml",
   "file_extension": ".ml",
   "mimetype": "text/x-ocaml",
   "name": "OCaml",
   "nbconverter_exporter": null,
   "pygments_lexer": "OCaml",
   "version": "4.06.0"
  }
 },
 "nbformat": 4,
 "nbformat_minor": 2
}
