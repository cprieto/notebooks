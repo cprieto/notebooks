{
 "cells": [
  {
   "cell_type": "markdown",
   "metadata": {},
   "source": [
    "# Chapter 7, Exceptions\n",
    "\n",
    "Now it is time to see how to handle errors and raise exceptions (intentionally of course!).\n",
    "\n",
    "Let's rewrite `take` and `drop` to raise an `Invalid_argument` exception if the `n` argument is negative or bigger than the length of the list."
   ]
  },
  {
   "cell_type": "code",
   "execution_count": 1,
   "metadata": {},
   "outputs": [
    {
     "data": {
      "text/plain": [
       "val take : int -> 'a list -> 'a list = <fun>\n"
      ]
     },
     "execution_count": 1,
     "metadata": {},
     "output_type": "execute_result"
    },
    {
     "data": {
      "text/plain": [
       "val drop : int -> 'a list -> 'a list = <fun>\n"
      ]
     },
     "execution_count": 1,
     "metadata": {},
     "output_type": "execute_result"
    }
   ],
   "source": [
    "let rec take n l =\n",
    "  match l with\n",
    "  | [] -> \n",
    "    if n = 0 then [] else raise (Invalid_argument \"take\")\n",
    "  | hd :: tl ->\n",
    "    if n < 0 then raise (Invalid_argument \"take\") else\n",
    "    if n = 0 then [] else hd :: take (n -1) tl\n",
    ";;\n",
    "\n",
    "let rec drop n l =\n",
    "  match l with\n",
    "  | [] ->\n",
    "    if n = 0 then [] else raise (Invalid_argument \"drop\")\n",
    "  | hd :: tl ->\n",
    "    if n < 0 then raise (Invalid_argument \"drop\") else\n",
    "    if n = 0 then l else drop (n - 1) tl\n",
    ";;"
   ]
  },
  {
   "cell_type": "markdown",
   "metadata": {},
   "source": [
    "Notice the parenthesis in the raise!\n",
    "\n",
    "### Declaring your own type of exceptions\n",
    "\n",
    "Pretty simple, you put the name and a type if you want to put one, take a look:"
   ]
  },
  {
   "cell_type": "code",
   "execution_count": 4,
   "metadata": {},
   "outputs": [
    {
     "data": {
      "text/plain": [
       "exception Problem\n"
      ]
     },
     "execution_count": 4,
     "metadata": {},
     "output_type": "execute_result"
    },
    {
     "data": {
      "text/plain": [
       "exception NotPrime of int\n"
      ]
     },
     "execution_count": 4,
     "metadata": {},
     "output_type": "execute_result"
    }
   ],
   "source": [
    "exception Problem ;;\n",
    "exception NotPrime of int ;;"
   ]
  },
  {
   "cell_type": "markdown",
   "metadata": {},
   "source": [
    "### Handling exceptions\n",
    "\n",
    "The same as declaring exceptions, this is easy, with a `try` construct similar to a `match` construct"
   ]
  },
  {
   "cell_type": "code",
   "execution_count": 5,
   "metadata": {},
   "outputs": [
    {
     "data": {
      "text/plain": [
       "val safe_divide : int -> int -> int = <fun>\n"
      ]
     },
     "execution_count": 5,
     "metadata": {},
     "output_type": "execute_result"
    }
   ],
   "source": [
    "let safe_divide x y =\n",
    "  try x / y with\n",
    "    Division_by_zero -> 0\n",
    ";;"
   ]
  },
  {
   "cell_type": "markdown",
   "metadata": {},
   "source": [
    "Notice two things:\n",
    "  * You _always_ need to return a value, so when an exception occurs we return 0 or do something else\n",
    "  * The type of exception we can _raise_ doesn't appear in the signature of the method...\n",
    "  \n",
    "## Exercises\n",
    "\n",
    " * Write a function `smallest` which returns the smallest positive element of a list of integers. If there is no positive element, it should raise the built-in `Not_found` exception."
   ]
  },
  {
   "cell_type": "code",
   "execution_count": 29,
   "metadata": {},
   "outputs": [
    {
     "data": {
      "text/plain": [
       "val filter : ('a -> bool) -> 'a list -> 'a list = <fun>\n"
      ]
     },
     "execution_count": 29,
     "metadata": {},
     "output_type": "execute_result"
    },
    {
     "data": {
      "text/plain": [
       "val smallest : int list -> int = <fun>\n"
      ]
     },
     "execution_count": 29,
     "metadata": {},
     "output_type": "execute_result"
    },
    {
     "data": {
      "text/plain": [
       "- : int = 3\n"
      ]
     },
     "execution_count": 29,
     "metadata": {},
     "output_type": "execute_result"
    }
   ],
   "source": [
    "(* We need a filter function here... *)\n",
    "\n",
    "let filter f l =\n",
    "  let rec loop f l' acc =\n",
    "    match l' with\n",
    "    | hd :: tl -> \n",
    "      let acc' = if f hd then hd :: acc else acc in\n",
    "      loop f tl acc'\n",
    "    | _ -> acc in\n",
    "  loop f l [] \n",
    ";;\n",
    "\n",
    "let smallest l =\n",
    "  let rec loop l' min =\n",
    "    match l' with\n",
    "    | hd :: tl -> \n",
    "      if min = 0 then loop tl hd else\n",
    "      if hd < min then loop tl hd else \n",
    "      loop tl min\n",
    "    | _ -> \n",
    "      if min > 0 then min else raise (Not_found) in\n",
    "  loop (filter (fun x -> x > 0) l) 0\n",
    ";;\n",
    "\n",
    "smallest [0;-4;3]"
   ]
  },
  {
   "cell_type": "markdown",
   "metadata": {},
   "source": [
    " * Write another function `smallest_or_zero` which uses the smallest function but if `Not_found` is raised, returns zero."
   ]
  },
  {
   "cell_type": "code",
   "execution_count": 28,
   "metadata": {},
   "outputs": [
    {
     "data": {
      "text/plain": [
       "val smallest_or_zero : int list -> int = <fun>\n"
      ]
     },
     "execution_count": 28,
     "metadata": {},
     "output_type": "execute_result"
    },
    {
     "data": {
      "text/plain": [
       "- : int = 0\n"
      ]
     },
     "execution_count": 28,
     "metadata": {},
     "output_type": "execute_result"
    }
   ],
   "source": [
    "let smallest_or_zero l =\n",
    "  try smallest l with\n",
    "    Not_found -> 0\n",
    ";;\n",
    "\n",
    "smallest_or_zero [0;-1]"
   ]
  },
  {
   "cell_type": "markdown",
   "metadata": {},
   "source": [
    " * Write an exception definition and a function which calculates the _largest integer smaller than or equal to the square root of a given integer_. If the argument is negative, the exception should be raised."
   ]
  },
  {
   "cell_type": "code",
   "execution_count": 44,
   "metadata": {},
   "outputs": [
    {
     "data": {
      "text/plain": [
       "exception Whatever_error\n"
      ]
     },
     "execution_count": 44,
     "metadata": {},
     "output_type": "execute_result"
    },
    {
     "data": {
      "text/plain": [
       "val calculate_stuff : int -> int = <fun>\n"
      ]
     },
     "execution_count": 44,
     "metadata": {},
     "output_type": "execute_result"
    },
    {
     "data": {
      "text/plain": [
       "- : int = 6\n"
      ]
     },
     "execution_count": 44,
     "metadata": {},
     "output_type": "execute_result"
    },
    {
     "ename": "error",
     "evalue": "runtime_error",
     "output_type": "error",
     "traceback": [
      "\u001b[31mException: Whatever_error.\nRaised at file \"[44]\", line 6, characters 22-38\nCalled from file \"toplevel/toploop.ml\", line 180, characters 17-56\n\u001b[0m"
     ]
    }
   ],
   "source": [
    "exception Whatever_error ;;\n",
    "\n",
    "let calculate_stuff n =\n",
    "  let rec loop x =\n",
    "    if x * x > n then x - 1 else loop (x + 1) in\n",
    "  if n < 0 then raise (Whatever_error) else loop 1\n",
    ";;\n",
    "\n",
    "calculate_stuff 37 ;;\n",
    "calculate_stuff (-37)"
   ]
  },
  {
   "cell_type": "markdown",
   "metadata": {},
   "source": [
    " * Write another function which uses the previous one, but handles the exception, and simply returns zero when a suitable integer cannot be found."
   ]
  },
  {
   "cell_type": "code",
   "execution_count": 46,
   "metadata": {},
   "outputs": [
    {
     "data": {
      "text/plain": [
       "val calculate_stuff_or_zero : int -> int = <fun>\n"
      ]
     },
     "execution_count": 46,
     "metadata": {},
     "output_type": "execute_result"
    },
    {
     "data": {
      "text/plain": [
       "- : int = 6\n"
      ]
     },
     "execution_count": 46,
     "metadata": {},
     "output_type": "execute_result"
    },
    {
     "data": {
      "text/plain": [
       "- : int = 0\n"
      ]
     },
     "execution_count": 46,
     "metadata": {},
     "output_type": "execute_result"
    }
   ],
   "source": [
    "let calculate_stuff_or_zero n =\n",
    "  try calculate_stuff n with\n",
    "  | Whatever_error -> 0\n",
    ";;\n",
    "\n",
    "calculate_stuff_or_zero 37 ;;\n",
    "calculate_stuff_or_zero (-37)"
   ]
  },
  {
   "cell_type": "markdown",
   "metadata": {},
   "source": [
    " * Comment on the merits and demerits of exceptions as a method for dealing with exceptional situations, in contrast to returning a special value to indicate an error (such as -1 for a function normally returning a positive number).\n",
    " \n",
    "_Yeah nah_"
   ]
  },
  {
   "cell_type": "code",
   "execution_count": null,
   "metadata": {},
   "outputs": [],
   "source": []
  }
 ],
 "metadata": {
  "kernelspec": {
   "display_name": "OCaml 4.06.0",
   "language": "OCaml",
   "name": "ocaml-jupyter"
  },
  "language_info": {
   "codemirror_mode": "text/x-ocaml",
   "file_extension": ".ml",
   "mimetype": "text/x-ocaml",
   "name": "OCaml",
   "nbconverter_exporter": null,
   "pygments_lexer": "OCaml",
   "version": "4.06.0"
  }
 },
 "nbformat": 4,
 "nbformat_minor": 2
}
